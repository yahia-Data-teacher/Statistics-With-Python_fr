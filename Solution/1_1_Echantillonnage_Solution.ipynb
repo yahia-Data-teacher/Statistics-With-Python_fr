{
    "cells": [
        {
            "cell_type": "markdown",
            "metadata": {
                "id": "view-in-github",
                "colab_type": "text"
            },
            "source": [
                "<a href=\"https://colab.research.google.com/github/yahia-kplr/Statistics-With-Python_fr/blob/main/Solution/1_1_Echantillonnage_Solution.ipynb\" target=\"_blank\"><img src=\"https://colab.research.google.com/assets/colab-badge.svg\" alt=\"Open In Colab\"/></a>"
            ]
        },
        {
            "attachments": {},
            "cell_type": "markdown",
            "metadata": {},
            "source": [
                "# \u00c9chantillonnage - Solution\n"
            ]
        },
        {
            "cell_type": "markdown",
            "metadata": {},
            "source": [
                "Dans ce chapitre, nous avons discut\u00e9 de certains probl\u00e8mes fondamentaux li\u00e9s \u00e0 l'\u00e9chantillonnage. Dans ce cahier, vous explorerez quelques m\u00e9thodes python pratiques pour l'\u00e9chantillonnage et examinerez les implications de l'\u00e9chantillonnage sur ce que vous comprenez d'un groupe cible (c'est-\u00e0-dire ce que vous pouvez g\u00e9n\u00e9raliser).\n"
            ]
        },
        {
            "cell_type": "markdown",
            "metadata": {},
            "source": [
                "## Importation et utilisation de fonctions existantes\n"
            ]
        },
        {
            "cell_type": "code",
            "execution_count": 1,
            "metadata": {},
            "outputs": [],
            "source": [
                "import numpy as np\n",
                "import numpy.random as npr\n",
                "import pandas as pd\n",
                "import seaborn as sns"
            ]
        },
        {
            "cell_type": "markdown",
            "metadata": {},
            "source": [
                "## Probl\u00e8me 0 : Amor\u00e7age d'un g\u00e9n\u00e9rateur de nombres al\u00e9atoires\n"
            ]
        },
        {
            "cell_type": "markdown",
            "metadata": {},
            "source": [
                "Lorsque nous utilisons l'ordinateur pour jouer avec des nombres al\u00e9atoires (ou des \u00e9chantillons al\u00e9atoires), nous n'utilisons pas r\u00e9ellement de nombres al\u00e9atoires. D'une mani\u00e8re g\u00e9n\u00e9rale, votre ordinateur est une machine d\u00e9terministe, il est donc incapable de cr\u00e9er des nombres v\u00e9ritablement al\u00e9atoires. Au lieu de cela, les nombres que votre ordinateur vous donne sont appel\u00e9s pseudo-al\u00e9atoires car ils poss\u00e8dent de nombreuses propri\u00e9t\u00e9s que nous attendons des nombres al\u00e9atoires, mais ne sont pas exactement et enti\u00e8rement al\u00e9atoires.\n",
                "\n",
                "Chaque fois que nous utilisons des nombres al\u00e9atoires dans un script, une simulation ou une analyse, il est important de \"semer\" le g\u00e9n\u00e9rateur de nombres al\u00e9atoires. Cela a initialis\u00e9 la fonction de g\u00e9n\u00e9rateur de nombres al\u00e9atoires \u00e0 un \"\u00e9tat\" particulier, ce qui rend le nombre dans le script al\u00e9atoire mais r\u00e9p\u00e9table.\n",
                "\n",
                "Essayons cela. Essayez d'abord d'ex\u00e9cuter la cellule suivante et de voir quelle est la sortie. Essayez de l'ex\u00e9cuter plusieurs fois et voyez comment les chiffres changent.\n"
            ]
        },
        {
            "cell_type": "code",
            "execution_count": 2,
            "metadata": {},
            "outputs": [
                {
                    "data": {
                        "text/plain": [
                            "array([6, 8, 0, 9, 7, 0, 5, 3, 1, 0])"
                        ]
                    },
                    "execution_count": 2,
                    "metadata": {},
                    "output_type": "execute_result"
                }
            ],
            "source": [
                "npr.randint(0,10,10)"
            ]
        },
        {
            "cell_type": "markdown",
            "metadata": {},
            "source": [
                "Ex\u00e9cutez maintenant cette cellule\u00a0:\n"
            ]
        },
        {
            "cell_type": "code",
            "execution_count": 3,
            "metadata": {},
            "outputs": [
                {
                    "name": "stdout",
                    "output_type": "stream",
                    "text": [
                        "[9 4 0 1 9 0 1 8 9 0]\n",
                        "[8 6 4 3 0 4 6 8 1 8]\n"
                    ]
                }
            ],
            "source": [
                "npr.seed(10)\n",
                "print(npr.randint(0,10,10))\n",
                "print(npr.randint(0,10,10))"
            ]
        },
        {
            "cell_type": "markdown",
            "metadata": {},
            "source": [
                "Encore une fois, essayez de r\u00e9p\u00e9ter l'ex\u00e9cution de la cellule encore et encore. Qu'observez-vous ?\n",
                "\n",
                "Essayez de red\u00e9marrer le noyau et ex\u00e9cutez \u00e0 nouveau la cellule. Que remarquez-vous ? Comparez avec les autres personnes de votre groupe. Changez \u00e9galement l'argument en `npr.seed()` et voyez ce qui se passe.\n"
            ]
        },
        {
            "cell_type": "markdown",
            "metadata": {},
            "source": [
                "#### R\u00e9ponse 0 ici\u00a0:\n"
            ]
        },
        {
            "cell_type": "code",
            "execution_count": 4,
            "metadata": {},
            "outputs": [
                {
                    "name": "stdout",
                    "output_type": "stream",
                    "text": [
                        "[5 6 8 6 1 6 4 8 1 8]\n",
                        "[5 1 0 8 8 8 2 6 8 1]\n"
                    ]
                }
            ],
            "source": [
                "## Enter solution here\n",
                "npr.seed(9)\n",
                "print(npr.randint(0,10,10))\n",
                "print(npr.randint(0,10,10))"
            ]
        },
        {
            "cell_type": "markdown",
            "metadata": {},
            "source": [
                "En r\u00e9sum\u00e9 : placez toujours le g\u00e9n\u00e9rateur de nombres al\u00e9atoires au d\u00e9but de tout script utilisant des nombres al\u00e9atoires afin que votre code soit plus reproductible.\n"
            ]
        },
        {
            "cell_type": "markdown",
            "metadata": {},
            "source": [
                "## Probl\u00e8me 1 : \u00c9chantillonnage \u00e0 partir d'une population finie\n",
                "\n",
                "Imaginez que je cr\u00e9e une liste avec 100 valeurs d\u00e9termin\u00e9es au hasard comme ci-dessous. En utilisant le Web, recherchez la fonction numpy random `choice()`. Utilisez-le pour g\u00e9n\u00e9rer un \u00e9chantillon al\u00e9atoire de taille 10 \u00e0 partir de ces donn\u00e9es. Faites-le deux fois, une fois avec remplacement et une fois sans remplacement.\n"
            ]
        },
        {
            "cell_type": "code",
            "execution_count": 5,
            "metadata": {},
            "outputs": [],
            "source": [
                "my_data = np.array([75, 25, 59, 63, 48, 29,  3, 17, 68, 39,  9, 62, 61, 52, 64, 45, 90,\n",
                "       87,  0, 42, 26, 52, 22, 25, 20, 22, 81, 25, 48, 79, 37,  6, 33, 30,\n",
                "       81,  5, 37, 85, 65,  0, 27, 40, 96, 67, 77, 29, 32, 25,  4, 53, 46,\n",
                "        7, 51, 65, 46, 91, 60, 52, 93, 26,  2, 42, 18, 19, 97, 45, 78, 33,\n",
                "       25, 30, 97, 96, 99, 32, 86, 43, 81, 83, 51, 81, 36, 29,  2, 33, 95,\n",
                "       39, 79,  1, 80, 17, 50, 38,  1, 98, 30, 89, 93, 27, 43, 30])"
            ]
        },
        {
            "cell_type": "markdown",
            "metadata": {},
            "source": [
                "#### R\u00e9ponse 1 ici\u00a0:\n"
            ]
        },
        {
            "cell_type": "code",
            "execution_count": 6,
            "metadata": {},
            "outputs": [
                {
                    "name": "stdout",
                    "output_type": "stream",
                    "text": [
                        "[60 30 62 85 42 39 36 60 53 19]\n",
                        "[52 25 43 45 30  1 68  7 81 81]\n"
                    ]
                }
            ],
            "source": [
                "## Enter solution here\n",
                "print(npr.choice(my_data,size=10,replace=True))\n",
                "print(npr.choice(my_data,size=10,replace=False))"
            ]
        },
        {
            "cell_type": "markdown",
            "metadata": {},
            "source": [
                "## Probl\u00e8me 2\u00a0: \u00c9chantillonnage \u00e0 partir d'un bloc de donn\u00e9es\n"
            ]
        },
        {
            "cell_type": "markdown",
            "metadata": {},
            "source": [
                "Parfois, ce qui nous int\u00e9resse, c'est l'\u00e9chantillonnage \u00e0 partir d'une base de donn\u00e9es pandas plut\u00f4t qu'une liste ou un tableau numpy. Pourquoi pourrions-nous vouloir \u00e9chantillonner \u00e0 partir d'un ensemble de donn\u00e9es\u00a0? L'une consiste \u00e0 s\u00e9lectionner au hasard un sous-ensemble de donn\u00e9es, pour une r\u00e9partition entre formation et test, si nous r\u00e9alisons des projets d'apprentissage automatique sur les donn\u00e9es (nous en reparlerons plus tard). Une autre est s'il y a trop d'enregistrements \u00e0 analyser, il est donc logique de s\u00e9lectionner au hasard un sous-ensemble et de les analyser. Une autre consiste \u00e0 \u00e9chantillonner \u00e0 plusieurs reprises \u00e0 partir d'un ensemble de donn\u00e9es pour appliquer une m\u00e9thode statistique appel\u00e9e \"boostrapping\" (https://en.wikipedia.org/wiki/Bootstrapping_(statistics))\n"
            ]
        },
        {
            "cell_type": "markdown",
            "metadata": {},
            "source": [
                "Ce code charge un exemple de jeu de donn\u00e9es pandas de diff\u00e9rents pingouins.\n"
            ]
        },
        {
            "cell_type": "code",
            "execution_count": 7,
            "metadata": {},
            "outputs": [],
            "source": [
                "penguins_df = sns.load_dataset('penguins')"
            ]
        },
        {
            "cell_type": "code",
            "execution_count": 8,
            "metadata": {},
            "outputs": [
                {
                    "data": {
                        "text/html": [
                            "<div>\n",
                            "<style scoped>\n",
                            "    .dataframe tbody tr th:only-of-type {\n",
                            "        vertical-align: middle;\n",
                            "    }\n",
                            "\n",
                            "    .dataframe tbody tr th {\n",
                            "        vertical-align: top;\n",
                            "    }\n",
                            "\n",
                            "    .dataframe thead th {\n",
                            "        text-align: right;\n",
                            "    }\n",
                            "</style>\n",
                            "<table border=\"1\" class=\"dataframe\">\n",
                            "  <thead>\n",
                            "    <tr style=\"text-align: right;\">\n",
                            "      <th></th>\n",
                            "      <th>species</th>\n",
                            "      <th>island</th>\n",
                            "      <th>bill_length_mm</th>\n",
                            "      <th>bill_depth_mm</th>\n",
                            "      <th>flipper_length_mm</th>\n",
                            "      <th>body_mass_g</th>\n",
                            "      <th>sex</th>\n",
                            "    </tr>\n",
                            "  </thead>\n",
                            "  <tbody>\n",
                            "    <tr>\n",
                            "      <th>0</th>\n",
                            "      <td>Adelie</td>\n",
                            "      <td>Torgersen</td>\n",
                            "      <td>39.1</td>\n",
                            "      <td>18.7</td>\n",
                            "      <td>181.0</td>\n",
                            "      <td>3750.0</td>\n",
                            "      <td>Male</td>\n",
                            "    </tr>\n",
                            "    <tr>\n",
                            "      <th>1</th>\n",
                            "      <td>Adelie</td>\n",
                            "      <td>Torgersen</td>\n",
                            "      <td>39.5</td>\n",
                            "      <td>17.4</td>\n",
                            "      <td>186.0</td>\n",
                            "      <td>3800.0</td>\n",
                            "      <td>Female</td>\n",
                            "    </tr>\n",
                            "    <tr>\n",
                            "      <th>2</th>\n",
                            "      <td>Adelie</td>\n",
                            "      <td>Torgersen</td>\n",
                            "      <td>40.3</td>\n",
                            "      <td>18.0</td>\n",
                            "      <td>195.0</td>\n",
                            "      <td>3250.0</td>\n",
                            "      <td>Female</td>\n",
                            "    </tr>\n",
                            "    <tr>\n",
                            "      <th>3</th>\n",
                            "      <td>Adelie</td>\n",
                            "      <td>Torgersen</td>\n",
                            "      <td>NaN</td>\n",
                            "      <td>NaN</td>\n",
                            "      <td>NaN</td>\n",
                            "      <td>NaN</td>\n",
                            "      <td>NaN</td>\n",
                            "    </tr>\n",
                            "    <tr>\n",
                            "      <th>4</th>\n",
                            "      <td>Adelie</td>\n",
                            "      <td>Torgersen</td>\n",
                            "      <td>36.7</td>\n",
                            "      <td>19.3</td>\n",
                            "      <td>193.0</td>\n",
                            "      <td>3450.0</td>\n",
                            "      <td>Female</td>\n",
                            "    </tr>\n",
                            "  </tbody>\n",
                            "</table>\n",
                            "</div>"
                        ],
                        "text/plain": [
                            "  species     island  bill_length_mm  bill_depth_mm  flipper_length_mm  \\\n",
                            "0  Adelie  Torgersen            39.1           18.7              181.0   \n",
                            "1  Adelie  Torgersen            39.5           17.4              186.0   \n",
                            "2  Adelie  Torgersen            40.3           18.0              195.0   \n",
                            "3  Adelie  Torgersen             NaN            NaN                NaN   \n",
                            "4  Adelie  Torgersen            36.7           19.3              193.0   \n",
                            "\n",
                            "   body_mass_g     sex  \n",
                            "0       3750.0    Male  \n",
                            "1       3800.0  Female  \n",
                            "2       3250.0  Female  \n",
                            "3          NaN     NaN  \n",
                            "4       3450.0  Female  "
                        ]
                    },
                    "execution_count": 8,
                    "metadata": {},
                    "output_type": "execute_result"
                }
            ],
            "source": [
                "penguins_df.head()"
            ]
        },
        {
            "cell_type": "code",
            "execution_count": 9,
            "metadata": {},
            "outputs": [
                {
                    "name": "stdout",
                    "output_type": "stream",
                    "text": [
                        "<class 'pandas.core.frame.DataFrame'>\n",
                        "RangeIndex: 344 entries, 0 to 343\n",
                        "Data columns (total 7 columns):\n",
                        " #   Column             Non-Null Count  Dtype  \n",
                        "---  ------             --------------  -----  \n",
                        " 0   species            344 non-null    object \n",
                        " 1   island             344 non-null    object \n",
                        " 2   bill_length_mm     342 non-null    float64\n",
                        " 3   bill_depth_mm      342 non-null    float64\n",
                        " 4   flipper_length_mm  342 non-null    float64\n",
                        " 5   body_mass_g        342 non-null    float64\n",
                        " 6   sex                333 non-null    object \n",
                        "dtypes: float64(4), object(3)\n",
                        "memory usage: 18.9+ KB\n"
                    ]
                }
            ],
            "source": [
                "penguins_df.info()"
            ]
        },
        {
            "cell_type": "markdown",
            "metadata": {},
            "source": [
                "Recherchez la m\u00e9thode `sample()` des pandas et \u00e9chantillonnez au hasard 20 pingouins \u00e0 partir de la base de donn\u00e9es.\n"
            ]
        },
        {
            "cell_type": "markdown",
            "metadata": {},
            "source": [
                "#### R\u00e9ponse 2a ici\u00a0:\n"
            ]
        },
        {
            "cell_type": "code",
            "execution_count": 10,
            "metadata": {},
            "outputs": [
                {
                    "data": {
                        "text/html": [
                            "<div>\n",
                            "<style scoped>\n",
                            "    .dataframe tbody tr th:only-of-type {\n",
                            "        vertical-align: middle;\n",
                            "    }\n",
                            "\n",
                            "    .dataframe tbody tr th {\n",
                            "        vertical-align: top;\n",
                            "    }\n",
                            "\n",
                            "    .dataframe thead th {\n",
                            "        text-align: right;\n",
                            "    }\n",
                            "</style>\n",
                            "<table border=\"1\" class=\"dataframe\">\n",
                            "  <thead>\n",
                            "    <tr style=\"text-align: right;\">\n",
                            "      <th></th>\n",
                            "      <th>species</th>\n",
                            "      <th>island</th>\n",
                            "      <th>bill_length_mm</th>\n",
                            "      <th>bill_depth_mm</th>\n",
                            "      <th>flipper_length_mm</th>\n",
                            "      <th>body_mass_g</th>\n",
                            "      <th>sex</th>\n",
                            "    </tr>\n",
                            "  </thead>\n",
                            "  <tbody>\n",
                            "    <tr>\n",
                            "      <th>329</th>\n",
                            "      <td>Gentoo</td>\n",
                            "      <td>Biscoe</td>\n",
                            "      <td>48.1</td>\n",
                            "      <td>15.1</td>\n",
                            "      <td>209.0</td>\n",
                            "      <td>5500.0</td>\n",
                            "      <td>Male</td>\n",
                            "    </tr>\n",
                            "    <tr>\n",
                            "      <th>190</th>\n",
                            "      <td>Chinstrap</td>\n",
                            "      <td>Dream</td>\n",
                            "      <td>46.9</td>\n",
                            "      <td>16.6</td>\n",
                            "      <td>192.0</td>\n",
                            "      <td>2700.0</td>\n",
                            "      <td>Female</td>\n",
                            "    </tr>\n",
                            "    <tr>\n",
                            "      <th>207</th>\n",
                            "      <td>Chinstrap</td>\n",
                            "      <td>Dream</td>\n",
                            "      <td>52.2</td>\n",
                            "      <td>18.8</td>\n",
                            "      <td>197.0</td>\n",
                            "      <td>3450.0</td>\n",
                            "      <td>Male</td>\n",
                            "    </tr>\n",
                            "    <tr>\n",
                            "      <th>255</th>\n",
                            "      <td>Gentoo</td>\n",
                            "      <td>Biscoe</td>\n",
                            "      <td>48.4</td>\n",
                            "      <td>16.3</td>\n",
                            "      <td>220.0</td>\n",
                            "      <td>5400.0</td>\n",
                            "      <td>Male</td>\n",
                            "    </tr>\n",
                            "    <tr>\n",
                            "      <th>268</th>\n",
                            "      <td>Gentoo</td>\n",
                            "      <td>Biscoe</td>\n",
                            "      <td>44.9</td>\n",
                            "      <td>13.3</td>\n",
                            "      <td>213.0</td>\n",
                            "      <td>5100.0</td>\n",
                            "      <td>Female</td>\n",
                            "    </tr>\n",
                            "    <tr>\n",
                            "      <th>224</th>\n",
                            "      <td>Gentoo</td>\n",
                            "      <td>Biscoe</td>\n",
                            "      <td>47.6</td>\n",
                            "      <td>14.5</td>\n",
                            "      <td>215.0</td>\n",
                            "      <td>5400.0</td>\n",
                            "      <td>Male</td>\n",
                            "    </tr>\n",
                            "    <tr>\n",
                            "      <th>138</th>\n",
                            "      <td>Adelie</td>\n",
                            "      <td>Dream</td>\n",
                            "      <td>37.0</td>\n",
                            "      <td>16.5</td>\n",
                            "      <td>185.0</td>\n",
                            "      <td>3400.0</td>\n",
                            "      <td>Female</td>\n",
                            "    </tr>\n",
                            "    <tr>\n",
                            "      <th>2</th>\n",
                            "      <td>Adelie</td>\n",
                            "      <td>Torgersen</td>\n",
                            "      <td>40.3</td>\n",
                            "      <td>18.0</td>\n",
                            "      <td>195.0</td>\n",
                            "      <td>3250.0</td>\n",
                            "      <td>Female</td>\n",
                            "    </tr>\n",
                            "    <tr>\n",
                            "      <th>271</th>\n",
                            "      <td>Gentoo</td>\n",
                            "      <td>Biscoe</td>\n",
                            "      <td>48.5</td>\n",
                            "      <td>14.1</td>\n",
                            "      <td>220.0</td>\n",
                            "      <td>5300.0</td>\n",
                            "      <td>Male</td>\n",
                            "    </tr>\n",
                            "    <tr>\n",
                            "      <th>342</th>\n",
                            "      <td>Gentoo</td>\n",
                            "      <td>Biscoe</td>\n",
                            "      <td>45.2</td>\n",
                            "      <td>14.8</td>\n",
                            "      <td>212.0</td>\n",
                            "      <td>5200.0</td>\n",
                            "      <td>Female</td>\n",
                            "    </tr>\n",
                            "    <tr>\n",
                            "      <th>60</th>\n",
                            "      <td>Adelie</td>\n",
                            "      <td>Biscoe</td>\n",
                            "      <td>35.7</td>\n",
                            "      <td>16.9</td>\n",
                            "      <td>185.0</td>\n",
                            "      <td>3150.0</td>\n",
                            "      <td>Female</td>\n",
                            "    </tr>\n",
                            "    <tr>\n",
                            "      <th>322</th>\n",
                            "      <td>Gentoo</td>\n",
                            "      <td>Biscoe</td>\n",
                            "      <td>47.2</td>\n",
                            "      <td>15.5</td>\n",
                            "      <td>215.0</td>\n",
                            "      <td>4975.0</td>\n",
                            "      <td>Female</td>\n",
                            "    </tr>\n",
                            "    <tr>\n",
                            "      <th>185</th>\n",
                            "      <td>Chinstrap</td>\n",
                            "      <td>Dream</td>\n",
                            "      <td>51.0</td>\n",
                            "      <td>18.8</td>\n",
                            "      <td>203.0</td>\n",
                            "      <td>4100.0</td>\n",
                            "      <td>Male</td>\n",
                            "    </tr>\n",
                            "    <tr>\n",
                            "      <th>122</th>\n",
                            "      <td>Adelie</td>\n",
                            "      <td>Torgersen</td>\n",
                            "      <td>40.2</td>\n",
                            "      <td>17.0</td>\n",
                            "      <td>176.0</td>\n",
                            "      <td>3450.0</td>\n",
                            "      <td>Female</td>\n",
                            "    </tr>\n",
                            "    <tr>\n",
                            "      <th>279</th>\n",
                            "      <td>Gentoo</td>\n",
                            "      <td>Biscoe</td>\n",
                            "      <td>50.4</td>\n",
                            "      <td>15.3</td>\n",
                            "      <td>224.0</td>\n",
                            "      <td>5550.0</td>\n",
                            "      <td>Male</td>\n",
                            "    </tr>\n",
                            "    <tr>\n",
                            "      <th>267</th>\n",
                            "      <td>Gentoo</td>\n",
                            "      <td>Biscoe</td>\n",
                            "      <td>50.5</td>\n",
                            "      <td>15.9</td>\n",
                            "      <td>225.0</td>\n",
                            "      <td>5400.0</td>\n",
                            "      <td>Male</td>\n",
                            "    </tr>\n",
                            "    <tr>\n",
                            "      <th>334</th>\n",
                            "      <td>Gentoo</td>\n",
                            "      <td>Biscoe</td>\n",
                            "      <td>46.2</td>\n",
                            "      <td>14.1</td>\n",
                            "      <td>217.0</td>\n",
                            "      <td>4375.0</td>\n",
                            "      <td>Female</td>\n",
                            "    </tr>\n",
                            "    <tr>\n",
                            "      <th>57</th>\n",
                            "      <td>Adelie</td>\n",
                            "      <td>Biscoe</td>\n",
                            "      <td>40.6</td>\n",
                            "      <td>18.8</td>\n",
                            "      <td>193.0</td>\n",
                            "      <td>3800.0</td>\n",
                            "      <td>Male</td>\n",
                            "    </tr>\n",
                            "    <tr>\n",
                            "      <th>106</th>\n",
                            "      <td>Adelie</td>\n",
                            "      <td>Biscoe</td>\n",
                            "      <td>38.6</td>\n",
                            "      <td>17.2</td>\n",
                            "      <td>199.0</td>\n",
                            "      <td>3750.0</td>\n",
                            "      <td>Female</td>\n",
                            "    </tr>\n",
                            "    <tr>\n",
                            "      <th>311</th>\n",
                            "      <td>Gentoo</td>\n",
                            "      <td>Biscoe</td>\n",
                            "      <td>52.2</td>\n",
                            "      <td>17.1</td>\n",
                            "      <td>228.0</td>\n",
                            "      <td>5400.0</td>\n",
                            "      <td>Male</td>\n",
                            "    </tr>\n",
                            "  </tbody>\n",
                            "</table>\n",
                            "</div>"
                        ],
                        "text/plain": [
                            "       species     island  bill_length_mm  bill_depth_mm  flipper_length_mm  \\\n",
                            "329     Gentoo     Biscoe            48.1           15.1              209.0   \n",
                            "190  Chinstrap      Dream            46.9           16.6              192.0   \n",
                            "207  Chinstrap      Dream            52.2           18.8              197.0   \n",
                            "255     Gentoo     Biscoe            48.4           16.3              220.0   \n",
                            "268     Gentoo     Biscoe            44.9           13.3              213.0   \n",
                            "224     Gentoo     Biscoe            47.6           14.5              215.0   \n",
                            "138     Adelie      Dream            37.0           16.5              185.0   \n",
                            "2       Adelie  Torgersen            40.3           18.0              195.0   \n",
                            "271     Gentoo     Biscoe            48.5           14.1              220.0   \n",
                            "342     Gentoo     Biscoe            45.2           14.8              212.0   \n",
                            "60      Adelie     Biscoe            35.7           16.9              185.0   \n",
                            "322     Gentoo     Biscoe            47.2           15.5              215.0   \n",
                            "185  Chinstrap      Dream            51.0           18.8              203.0   \n",
                            "122     Adelie  Torgersen            40.2           17.0              176.0   \n",
                            "279     Gentoo     Biscoe            50.4           15.3              224.0   \n",
                            "267     Gentoo     Biscoe            50.5           15.9              225.0   \n",
                            "334     Gentoo     Biscoe            46.2           14.1              217.0   \n",
                            "57      Adelie     Biscoe            40.6           18.8              193.0   \n",
                            "106     Adelie     Biscoe            38.6           17.2              199.0   \n",
                            "311     Gentoo     Biscoe            52.2           17.1              228.0   \n",
                            "\n",
                            "     body_mass_g     sex  \n",
                            "329       5500.0    Male  \n",
                            "190       2700.0  Female  \n",
                            "207       3450.0    Male  \n",
                            "255       5400.0    Male  \n",
                            "268       5100.0  Female  \n",
                            "224       5400.0    Male  \n",
                            "138       3400.0  Female  \n",
                            "2         3250.0  Female  \n",
                            "271       5300.0    Male  \n",
                            "342       5200.0  Female  \n",
                            "60        3150.0  Female  \n",
                            "322       4975.0  Female  \n",
                            "185       4100.0    Male  \n",
                            "122       3450.0  Female  \n",
                            "279       5550.0    Male  \n",
                            "267       5400.0    Male  \n",
                            "334       4375.0  Female  \n",
                            "57        3800.0    Male  \n",
                            "106       3750.0  Female  \n",
                            "311       5400.0    Male  "
                        ]
                    },
                    "execution_count": 10,
                    "metadata": {},
                    "output_type": "execute_result"
                }
            ],
            "source": [
                "## Enter solution here\n",
                "penguins_df.sample(n=20)"
            ]
        },
        {
            "cell_type": "markdown",
            "metadata": {},
            "source": [
                "Maintenant, pour la partie b de cette question, dans une boucle for, cr\u00e9ez 100 fois un \u00e9chantillon al\u00e9atoire de la base de donn\u00e9es et calculez la masse corporelle moyenne des pingouins de votre \u00e9chantillon. Ajoutez toutes ces valeurs \u00e0 une liste, puis tracez un histogramme de ces valeurs (en utilisant `sns.displot`). Comparez-le \u00e0 la moyenne de l'ensemble de donn\u00e9es contenant tous les pingouins.\n"
            ]
        },
        {
            "cell_type": "markdown",
            "metadata": {},
            "source": [
                "#### R\u00e9ponse 2b ici\u00a0:\n"
            ]
        },
        {
            "cell_type": "code",
            "execution_count": 11,
            "metadata": {},
            "outputs": [
                {
                    "name": "stdout",
                    "output_type": "stream",
                    "text": [
                        "Overall mean is  4201.754385964912\n"
                    ]
                },
                {
                    "data": {
                        "image/png": "[encoded data removed]",
                        "text/plain": [
                            "<Figure size 360x360 with 1 Axes>"
                        ]
                    },
                    "metadata": {
                        "needs_background": "light"
                    },
                    "output_type": "display_data"
                }
            ],
            "source": [
                "## Enter solution here\n",
                "overall_mean = penguins_df['body_mass_g'].mean()\n",
                "\n",
                "list_sample_mean = []\n",
                "for i in range(100):\n",
                "    sample_mean = penguins_df.sample(n=20)['body_mass_g'].mean()\n",
                "    list_sample_mean.append(sample_mean)\n",
                "\n",
                "sns.displot(list_sample_mean)\n",
                "print(\"Overall mean is \", overall_mean)"
            ]
        },
        {
            "cell_type": "markdown",
            "metadata": {},
            "source": [
                "## Probl\u00e8me 3\u00a0: \u00c9chantillonnage stratifi\u00e9\n"
            ]
        },
        {
            "cell_type": "markdown",
            "metadata": {},
            "source": [
                "Un probl\u00e8me avec les \u00e9chantillons al\u00e9atoires simples que nous avons constitu\u00e9s de manchots est que dans chaque \u00e9chantillon, nous pourrions exclure certains groupes importants de donn\u00e9es. Par exemple, si nous n'avons \u00e9chantillonn\u00e9 que 10 manchots, peut-\u00eatre qu'ils sont tous des m\u00e2les. Si nous voulions \u00eatre plus \u00e9quitables, assurez-vous que nos \u00e9chantillons \u00e9taient _repr\u00e9sentatifs_ des diff\u00e9rences entre les sexes, alors nous voudrions peut-\u00eatre \u00e9chantillonner \u00e0 partir des sous-populations. C'est ce qu'on appelle \"l'\u00e9chantillonnage stratifi\u00e9\".\n",
                "\n",
                "Veuillez lire cet exemple de page Web\u00a0: https://www.statology.org/stratified-sampling-pandas/\n",
                "sur un \u00e9chantillonnage stratifi\u00e9 et adapter le code pour g\u00e9n\u00e9rer un \u00e9chantillon al\u00e9atoire de 10 manchots qui est stratifi\u00e9 de sorte qu'il y ait 5 exemples m\u00e2les et 5 femelles dans l'\u00e9chantillon\n"
            ]
        },
        {
            "cell_type": "markdown",
            "metadata": {},
            "source": [
                "####\u00a0Probl\u00e8me\u00a03\u00a0: R\u00e9pondez ici\n"
            ]
        },
        {
            "cell_type": "code",
            "execution_count": 12,
            "metadata": {},
            "outputs": [
                {
                    "data": {
                        "text/html": [
                            "<div>\n",
                            "<style scoped>\n",
                            "    .dataframe tbody tr th:only-of-type {\n",
                            "        vertical-align: middle;\n",
                            "    }\n",
                            "\n",
                            "    .dataframe tbody tr th {\n",
                            "        vertical-align: top;\n",
                            "    }\n",
                            "\n",
                            "    .dataframe thead th {\n",
                            "        text-align: right;\n",
                            "    }\n",
                            "</style>\n",
                            "<table border=\"1\" class=\"dataframe\">\n",
                            "  <thead>\n",
                            "    <tr style=\"text-align: right;\">\n",
                            "      <th></th>\n",
                            "      <th>species</th>\n",
                            "      <th>island</th>\n",
                            "      <th>bill_length_mm</th>\n",
                            "      <th>bill_depth_mm</th>\n",
                            "      <th>flipper_length_mm</th>\n",
                            "      <th>body_mass_g</th>\n",
                            "      <th>sex</th>\n",
                            "    </tr>\n",
                            "  </thead>\n",
                            "  <tbody>\n",
                            "    <tr>\n",
                            "      <th>198</th>\n",
                            "      <td>Chinstrap</td>\n",
                            "      <td>Dream</td>\n",
                            "      <td>50.1</td>\n",
                            "      <td>17.9</td>\n",
                            "      <td>190.0</td>\n",
                            "      <td>3400.0</td>\n",
                            "      <td>Female</td>\n",
                            "    </tr>\n",
                            "    <tr>\n",
                            "      <th>108</th>\n",
                            "      <td>Adelie</td>\n",
                            "      <td>Biscoe</td>\n",
                            "      <td>38.1</td>\n",
                            "      <td>17.0</td>\n",
                            "      <td>181.0</td>\n",
                            "      <td>3175.0</td>\n",
                            "      <td>Female</td>\n",
                            "    </tr>\n",
                            "    <tr>\n",
                            "      <th>314</th>\n",
                            "      <td>Gentoo</td>\n",
                            "      <td>Biscoe</td>\n",
                            "      <td>44.5</td>\n",
                            "      <td>14.7</td>\n",
                            "      <td>214.0</td>\n",
                            "      <td>4850.0</td>\n",
                            "      <td>Female</td>\n",
                            "    </tr>\n",
                            "    <tr>\n",
                            "      <th>56</th>\n",
                            "      <td>Adelie</td>\n",
                            "      <td>Biscoe</td>\n",
                            "      <td>39.0</td>\n",
                            "      <td>17.5</td>\n",
                            "      <td>186.0</td>\n",
                            "      <td>3550.0</td>\n",
                            "      <td>Female</td>\n",
                            "    </tr>\n",
                            "    <tr>\n",
                            "      <th>82</th>\n",
                            "      <td>Adelie</td>\n",
                            "      <td>Torgersen</td>\n",
                            "      <td>36.7</td>\n",
                            "      <td>18.8</td>\n",
                            "      <td>187.0</td>\n",
                            "      <td>3800.0</td>\n",
                            "      <td>Female</td>\n",
                            "    </tr>\n",
                            "    <tr>\n",
                            "      <th>245</th>\n",
                            "      <td>Gentoo</td>\n",
                            "      <td>Biscoe</td>\n",
                            "      <td>46.1</td>\n",
                            "      <td>15.1</td>\n",
                            "      <td>215.0</td>\n",
                            "      <td>5100.0</td>\n",
                            "      <td>Male</td>\n",
                            "    </tr>\n",
                            "    <tr>\n",
                            "      <th>149</th>\n",
                            "      <td>Adelie</td>\n",
                            "      <td>Dream</td>\n",
                            "      <td>37.8</td>\n",
                            "      <td>18.1</td>\n",
                            "      <td>193.0</td>\n",
                            "      <td>3750.0</td>\n",
                            "      <td>Male</td>\n",
                            "    </tr>\n",
                            "    <tr>\n",
                            "      <th>267</th>\n",
                            "      <td>Gentoo</td>\n",
                            "      <td>Biscoe</td>\n",
                            "      <td>50.5</td>\n",
                            "      <td>15.9</td>\n",
                            "      <td>225.0</td>\n",
                            "      <td>5400.0</td>\n",
                            "      <td>Male</td>\n",
                            "    </tr>\n",
                            "    <tr>\n",
                            "      <th>259</th>\n",
                            "      <td>Gentoo</td>\n",
                            "      <td>Biscoe</td>\n",
                            "      <td>48.7</td>\n",
                            "      <td>15.7</td>\n",
                            "      <td>208.0</td>\n",
                            "      <td>5350.0</td>\n",
                            "      <td>Male</td>\n",
                            "    </tr>\n",
                            "    <tr>\n",
                            "      <th>229</th>\n",
                            "      <td>Gentoo</td>\n",
                            "      <td>Biscoe</td>\n",
                            "      <td>46.8</td>\n",
                            "      <td>15.4</td>\n",
                            "      <td>215.0</td>\n",
                            "      <td>5150.0</td>\n",
                            "      <td>Male</td>\n",
                            "    </tr>\n",
                            "  </tbody>\n",
                            "</table>\n",
                            "</div>"
                        ],
                        "text/plain": [
                            "       species     island  bill_length_mm  bill_depth_mm  flipper_length_mm  \\\n",
                            "198  Chinstrap      Dream            50.1           17.9              190.0   \n",
                            "108     Adelie     Biscoe            38.1           17.0              181.0   \n",
                            "314     Gentoo     Biscoe            44.5           14.7              214.0   \n",
                            "56      Adelie     Biscoe            39.0           17.5              186.0   \n",
                            "82      Adelie  Torgersen            36.7           18.8              187.0   \n",
                            "245     Gentoo     Biscoe            46.1           15.1              215.0   \n",
                            "149     Adelie      Dream            37.8           18.1              193.0   \n",
                            "267     Gentoo     Biscoe            50.5           15.9              225.0   \n",
                            "259     Gentoo     Biscoe            48.7           15.7              208.0   \n",
                            "229     Gentoo     Biscoe            46.8           15.4              215.0   \n",
                            "\n",
                            "     body_mass_g     sex  \n",
                            "198       3400.0  Female  \n",
                            "108       3175.0  Female  \n",
                            "314       4850.0  Female  \n",
                            "56        3550.0  Female  \n",
                            "82        3800.0  Female  \n",
                            "245       5100.0    Male  \n",
                            "149       3750.0    Male  \n",
                            "267       5400.0    Male  \n",
                            "259       5350.0    Male  \n",
                            "229       5150.0    Male  "
                        ]
                    },
                    "execution_count": 12,
                    "metadata": {},
                    "output_type": "execute_result"
                }
            ],
            "source": [
                "## Enter solution here\n",
                "penguins_df.groupby('sex').sample(5)"
            ]
        }
    ],
    "metadata": {
        "kernelspec": {
            "display_name": "base",
            "language": "python",
            "name": "python3"
        },
        "language_info": {
            "codemirror_mode": {
                "name": "ipython",
                "version": 3
            },
            "file_extension": ".py",
            "mimetype": "text/x-python",
            "name": "python",
            "nbconvert_exporter": "python",
            "pygments_lexer": "ipython3",
            "version": "3.9.12 (main, Apr  4 2022, 05:22:27) [MSC v.1916 64 bit (AMD64)]"
        },
        "vscode": {
            "interpreter": {
                "hash": "d8e65be2d5af5c08928ecb773b6dc450231fb3ffc1135c3e29100eb7fa86bbe1"
            }
        }
    },
    "nbformat": 4,
    "nbformat_minor": 4
}