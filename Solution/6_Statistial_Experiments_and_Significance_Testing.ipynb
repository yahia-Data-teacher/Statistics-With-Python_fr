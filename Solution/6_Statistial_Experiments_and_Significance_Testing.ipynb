{
    "cells": [
        {
            "cell_type": "markdown",
            "metadata": {
                "id": "view-in-github",
                "colab_type": "text"
            },
            "source": [
                "<a href=\"https://colab.research.google.com/github/yahia-kplr/Statistics-With-Python_fr/blob/main/Solution/6_Statistial_Experiments_and_Significance_Testing.ipynb\" target=\"_blank\"><img src=\"https://colab.research.google.com/assets/colab-badge.svg\" alt=\"Open In Colab\"/></a>"
            ]
        },
        {
            "cell_type": "markdown",
            "metadata": {
                "id": "cTW_bJ7KeYNt"
            },
            "source": [
                "# **Exp\u00e9riences statistiques et tests de signification**\n"
            ]
        },
        {
            "cell_type": "markdown",
            "metadata": {
                "id": "hqEoPsqqnQrm"
            },
            "source": [
                "# **Exemple\u00a0: adh\u00e9rence du Web**\n",
                "- Une entreprise vendant un service \u00e0 valeur relativement \u00e9lev\u00e9e veut tester lequel des deux sites Web pr\u00e9sentations fait un meilleur travail de vente.\n",
                "- En raison de la valeur \u00e9lev\u00e9e du service \u00e9tant vendues, les ventes sont peu fr\u00e9quentes et le cycle de vente est long ; il faudrait trop de temps pour\n",
                "accumulez suffisamment de ventes pour savoir quelle pr\u00e9sentation est la meilleure.\n",
                "- Alors la soci\u00e9t\u00e9 d\u00e9cide de mesurer les r\u00e9sultats avec une variable proxy, en utilisant l'int\u00e9rieur d\u00e9taill\u00e9 page qui d\u00e9crit le service.\n",
                "- Une variable indirecte potentielle pour notre entreprise est le nombre de clics sur la page de destination d\u00e9taill\u00e9e. Un meilleur est le temps que les gens passent sur la page.\n",
                "- Il est raisonnable de penser qu'une pr\u00e9sentation web (page) qui retient l'attention des gens plus longtemps conduira \u00e0 plus de ventes.\n",
                "\n",
                "- Par cons\u00e9quent, notre m\u00e9trique est le temps de session moyen, comparant la page A \u00e0 la page B.\n"
            ]
        },
        {
            "cell_type": "markdown",
            "metadata": {
                "id": "Fy8_AAvnf_mk"
            },
            "source": [
                "**Importer les packages Python requis**\n"
            ]
        },
        {
            "cell_type": "code",
            "execution_count": null,
            "metadata": {
                "id": "WypabglmeNtL"
            },
            "outputs": [],
            "source": [
                "%matplotlib inline\n",
                "\n",
                "from pathlib import Path\n",
                "import random\n",
                "\n",
                "import pandas as pd\n",
                "import numpy as np\n",
                "\n",
                "from scipy import stats\n",
                "import statsmodels.api as sm\n",
                "import statsmodels.formula.api as smf\n",
                "from statsmodels.stats import power\n",
                "\n",
                "import matplotlib.pylab as plt"
            ]
        },
        {
            "cell_type": "code",
            "execution_count": null,
            "metadata": {
                "id": "66jIC3c-gJl9"
            },
            "outputs": [],
            "source": [
                "WEB_PAGE_DATA_CSV = 'https://raw.githubusercontent.com/gedeck/practical-statistics-for-data-scientists/master/data/web_page_data.csv'\n",
                "FOUR_SESSIONS_CSV ='https://raw.githubusercontent.com/gedeck/practical-statistics-for-data-scientists/master/data/four_sessions.csv'\n",
                "CLICK_RATE_CSV = 'https://raw.githubusercontent.com/gedeck/practical-statistics-for-data-scientists/master/data/click_rates.csv'\n",
                "IMANISHI_CSV = 'https://raw.githubusercontent.com/gedeck/practical-statistics-for-data-scientists/master/data/imanishi_data.csv'"
            ]
        },
        {
            "cell_type": "markdown",
            "metadata": {
                "id": "47BchGWEgLl4"
            },
            "source": [
                "**R\u00e9\u00e9chantillonnage**\n"
            ]
        },
        {
            "cell_type": "code",
            "execution_count": null,
            "metadata": {
                "id": "1QCUOPE9gNFC"
            },
            "outputs": [],
            "source": [
                "session_times = pd.read_csv(WEB_PAGE_DATA_CSV)\n",
                "session_times.Time = 100 * session_times.Time"
            ]
        },
        {
            "cell_type": "markdown",
            "metadata": {
                "id": "Zm09TDg3n_mO"
            },
            "source": [
                "- \u00c9tant donn\u00e9 qu'il s'agit d'une page int\u00e9rieure \u00e0 usage sp\u00e9cial, elle ne re\u00e7oit pas de grand nombre de visiteurs.\n",
                "- Notez \u00e9galement que Google Analytics, qui nous permet de mesurer le temps de session, ne peut pas mesurer le temps de session pour la derni\u00e8re session d'une personne visites.\n",
                "- Au lieu de supprimer cette session des donn\u00e9es, GA l'enregistre en tant que\n",
                "z\u00e9ro, les donn\u00e9es n\u00e9cessitent donc un traitement suppl\u00e9mentaire pour supprimer ces sessions.\n",
                "- Le r\u00e9sultat est un total de 36 sessions pour les deux pr\u00e9sentations diff\u00e9rentes, 21 pour la page A et 15 pour la page B.\n",
                "\n",
                "- **En utilisant boxplot, nous pouvons comparer visuellement les temps de session en utilisant des bo\u00eetes \u00e0 moustaches c\u00f4te \u00e0 c\u00f4te\u00a0:**\n"
            ]
        },
        {
            "cell_type": "code",
            "execution_count": null,
            "metadata": {
                "colab": {
                    "base_uri": "https://localhost:8080/",
                    "height": 352
                },
                "id": "wqYihJg6gQPQ",
                "outputId": "2441c61d-06ff-4393-9e12-a0c10fd66516"
            },
            "outputs": [
                {
                    "name": "stderr",
                    "output_type": "stream",
                    "text": [
                        "/usr/local/lib/python3.8/dist-packages/matplotlib/cbook/__init__.py:1376: VisibleDeprecationWarning: Creating an ndarray from ragged nested sequences (which is a list-or-tuple of lists-or-tuples-or ndarrays with different lengths or shapes) is deprecated. If you meant to do this, you must specify 'dtype=object' when creating the ndarray.\n",
                        "  X = np.atleast_1d(X.T if isinstance(X, np.ndarray) else np.asarray(X))\n"
                    ]
                },
                {
                    "data": {
                        "image/png": "[encoded data removed]",
                        "text/plain": [
                            "<Figure size 288x288 with 1 Axes>"
                        ]
                    },
                    "metadata": {
                        "needs_background": "light"
                    },
                    "output_type": "display_data"
                }
            ],
            "source": [
                "ax = session_times.boxplot(by='Page', column='Time',\n",
                "                           figsize=(4, 4))\n",
                "ax.set_xlabel('')\n",
                "ax.set_ylabel('Time (in seconds)')\n",
                "plt.suptitle('')\n",
                "\n",
                "plt.tight_layout()\n",
                "plt.show()"
            ]
        },
        {
            "cell_type": "markdown",
            "metadata": {
                "id": "SrB9MfGlol0M"
            },
            "source": [
                "- Le boxplot, indique que la page B m\u00e8ne \u00e0 des sessions plus longues\n",
                "que la page A. Les moyennes pour chaque groupe peuvent \u00eatre calcul\u00e9es comme suit :\n"
            ]
        },
        {
            "cell_type": "code",
            "execution_count": null,
            "metadata": {
                "colab": {
                    "base_uri": "https://localhost:8080/"
                },
                "id": "LuWhHlj1gTNw",
                "outputId": "8687aa50-d426-41d7-bceb-09b5b1a5422a"
            },
            "outputs": [
                {
                    "name": "stdout",
                    "output_type": "stream",
                    "text": [
                        "35.66666666666667\n"
                    ]
                }
            ],
            "source": [
                "mean_a = session_times[session_times.Page == 'Page A'].Time.mean()\n",
                "mean_b = session_times[session_times.Page == 'Page B'].Time.mean()\n",
                "print(mean_b - mean_a)"
            ]
        },
        {
            "cell_type": "markdown",
            "metadata": {
                "id": "ZxadvjmjozK9"
            },
            "source": [
                "- La page B a des dur\u00e9es de session sup\u00e9rieures, en moyenne, de 35.66 secondes par rapport \u00e0 la page A.\n",
                "- la question est de savoir si cette diff\u00e9rence se situe dans la fourchette de ce qu'est le hasard pourrait produire ou, alternativement, est statistiquement significatif.\n",
                "- Une fa\u00e7on de r\u00e9pondre \u00e0 \u00e7a est d'appliquer un test de permutation - combiner tous les temps de session ensemble, puis m\u00e9langez-les \u00e0 plusieurs reprises et divisez-les en groupes de 21 (rappelez-vous que n = 21 pour la page\n",
                "A) et 15 (n = 15 pour B).\n",
                "- Pour appliquer un test de permutation, nous avons besoin d'une fonction pour assigner al\u00e9atoirement la 36 session fois \u00e0 un groupe de 21 (page A) et un groupe de 15 (page B) :\n"
            ]
        },
        {
            "cell_type": "code",
            "execution_count": null,
            "metadata": {
                "colab": {
                    "base_uri": "https://localhost:8080/"
                },
                "id": "hO0TqlcygZXx",
                "outputId": "67786bbc-b711-4fcb-9df2-a885f727aa4a"
            },
            "outputs": [
                {
                    "name": "stdout",
                    "output_type": "stream",
                    "text": [
                        "-13.590476190476181\n"
                    ]
                }
            ],
            "source": [
                "# Permutation test example with stickiness\n",
                "def perm_fun(x, nA, nB):\n",
                "    n = nA + nB\n",
                "    idx_B = set(random.sample(range(n), nB))\n",
                "    idx_A = set(range(n)) - idx_B\n",
                "    return x.loc[list(idx_B)].mean() - x.loc[list(idx_A)].mean()\n",
                "    \n",
                "nA = session_times[session_times.Page == 'Page A'].shape[0]\n",
                "nB = session_times[session_times.Page == 'Page B'].shape[0]\n",
                "print(perm_fun(session_times.Time, nA, nB))"
            ]
        },
        {
            "cell_type": "markdown",
            "metadata": {
                "id": "pAg-6BTcpuiF"
            },
            "source": [
                "- cette fonction fonctionne en \u00e9chantillonnant sans remise n2 indices et en affectant les au groupe B; les n1 indices restants sont affect\u00e9s au groupe A.\n",
                "- Les diff\u00e9rence entre les deux moyennes est renvoy\u00e9e.\n",
                "- Appel de cette fonction R = 1 000 fois et en sp\u00e9cifiant n2  et n1  conduit \u00e0 une distribution des diff\u00e9rences dans les temps de session qui peuvent \u00eatre trac\u00e9s sous forme d'histogramme.\n"
            ]
        },
        {
            "cell_type": "code",
            "execution_count": null,
            "metadata": {
                "colab": {
                    "base_uri": "https://localhost:8080/",
                    "height": 369
                },
                "id": "8TpvrVCEgd9u",
                "outputId": "d4e21f82-57d0-474b-eddb-89836e0527a9"
            },
            "outputs": [
                {
                    "data": {
                        "image/png": "[encoded data removed]",
                        "text/plain": [
                            "<Figure size 360x360 with 1 Axes>"
                        ]
                    },
                    "metadata": {
                        "needs_background": "light"
                    },
                    "output_type": "display_data"
                }
            ],
            "source": [
                "random.seed(1)\n",
                "perm_diffs = [perm_fun(session_times.Time, nA, nB) for _ in range(1000)]\n",
                "\n",
                "fig, ax = plt.subplots(figsize=(5, 5))\n",
                "ax.hist(perm_diffs, bins=11, rwidth=0.9)\n",
                "ax.axvline(x = mean_b - mean_a, color='black', lw=2)\n",
                "ax.text(50, 190, 'Observed\\ndifference', bbox={'facecolor':'white'})\n",
                "ax.set_xlabel('Session time differences (in seconds)')\n",
                "ax.set_ylabel('Frequency')\n",
                "\n",
                "plt.tight_layout()\n",
                "plt.show()"
            ]
        },
        {
            "cell_type": "markdown",
            "metadata": {
                "id": "r7M7I7YqqArT"
            },
            "source": [
                "- L'histogramme montre que la diff\u00e9rence moyenne des\n",
                "permutations d\u00e9passe souvent la diff\u00e9rence observ\u00e9e dans les temps de session (la ligne verticale).\n",
                "- Cela sugg\u00e8re que la diff\u00e9rence de temps de session observ\u00e9e entre la page A\n",
                "et la page B est bien dans la plage de variation al\u00e9atoire, donc n'est pas statistiquement important.\n"
            ]
        },
        {
            "cell_type": "code",
            "execution_count": null,
            "metadata": {
                "colab": {
                    "base_uri": "https://localhost:8080/"
                },
                "id": "nSZyCJvkggyd",
                "outputId": "d33bab7a-cd8b-466c-9d30-930dc7a8811b"
            },
            "outputs": [
                {
                    "name": "stdout",
                    "output_type": "stream",
                    "text": [
                        "0.121\n"
                    ]
                }
            ],
            "source": [
                "# convert perm_diffs to numpy array to avoid problems with some Python installations\n",
                "perm_diffs = np.array(perm_diffs)\n",
                "print(np.mean(perm_diffs > mean_b - mean_a))"
            ]
        },
        {
            "cell_type": "markdown",
            "metadata": {
                "id": "ccyl2kmogi0S"
            },
            "source": [
                "**\u00a0Signification statistique et valeurs\u00a0P**\n"
            ]
        },
        {
            "cell_type": "markdown",
            "metadata": {
                "id": "qzwa2gCSqsyZ"
            },
            "source": [
                "- La signification statistique est la fa\u00e7on dont les statisticiens mesurent si une exp\u00e9rience (ou\n",
                "m\u00eame une \u00e9tude des donn\u00e9es existantes) donne un r\u00e9sultat plus extr\u00eame que ce que le hasard pourrait produire.\n",
                "- Si le r\u00e9sultat est au-del\u00e0 du domaine de la variation al\u00e9atoire, on dit qu'il est statistiquement significatif.\n"
            ]
        },
        {
            "attachments": {},
            "cell_type": "markdown",
            "metadata": {
                "id": "i2XD2tWrrxjH"
            },
            "source": [
                "![image](https://user-images.githubusercontent.com/123748165/222194509-c1d4cae4-138e-400d-b72e-09b6b0079b67.png)\n"
            ]
        },
        {
            "cell_type": "markdown",
            "metadata": {
                "id": "t_yi5V30r7J_"
            },
            "source": [
                "- Le prix A convertit presque 5 % mieux que le prix B (0,8425 % contre 0,8057 %\n",
                "une diff\u00e9rence de 0,0368 point de pourcentage), suffisamment important pour \u00eatre significatif dans une entreprise \u00e0 volume \u00e9lev\u00e9.\n",
                "- Nous avons plus de 45 000 points de donn\u00e9es ici, et il est tentant de\n",
                "consid\u00e9rez cela comme du \"big data\", ne n\u00e9cessitant pas de tests de signification statistique (n\u00e9cessaire principalement pour tenir compte de la variabilit\u00e9 d'\u00e9chantillonnage dans les petits \u00e9chantillons).\n",
                "- Cependant, le les taux de conversion sont si faibles (moins de 1 %) que les valeurs significatives r\u00e9elles \u2014les conversions - ne sont que dans les centaines, et la taille de l'\u00e9chantillon n\u00e9cessaire est vraiment\n",
                "d\u00e9termin\u00e9e par ces conversions.\n",
                "- Nous pouvons tester si la diff\u00e9rence de\n",
                "les conversions entre les prix A et B se situent dans la plage de variation al\u00e9atoire, en utilisant une proc\u00e9dure de r\u00e9\u00e9chantillonnage.\n",
                "- Par \u00ab variation al\u00e9atoire \u00bb, nous entendons la variation al\u00e9atoire\n",
                "produit par un mod\u00e8le de probabilit\u00e9 qui incarne l'hypoth\u00e8se nulle qu'il n'y a pas diff\u00e9rence entre les taux\n"
            ]
        },
        {
            "cell_type": "markdown",
            "metadata": {
                "id": "v8p59vxOt9Rn"
            },
            "source": [
                "En r\u00e9utilisant la fonction **perm_fun** , nous pouvons\n",
                "cr\u00e9ez un histogramme des diff\u00e9rences permut\u00e9es de mani\u00e8re al\u00e9atoire dans le taux de conversion\u00a0:\n"
            ]
        },
        {
            "cell_type": "code",
            "execution_count": null,
            "metadata": {
                "colab": {
                    "base_uri": "https://localhost:8080/",
                    "height": 386
                },
                "id": "Q-BPC3I9gkb2",
                "outputId": "9bcd534b-e04b-400e-f5f8-a6bf2aea95f6"
            },
            "outputs": [
                {
                    "name": "stdout",
                    "output_type": "stream",
                    "text": [
                        "Observed difference: 0.0368%\n"
                    ]
                },
                {
                    "data": {
                        "image/png": "[encoded data removed]",
                        "text/plain": [
                            "<Figure size 360x360 with 1 Axes>"
                        ]
                    },
                    "metadata": {
                        "needs_background": "light"
                    },
                    "output_type": "display_data"
                }
            ],
            "source": [
                "random.seed(1)\n",
                "obs_pct_diff = 100 * (200 / 23739 - 182 / 22588)\n",
                "print(f'Observed difference: {obs_pct_diff:.4f}%')\n",
                "conversion = [0] * 45945\n",
                "conversion.extend([1] * 382)\n",
                "conversion = pd.Series(conversion)\n",
                "\n",
                "perm_diffs = [100 * perm_fun(conversion, 23739, 22588) \n",
                "              for _ in range(1000)]\n",
                "\n",
                "fig, ax = plt.subplots(figsize=(5, 5))\n",
                "ax.hist(perm_diffs, bins=11, rwidth=0.9)\n",
                "ax.axvline(x=obs_pct_diff, color='black', lw=2)\n",
                "ax.text(0.06, 200, 'Observed\\ndifference', bbox={'facecolor':'white'})\n",
                "ax.set_xlabel('Conversion rate (percent)')\n",
                "ax.set_ylabel('Frequency')\n",
                "\n",
                "plt.tight_layout()\n",
                "plt.show()"
            ]
        },
        {
            "cell_type": "markdown",
            "metadata": {
                "id": "ZfilOi5luNcE"
            },
            "source": [
                "la diff\u00e9rence observ\u00e9e de 0,0368\u00a0% est bien dans la fourchette du hasard\n",
                "variation.\n"
            ]
        },
        {
            "cell_type": "markdown",
            "metadata": {
                "id": "3E3kFXaVgols"
            },
            "source": [
                "**Valeur P**\n"
            ]
        },
        {
            "cell_type": "markdown",
            "metadata": {
                "id": "8RYadzFFub64"
            },
            "source": [
                "- Le simple fait de regarder le graphique n'est pas un moyen tr\u00e8s pr\u00e9cis de mesurer les statistiques signification, donc la valeur p est plus int\u00e9ressante.\n",
                "- C'est la fr\u00e9quence avec laquelle\n",
                "le mod\u00e8le al\u00e9atoire produit un r\u00e9sultat plus extr\u00eame que le r\u00e9sultat observ\u00e9.\n",
                "\n",
                "- Nous pouvons estimer une valeur p \u00e0 partir de notre test de permutation en prenant la proportion de fois que le test de permutation produit une diff\u00e9rence \u00e9gale ou sup\u00e9rieure \u00e0 la valeur observ\u00e9e diff\u00e9rence:\n"
            ]
        },
        {
            "cell_type": "markdown",
            "metadata": {
                "id": "xzhNY7nXgrsk"
            },
            "source": [
                "Si np.mean est appliqu\u00e9 \u00e0 une liste de bool\u00e9ens, il donne le pourcentage de la fr\u00e9quence \u00e0 laquelle True a \u00e9t\u00e9 trouv\u00e9 dans la liste (#True / #Total).\n"
            ]
        },
        {
            "cell_type": "code",
            "execution_count": null,
            "metadata": {
                "colab": {
                    "base_uri": "https://localhost:8080/"
                },
                "id": "U7S_P0Aogsjc",
                "outputId": "33f7c50b-e274-4c1c-d130-246721cbcbb7"
            },
            "outputs": [
                {
                    "name": "stdout",
                    "output_type": "stream",
                    "text": [
                        "0.332\n"
                    ]
                }
            ],
            "source": [
                "print(np.mean([diff > obs_pct_diff for diff in perm_diffs]))"
            ]
        },
        {
            "cell_type": "code",
            "execution_count": null,
            "metadata": {
                "colab": {
                    "base_uri": "https://localhost:8080/"
                },
                "id": "JFwLyAjfgvkQ",
                "outputId": "b8b13dd3-364a-4595-e119-45e4c73d6a6c"
            },
            "outputs": [
                {
                    "name": "stdout",
                    "output_type": "stream",
                    "text": [
                        "p-value for single sided test: 0.3498\n"
                    ]
                }
            ],
            "source": [
                "survivors = np.array([[200, 23739 - 200], [182, 22588 - 182]])\n",
                "chi2, p_value, df, _ = stats.chi2_contingency(survivors)\n",
                "\n",
                "print(f'p-value for single sided test: {p_value / 2:.4f}')"
            ]
        },
        {
            "cell_type": "markdown",
            "metadata": {
                "id": "ZE5ezcSgvNvK"
            },
            "source": [
                "L'approximation normale donne une valeur de p de 0,3498, ce qui\n",
                "est proche de la valeur de p obtenue \u00e0 partir du test de permutation.\n"
            ]
        },
        {
            "cell_type": "markdown",
            "metadata": {
                "id": "snTKkBEsgxsW"
            },
            "source": [
                "**Tests-t**\n"
            ]
        },
        {
            "cell_type": "markdown",
            "metadata": {
                "id": "5x4uxL5oAU8c"
            },
            "source": [
                "- Il existe de nombreux types de tests de signification, selon que les donn\u00e9es\n",
                "comprend les donn\u00e9es de comptage ou les donn\u00e9es mesur\u00e9es, le nombre d'\u00e9chantillons et ce qui est\n",
                "\u00e9tant mesur\u00e9.\n",
                "- Un tr\u00e8s courant est le test t, nomm\u00e9 d'apr\u00e8s la distribution t de Student, d\u00e9velopp\u00e9 \u00e0 l'origine par W. S.\n",
                "- Gossett pour approximer la distribution\n",
                "moyenne d'un seul \u00e9chantillon\n"
            ]
        },
        {
            "cell_type": "markdown",
            "metadata": {
                "id": "3JNeXRLdAwYa"
            },
            "source": [
                "- Tous les tests de signification n\u00e9cessitent que vous sp\u00e9cifiez une statistique de test pour mesurer l'effet qui vous int\u00e9resse et vous aide \u00e0 d\u00e9terminer si cet effet observ\u00e9 se situe dans la plage de variation normale du hasard.\n",
                "- Dans un test de r\u00e9\u00e9chantillonnage , l'\u00e9chelle des donn\u00e9es n'a pas d'importance.\n",
                "- Vous cr\u00e9ez la distribution de r\u00e9f\u00e9rence (hypoth\u00e8se nulle) \u00e0 partir des donn\u00e9es elles-m\u00eames,\n",
                "et utilisez la statistique de test telle quelle.\n",
                "- Dans les ann\u00e9es 1920 et 1930, lorsque les tests d'hypoth\u00e8ses statistiques \u00e9taient en cours de d\u00e9veloppement, il n'\u00e9tait pas possible de m\u00e9langer al\u00e9atoirement des donn\u00e9es des milliers de fois pour faire un r\u00e9\u00e9chantillonnage\n",
                "test.\n",
                "- Les statisticiens ont d\u00e9couvert qu'une bonne approximation de la permutation (m\u00e9lang\u00e9e) distribution \u00e9tait le test t, bas\u00e9 sur la distribution t de Gossett. Il est utilis\u00e9 pour le tr\u00e8s comparaison commune \u00e0 deux \u00e9chantillons \u2014 test A/B \u2014 dans laquelle les donn\u00e9es sont num\u00e9riques.\n",
                "- Mais pour que la distribution t soit utilis\u00e9e sans tenir compte de l'\u00e9chelle, une forme de la statistique de test doit \u00eatre utilis\u00e9e.\n",
                "- Un texte de statistique classique montrerait \u00e0 ce stade diverses formules qui int\u00e8grent la distribution de Gossett et montrez comment normaliser vos donn\u00e9es pour les comparer \u00e0 la distribution t standard.\n",
                "- Ces formules ne sont pas pr\u00e9sent\u00e9es ici car tous les logiciels statistiques, ainsi que R et Python, incluent des commandes qui incarnent le formule.\n",
                "- Dans Python, la fonction est stats.ttest_ind\u00a0:\n"
            ]
        },
        {
            "cell_type": "code",
            "execution_count": null,
            "metadata": {
                "colab": {
                    "base_uri": "https://localhost:8080/"
                },
                "id": "0gmGMHDNg0Mc",
                "outputId": "357a816e-36c3-48b0-a6d3-092621ef4527"
            },
            "outputs": [
                {
                    "name": "stdout",
                    "output_type": "stream",
                    "text": [
                        "p-value for single sided test: 0.1408\n"
                    ]
                }
            ],
            "source": [
                "res = stats.ttest_ind(session_times[session_times.Page == 'Page A'].Time, \n",
                "                      session_times[session_times.Page == 'Page B'].Time,\n",
                "                      equal_var=False)\n",
                "print(f'p-value for single sided test: {res.pvalue / 2:.4f}')"
            ]
        },
        {
            "cell_type": "markdown",
            "metadata": {
                "id": "8oNZrD2YOI0j"
            },
            "source": [
                "- L'hypoth\u00e8se alternative est que le temps de session moyen pour la page A est inf\u00e9rieur \u00e0 celui pour la page B.\n",
                "- La valeur p de 0,1408 est assez proche des valeurs p du test de permutation de\n",
                "0,121 et 0,126 .\n",
                "- Dans un mode de r\u00e9\u00e9chantillonnage, nous structurons la solution pour refl\u00e9ter les donn\u00e9es observ\u00e9es et les hypoth\u00e8se \u00e0 tester, sans se soucier de savoir si les donn\u00e9es sont num\u00e9riques ou binaires,que les tailles d'\u00e9chantillon soient \u00e9quilibr\u00e9es ou non, les variances d'\u00e9chantillon ou une vari\u00e9t\u00e9 d'autres facteurs\n",
                "teurs. Dans le monde des formules, de nombreuses variations se pr\u00e9sentent, et elles peuvent \u00eatreTests t | 111\n",
                "d\u00e9concertant.\n",
                "- Les statisticiens doivent naviguer dans ce monde et apprendre sa carte, mais la science des donn\u00e9es les entistes ne le font pas - ils ne sont g\u00e9n\u00e9ralement pas charg\u00e9s de transpirer les d\u00e9tails de tests d'hypoth\u00e8ses et intervalles de confiance comme un chercheur pr\u00e9parant un article pour pr\u00e9sentation pourrait.\n"
            ]
        },
        {
            "cell_type": "code",
            "execution_count": null,
            "metadata": {
                "colab": {
                    "base_uri": "https://localhost:8080/"
                },
                "id": "kFdoJ6bPg29T",
                "outputId": "ec567af5-14b1-45fa-a08a-c8aa530cc7cc"
            },
            "outputs": [
                {
                    "name": "stdout",
                    "output_type": "stream",
                    "text": [
                        "p-value: 0.1408\n"
                    ]
                }
            ],
            "source": [
                "tstat, pvalue, df = sm.stats.ttest_ind(\n",
                "    session_times[session_times.Page == 'Page A'].Time, \n",
                "    session_times[session_times.Page == 'Page B'].Time,\n",
                "    usevar='unequal', alternative='smaller')\n",
                "print(f'p-value: {pvalue:.4f}')"
            ]
        },
        {
            "cell_type": "markdown",
            "metadata": {
                "id": "hX0EqCC9g7WL"
            },
            "source": [
                "**ANOVA**\n"
            ]
        },
        {
            "attachments": {},
            "cell_type": "markdown",
            "metadata": {
                "id": "c4_w25N0PFxC"
            },
            "source": [
                "- Supposons qu'au lieu d'un test A/B, nous ayons une comparaison de plusieurs groupes, disons A/B/C/D, chacun avec des donn\u00e9es num\u00e9riques.\n",
                "- La proc\u00e9dure statistique qui teste une statistique diff\u00e9rence significative entre les groupes est appel\u00e9e analyse de variance, ou ANOVA.\n",
                "![image](https://user-images.githubusercontent.com/123748165/222193725-0de37f1d-add9-468f-a185-579b183a8194.png)\n"
            ]
        },
        {
            "cell_type": "markdown",
            "metadata": {
                "id": "LUxE_iOjRN13"
            },
            "source": [
                "- Ce tableau montre la viscosit\u00e9 de quatre pages Web, d\u00e9finie comme le nombre de secondes par visiteur pass\u00e9 sur la page.\n",
                "- Les quatre pages sont d\u00e9sactiv\u00e9es afin que chaque visiteur du site\n",
                "en re\u00e7oit un au hasard.\n",
                "- Il y a un total de cinq visiteurs pour chaque page, et dans ce Table , chaque colonne est un ensemble de donn\u00e9es ind\u00e9pendant.\n",
                "- Le premier spectateur de la page 1 a pas de connexion au premier visualiseur pour la page 2.\n",
                "- Notez que dans un test web comme celui\u2010ci, nous pouvons\u2010\n",
                "ne met pas pleinement en \u0153uvre le plan d'\u00e9chantillonnage al\u00e9atoire classique dans lequel chaque visiteur est choisis au hasard parmi une immense population.\n",
                "- Il faut prendre les visiteurs comme ils viens.\n",
                "- Les visiteurs peuvent syst\u00e9matiquement diff\u00e9rer selon l'heure de la journ\u00e9e, la p\u00e9riode de la semaine, la mer.\n",
                "- fils de l'ann\u00e9e, les conditions de leur connexion Internet, l'appareil qu'ils utilisent, etc.\n",
                "\n",
                "- Ces facteurs doivent \u00eatre consid\u00e9r\u00e9s comme un biais potentiel lorsque les r\u00e9sultats de l'exp\u00e9rience sont\n",
                "revu.\n"
            ]
        },
        {
            "cell_type": "markdown",
            "metadata": {
                "id": "k4RtAVLjRlvs"
            },
            "source": [
                "- Nous avons maintenant une \u00e9nigme (voir Figure 3-6). Lorsque nous comparions seulement deux groupes, c'\u00e9tait simple; nous avons simplement regard\u00e9 la diff\u00e9rence entre les moyens\n",
                "de chaque groupe.\n",
                "- Avec quatre moyennes, il y a six comparaisons possibles entre les groupes :\n",
                "\n",
                "- Page 1 par rapport \u00e0 la page 2\n",
                "\n",
                "- Page 1 par rapport \u00e0 la page 3\n",
                "\n",
                "- Page 1 par rapport \u00e0 la page 4\n",
                "\n",
                "- Page 2 par rapport \u00e0 la page 3\n",
                "\n",
                "- Page 2 par rapport \u00e0 la page 4\n",
                "\n",
                "- Page 3 par rapport \u00e0 la page 4\n",
                "\n",
                "- Plus nous faisons de telles comparaisons par paires, plus le potentiel d'\u00eatre\n",
                "tromp\u00e9 par hasard.\n",
                "- Au lieu de s'inqui\u00e9ter sur toutes les diff\u00e9rentes comparaisons entre les pages individuelles que nous pourrions \u00e9ventuellement faire, nous pouvons faire un seul test global qui r\u00e9pond \u00e0 la question, \"Toutes les pages pourraient-elles avoir la m\u00eame adh\u00e9rence sous-jacente, et les diff\u00e9rences entre elles sont dues \u00e0 la fa\u00e7on dont un ensemble commun de temps de session a \u00e9t\u00e9 r\u00e9parti entre les quatre pages\u00a0?\u00a0\u00bb\n"
            ]
        },
        {
            "cell_type": "code",
            "execution_count": null,
            "metadata": {
                "colab": {
                    "base_uri": "https://localhost:8080/",
                    "height": 297
                },
                "id": "u0tI518yg9AA",
                "outputId": "d09e5b09-a56d-4a3c-8e76-d79125dbfc01"
            },
            "outputs": [
                {
                    "data": {
                        "image/png": "[encoded data removed]",
                        "text/plain": [
                            "<Figure size 288x288 with 1 Axes>"
                        ]
                    },
                    "metadata": {
                        "needs_background": "light"
                    },
                    "output_type": "display_data"
                }
            ],
            "source": [
                "four_sessions = pd.read_csv(FOUR_SESSIONS_CSV)\n",
                "\n",
                "ax = four_sessions.boxplot(by='Page', column='Time',\n",
                "                           figsize=(4, 4))\n",
                "ax.set_xlabel('Page')\n",
                "ax.set_ylabel('Time (in seconds)')\n",
                "plt.suptitle('')\n",
                "plt.title('')\n",
                "\n",
                "plt.tight_layout()\n",
                "plt.show()"
            ]
        },
        {
            "cell_type": "code",
            "execution_count": null,
            "metadata": {
                "colab": {
                    "base_uri": "https://localhost:8080/"
                },
                "id": "nUcsAftWhAY6",
                "outputId": "988ece41-4491-4139-dae9-6f3f080c359f"
            },
            "outputs": [
                {
                    "name": "stdout",
                    "output_type": "stream",
                    "text": [
                        "     Page  Time\n",
                        "0  Page 1   164\n",
                        "1  Page 2   178\n",
                        "2  Page 3   175\n",
                        "3  Page 4   155\n",
                        "4  Page 1   172\n"
                    ]
                }
            ],
            "source": [
                "print(pd.read_csv(FOUR_SESSIONS_CSV).head())"
            ]
        },
        {
            "cell_type": "markdown",
            "metadata": {
                "id": "xM4NwFzBSMEf"
            },
            "source": [
                "- La proc\u00e9dure utilis\u00e9e pour tester cela est ANOVA. La base pour cela peut \u00eatre vue dans ce qui suit proc\u00e9dure de r\u00e9\u00e9chantillonnage (sp\u00e9cifi\u00e9e ici pour le test A/B/C/D de la page Web collant):\n",
                "1. Combinez toutes les donn\u00e9es ensemble dans une seule case.\n",
                "2. M\u00e9langez et tirez quatre r\u00e9\u00e9chantillons de cinq valeurs chacun.\n",
                "3. Enregistrez la moyenne de chacun des quatre groupes.\n",
                "4. Enregistrez la variance entre les moyennes des quatre groupes.\n",
                "5. R\u00e9p\u00e9tez les \u00e9tapes 2 \u00e0 4 plusieurs (disons, 3 000) fois.\n",
                "\n",
                "\n",
                "- la fonction perm_test calcule un test de permutation pour ce cas:\n"
            ]
        },
        {
            "cell_type": "code",
            "execution_count": null,
            "metadata": {
                "colab": {
                    "base_uri": "https://localhost:8080/"
                },
                "id": "qoxvwyHBhDVw",
                "outputId": "1c6ec445-a77b-4978-ba63-1955a4eac319"
            },
            "outputs": [
                {
                    "name": "stdout",
                    "output_type": "stream",
                    "text": [
                        "Observed means: [172.8 182.6 175.6 164.6]\n",
                        "Variance: 55.426666666666655\n",
                        "82.04\n"
                    ]
                }
            ],
            "source": [
                "observed_variance = four_sessions.groupby('Page').mean().var()[0]\n",
                "print('Observed means:', four_sessions.groupby('Page').mean().values.ravel())\n",
                "print('Variance:', observed_variance)\n",
                "# Permutation test example with stickiness\n",
                "def perm_test(df):\n",
                "    df = df.copy()\n",
                "    df['Time'] = np.random.permutation(df['Time'].values)\n",
                "    return df.groupby('Page').mean().var()[0]\n",
                "    \n",
                "print(perm_test(four_sessions))"
            ]
        },
        {
            "cell_type": "code",
            "execution_count": null,
            "metadata": {
                "colab": {
                    "base_uri": "https://localhost:8080/",
                    "height": 386
                },
                "id": "S219uP9WhFgz",
                "outputId": "e5dd7daa-cfb0-4944-c9d7-1c5e544adf8c"
            },
            "outputs": [
                {
                    "name": "stdout",
                    "output_type": "stream",
                    "text": [
                        "Pr(Prob) 0.07766666666666666\n"
                    ]
                },
                {
                    "data": {
                        "image/png": "[encoded data removed]",
                        "text/plain": [
                            "<Figure size 360x360 with 1 Axes>"
                        ]
                    },
                    "metadata": {
                        "needs_background": "light"
                    },
                    "output_type": "display_data"
                }
            ],
            "source": [
                "random.seed(1)\n",
                "perm_variance = [perm_test(four_sessions) for _ in range(3000)]\n",
                "print('Pr(Prob)', np.mean([var > observed_variance for var in perm_variance]))\n",
                "\n",
                "fig, ax = plt.subplots(figsize=(5, 5))\n",
                "ax.hist(perm_variance, bins=11, rwidth=0.9)\n",
                "ax.axvline(x = observed_variance, color='black', lw=2)\n",
                "ax.text(60, 200, 'Observed\\nvariance', bbox={'facecolor':'white'})\n",
                "ax.set_xlabel('Variance')\n",
                "ax.set_ylabel('Frequency')\n",
                "\n",
                "plt.tight_layout()\n",
                "plt.show()"
            ]
        },
        {
            "cell_type": "markdown",
            "metadata": {
                "id": "ENFKTHfDWKTT"
            },
            "source": [
                "- La valeur de p, donn\u00e9e par Pr(Prob), est de 0,07766. En d'autres termes, \u00e9tant donn\u00e9 la m\u00eame adh\u00e9rence sous-jacente, 7,8\u00a0% du temps, le taux de r\u00e9ponse sur quatre pages peut diff\u00e9rer selon autant qu'on l'a effectivement observ\u00e9, juste par hasard. Ce degr\u00e9 d'improbabilit\u00e9 tombe en de\u00e7\u00e0 du seuil statistique traditionnel de 5\u00a0%, nous concluons donc que la diff\u00e9rence parmi les quatre pages aurait pu surgir par hasard.\n",
                "- La colonne Iter r\u00e9pertorie le nombre d'it\u00e9rations prises dans le test de permutation.\n",
                "-  les autres colonnes correspondent \u00e0 une table ANOVA traditionnelle et sont d\u00e9crites ci-apr\u00e8s.\n"
            ]
        }
    ],
    "metadata": {
        "kernelspec": {
            "display_name": "env",
            "language": "python",
            "name": "python3"
        },
        "language_info": {
            "name": "python",
            "version": "3.11.0"
        },
        "vscode": {
            "interpreter": {
                "hash": "a535573ec38c0444cce32f4c997696b55d67f9e32ebf0e7a06a46f3ea7917ee8"
            }
        }
    },
    "nbformat": 4,
    "nbformat_minor": 0
}