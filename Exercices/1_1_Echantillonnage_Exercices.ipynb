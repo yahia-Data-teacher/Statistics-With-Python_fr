{
    "cells": [
        {
            "cell_type": "markdown",
            "metadata": {
                "id": "view-in-github",
                "colab_type": "text"
            },
            "source": [
                "<a href=\"https://colab.research.google.com/github/yahia-kplr/Statistics-With-Python_fr/blob/main/Exercices/1_1_Echantillonnage_Exercices.ipynb\" target=\"_blank\"><img src=\"https://colab.research.google.com/assets/colab-badge.svg\" alt=\"Open In Colab\"/></a>"
            ]
        },
        {
            "attachments": {},
            "cell_type": "markdown",
            "metadata": {
                "id": "07JQbgnhw32O"
            },
            "source": [
                "# \u00c9chantillonnage\n"
            ]
        },
        {
            "cell_type": "markdown",
            "metadata": {
                "id": "_YRSzIeQw32V"
            },
            "source": [
                "Dans le chapitre et la conf\u00e9rence, nous avons discut\u00e9 de certains probl\u00e8mes fondamentaux de l'\u00e9chantillonnage. Dans ce cahier, vous explorerez quelques m\u00e9thodes python pratiques pour l'\u00e9chantillonnage et examinerez les implications de l'\u00e9chantillonnage sur ce que vous comprenez d'un groupe cible (c'est-\u00e0-dire ce que vous pouvez g\u00e9n\u00e9raliser).\n"
            ]
        },
        {
            "cell_type": "markdown",
            "metadata": {
                "id": "fIKi3BSRw32W"
            },
            "source": [
                "## Importation et utilisation de fonctions existantes\n"
            ]
        },
        {
            "cell_type": "code",
            "execution_count": null,
            "metadata": {
                "id": "7Uk16u1Vw32Y"
            },
            "outputs": [],
            "source": [
                "import numpy as np\n",
                "import numpy.random as npr\n",
                "import pandas as pd\n",
                "import seaborn as sns"
            ]
        },
        {
            "cell_type": "markdown",
            "metadata": {
                "id": "kYvDHwA8w32b"
            },
            "source": [
                "## Probl\u00e8me 0 : Amor\u00e7age d'un g\u00e9n\u00e9rateur de nombres al\u00e9atoires\n"
            ]
        },
        {
            "cell_type": "markdown",
            "metadata": {
                "id": "ktVnF4M8w32q"
            },
            "source": [
                "Lorsque nous utilisons l'ordinateur pour jouer avec des nombres al\u00e9atoires (ou des \u00e9chantillons al\u00e9atoires), nous n'utilisons pas r\u00e9ellement de nombres al\u00e9atoires. D'une mani\u00e8re g\u00e9n\u00e9rale, votre ordinateur est une machine d\u00e9terministe, il est donc incapable de cr\u00e9er des nombres vraiment al\u00e9atoires. Au lieu de cela, les nombres que votre ordinateur vous donne sont appel\u00e9s pseudo-al\u00e9atoires car ils poss\u00e8dent de nombreuses propri\u00e9t\u00e9s que nous attendons des nombres al\u00e9atoires, mais ne sont pas exactement et enti\u00e8rement al\u00e9atoires.\n",
                "\n",
                "Chaque fois que nous utilisons des nombres al\u00e9atoires dans un script, une simulation ou une analyse, il est important de \"semer\" le g\u00e9n\u00e9rateur de nombres al\u00e9atoires. Cela a initialis\u00e9 la fonction de g\u00e9n\u00e9rateur de nombres al\u00e9atoires \u00e0 un \"\u00e9tat\" particulier, ce qui rend le nombre dans le script al\u00e9atoire mais r\u00e9p\u00e9table.\n",
                "\n",
                "Essayons cela. Essayez d'abord d'ex\u00e9cuter la cellule suivante et de voir quelle est la sortie. Essayez de l'ex\u00e9cuter plusieurs fois et voyez comment les chiffres changent.\n"
            ]
        },
        {
            "cell_type": "code",
            "execution_count": null,
            "metadata": {
                "id": "pFMb2HXcw32s",
                "outputId": "80bf4e28-2527-4788-d22b-a389e2240d7d"
            },
            "outputs": [
                {
                    "data": {
                        "text/plain": [
                            "array([4, 1, 3, 6, 5, 3, 9, 6, 9, 1])"
                        ]
                    },
                    "execution_count": 20,
                    "metadata": {},
                    "output_type": "execute_result"
                }
            ],
            "source": [
                "npr.randint(0,10,10)"
            ]
        },
        {
            "cell_type": "markdown",
            "metadata": {
                "id": "MO0kLEAhw32u"
            },
            "source": [
                "Ex\u00e9cutez maintenant cette cellule\u00a0:\n"
            ]
        },
        {
            "cell_type": "code",
            "execution_count": null,
            "metadata": {
                "id": "YW6NsP_2w32v",
                "outputId": "a61d094a-47dd-40c0-d0c5-b634ee164e57"
            },
            "outputs": [
                {
                    "name": "stdout",
                    "output_type": "stream",
                    "text": [
                        "[9 4 0 1 9 0 1 8 9 0]\n",
                        "[8 6 4 3 0 4 6 8 1 8]\n"
                    ]
                }
            ],
            "source": [
                "npr.seed(10)\n",
                "print(npr.randint(0,10,10))\n",
                "print(npr.randint(0,10,10))"
            ]
        },
        {
            "cell_type": "markdown",
            "metadata": {
                "id": "-jfRExJlw32w"
            },
            "source": [
                "Encore une fois, essayez de r\u00e9p\u00e9ter l'ex\u00e9cution de la cellule encore et encore. Qu'observez-vous ?\n",
                "\n",
                "Essayez de red\u00e9marrer le noyau et ex\u00e9cutez \u00e0 nouveau la cellule. Que remarquez-vous ? Comparez avec les autres personnes de votre groupe. Changez \u00e9galement l'argument en `npr.seed()` et voyez ce qui se passe.\n"
            ]
        },
        {
            "cell_type": "markdown",
            "metadata": {
                "id": "rWcWK477w32x"
            },
            "source": [
                "#### R\u00e9ponse 0 ici\u00a0:\n"
            ]
        },
        {
            "cell_type": "code",
            "execution_count": null,
            "metadata": {
                "id": "XUfTDzd7w32y"
            },
            "outputs": [],
            "source": [
                "## Enter solution here"
            ]
        },
        {
            "cell_type": "markdown",
            "metadata": {
                "id": "IHS9vYcdw32y"
            },
            "source": [
                "En r\u00e9sum\u00e9 : placez toujours le g\u00e9n\u00e9rateur de nombres al\u00e9atoires au d\u00e9but de tout script utilisant des nombres al\u00e9atoires afin que votre code soit plus reproductible.\n"
            ]
        },
        {
            "cell_type": "markdown",
            "metadata": {
                "id": "lSFYv-n_w32z"
            },
            "source": [
                "## Probl\u00e8me 1 : \u00c9chantillonnage \u00e0 partir d'une population finie\n",
                "\n",
                "Imaginez que je cr\u00e9e une liste avec 100 valeurs d\u00e9termin\u00e9es au hasard comme ci-dessous. En utilisant le Web, recherchez la fonction numpy random `choice()`. Utilisez-le pour g\u00e9n\u00e9rer un \u00e9chantillon al\u00e9atoire de taille 10 \u00e0 partir de ces donn\u00e9es. Faites-le deux fois, un avec remplacement et une fois sans remplacement.\n"
            ]
        },
        {
            "cell_type": "code",
            "execution_count": null,
            "metadata": {
                "id": "M8LrSsQZw320"
            },
            "outputs": [],
            "source": [
                "my_data = np.array([75, 25, 59, 63, 48, 29,  3, 17, 68, 39,  9, 62, 61, 52, 64, 45, 90,\n",
                "       87,  0, 42, 26, 52, 22, 25, 20, 22, 81, 25, 48, 79, 37,  6, 33, 30,\n",
                "       81,  5, 37, 85, 65,  0, 27, 40, 96, 67, 77, 29, 32, 25,  4, 53, 46,\n",
                "        7, 51, 65, 46, 91, 60, 52, 93, 26,  2, 42, 18, 19, 97, 45, 78, 33,\n",
                "       25, 30, 97, 96, 99, 32, 86, 43, 81, 83, 51, 81, 36, 29,  2, 33, 95,\n",
                "       39, 79,  1, 80, 17, 50, 38,  1, 98, 30, 89, 93, 27, 43, 30])"
            ]
        },
        {
            "cell_type": "markdown",
            "metadata": {
                "id": "tpt-M7AWw321"
            },
            "source": [
                "#### R\u00e9ponse 1 ici\u00a0:\n"
            ]
        },
        {
            "cell_type": "code",
            "execution_count": null,
            "metadata": {
                "id": "2ghGi0q7w321"
            },
            "outputs": [],
            "source": [
                "## Enter solution here"
            ]
        },
        {
            "cell_type": "markdown",
            "metadata": {
                "id": "yr2gwAzmw322"
            },
            "source": [
                "## Probl\u00e8me 2\u00a0: \u00c9chantillonnage \u00e0 partir d'un bloc de donn\u00e9es\n"
            ]
        },
        {
            "cell_type": "markdown",
            "metadata": {
                "id": "Zcy9EYCEw322"
            },
            "source": [
                "Parfois, ce qui nous int\u00e9resse, c'est l'\u00e9chantillonnage \u00e0 partir d'une base de donn\u00e9es pandas plut\u00f4t qu'une liste ou un tableau numpy. Pourquoi pourrions-nous vouloir \u00e9chantillonner \u00e0 partir d'un ensemble de donn\u00e9es\u00a0? L'une consiste \u00e0 s\u00e9lectionner au hasard un sous-ensemble de tests de formation si nous r\u00e9alisons des projets d'apprentissage automatique sur les donn\u00e9es (nous en reparlerons plus tard). Une autre est s'il y a deux nombreux enregistrements \u00e0 analyser, il est donc logique de s\u00e9lectionner au hasard un sous-ensemble et de les analyser. Une autre consiste \u00e0 \u00e9chantillonner \u00e0 plusieurs reprises \u00e0 partir d'un ensemble de donn\u00e9es pour appliquer une m\u00e9thode statistique appel\u00e9e \"boostrapping\" (https://en.wikipedia.org/wiki/Bootstrapping_(statistics))\n"
            ]
        },
        {
            "cell_type": "markdown",
            "metadata": {
                "id": "WPO74efOw323"
            },
            "source": [
                "Ce code charge un exemple de jeu de donn\u00e9es pandas de diff\u00e9rents pingouins.\n"
            ]
        },
        {
            "cell_type": "code",
            "execution_count": null,
            "metadata": {
                "id": "hpn29npWw323"
            },
            "outputs": [],
            "source": [
                "penguins_df = sns.load_dataset('penguins')"
            ]
        },
        {
            "cell_type": "code",
            "execution_count": null,
            "metadata": {
                "id": "kfABX1yWw324",
                "outputId": "0dba9ef4-0831-4fbc-cc76-3c98766a21fd"
            },
            "outputs": [
                {
                    "data": {
                        "text/html": [
                            "<div>\n",
                            "<style scoped>\n",
                            "    .dataframe tbody tr th:only-of-type {\n",
                            "        vertical-align: middle;\n",
                            "    }\n",
                            "\n",
                            "    .dataframe tbody tr th {\n",
                            "        vertical-align: top;\n",
                            "    }\n",
                            "\n",
                            "    .dataframe thead th {\n",
                            "        text-align: right;\n",
                            "    }\n",
                            "</style>\n",
                            "<table border=\"1\" class=\"dataframe\">\n",
                            "  <thead>\n",
                            "    <tr style=\"text-align: right;\">\n",
                            "      <th></th>\n",
                            "      <th>species</th>\n",
                            "      <th>island</th>\n",
                            "      <th>bill_length_mm</th>\n",
                            "      <th>bill_depth_mm</th>\n",
                            "      <th>flipper_length_mm</th>\n",
                            "      <th>body_mass_g</th>\n",
                            "      <th>sex</th>\n",
                            "    </tr>\n",
                            "  </thead>\n",
                            "  <tbody>\n",
                            "    <tr>\n",
                            "      <th>0</th>\n",
                            "      <td>Adelie</td>\n",
                            "      <td>Torgersen</td>\n",
                            "      <td>39.1</td>\n",
                            "      <td>18.7</td>\n",
                            "      <td>181.0</td>\n",
                            "      <td>3750.0</td>\n",
                            "      <td>Male</td>\n",
                            "    </tr>\n",
                            "    <tr>\n",
                            "      <th>1</th>\n",
                            "      <td>Adelie</td>\n",
                            "      <td>Torgersen</td>\n",
                            "      <td>39.5</td>\n",
                            "      <td>17.4</td>\n",
                            "      <td>186.0</td>\n",
                            "      <td>3800.0</td>\n",
                            "      <td>Female</td>\n",
                            "    </tr>\n",
                            "    <tr>\n",
                            "      <th>2</th>\n",
                            "      <td>Adelie</td>\n",
                            "      <td>Torgersen</td>\n",
                            "      <td>40.3</td>\n",
                            "      <td>18.0</td>\n",
                            "      <td>195.0</td>\n",
                            "      <td>3250.0</td>\n",
                            "      <td>Female</td>\n",
                            "    </tr>\n",
                            "    <tr>\n",
                            "      <th>3</th>\n",
                            "      <td>Adelie</td>\n",
                            "      <td>Torgersen</td>\n",
                            "      <td>NaN</td>\n",
                            "      <td>NaN</td>\n",
                            "      <td>NaN</td>\n",
                            "      <td>NaN</td>\n",
                            "      <td>NaN</td>\n",
                            "    </tr>\n",
                            "    <tr>\n",
                            "      <th>4</th>\n",
                            "      <td>Adelie</td>\n",
                            "      <td>Torgersen</td>\n",
                            "      <td>36.7</td>\n",
                            "      <td>19.3</td>\n",
                            "      <td>193.0</td>\n",
                            "      <td>3450.0</td>\n",
                            "      <td>Female</td>\n",
                            "    </tr>\n",
                            "  </tbody>\n",
                            "</table>\n",
                            "</div>"
                        ],
                        "text/plain": [
                            "  species     island  bill_length_mm  bill_depth_mm  flipper_length_mm  \\\n",
                            "0  Adelie  Torgersen            39.1           18.7              181.0   \n",
                            "1  Adelie  Torgersen            39.5           17.4              186.0   \n",
                            "2  Adelie  Torgersen            40.3           18.0              195.0   \n",
                            "3  Adelie  Torgersen             NaN            NaN                NaN   \n",
                            "4  Adelie  Torgersen            36.7           19.3              193.0   \n",
                            "\n",
                            "   body_mass_g     sex  \n",
                            "0       3750.0    Male  \n",
                            "1       3800.0  Female  \n",
                            "2       3250.0  Female  \n",
                            "3          NaN     NaN  \n",
                            "4       3450.0  Female  "
                        ]
                    },
                    "execution_count": 26,
                    "metadata": {},
                    "output_type": "execute_result"
                }
            ],
            "source": [
                "penguins_df.head()"
            ]
        },
        {
            "cell_type": "code",
            "execution_count": null,
            "metadata": {
                "id": "PfKw4dqow326",
                "outputId": "f9ca7edc-6aeb-42c0-d040-7ee3d4f26db5"
            },
            "outputs": [
                {
                    "name": "stdout",
                    "output_type": "stream",
                    "text": [
                        "<class 'pandas.core.frame.DataFrame'>\n",
                        "RangeIndex: 344 entries, 0 to 343\n",
                        "Data columns (total 7 columns):\n",
                        " #   Column             Non-Null Count  Dtype  \n",
                        "---  ------             --------------  -----  \n",
                        " 0   species            344 non-null    object \n",
                        " 1   island             344 non-null    object \n",
                        " 2   bill_length_mm     342 non-null    float64\n",
                        " 3   bill_depth_mm      342 non-null    float64\n",
                        " 4   flipper_length_mm  342 non-null    float64\n",
                        " 5   body_mass_g        342 non-null    float64\n",
                        " 6   sex                333 non-null    object \n",
                        "dtypes: float64(4), object(3)\n",
                        "memory usage: 18.9+ KB\n"
                    ]
                }
            ],
            "source": [
                "penguins_df.info()"
            ]
        },
        {
            "cell_type": "markdown",
            "metadata": {
                "id": "zmUFisOHw327"
            },
            "source": [
                "Recherchez la m\u00e9thode `sample()` des pandas et \u00e9chantillonnez au hasard 20 pingouins \u00e0 partir de la base de donn\u00e9es.\n"
            ]
        },
        {
            "cell_type": "markdown",
            "metadata": {
                "id": "k0mNm0NDw328"
            },
            "source": [
                "#### R\u00e9ponse 2a ici\u00a0:\n"
            ]
        },
        {
            "cell_type": "code",
            "execution_count": null,
            "metadata": {
                "id": "lGF_bInDw329"
            },
            "outputs": [],
            "source": [
                "## Enter solution here"
            ]
        },
        {
            "cell_type": "markdown",
            "metadata": {
                "id": "PFwbrBQQw329"
            },
            "source": [
                "Maintenant, pour la partie b de cette question, dans une boucle for, cr\u00e9ez 100 fois un \u00e9chantillon al\u00e9atoire de la base de donn\u00e9es et calculez la masse corporelle moyenne des pingouins de votre \u00e9chantillon. Ajoutez toutes ces valeurs \u00e0 une liste, puis tracez un histogramme de ces valeurs. Comparez-le \u00e0 la moyenne de l'ensemble de donn\u00e9es contenant tous les pingouins.\n"
            ]
        },
        {
            "cell_type": "markdown",
            "metadata": {
                "id": "CXyYcJA7w32-"
            },
            "source": [
                "#### R\u00e9ponse 2b ici\u00a0:\n"
            ]
        },
        {
            "cell_type": "code",
            "execution_count": null,
            "metadata": {
                "id": "HR_BiO6Zw32_"
            },
            "outputs": [],
            "source": [
                "## Enter solution here"
            ]
        },
        {
            "cell_type": "markdown",
            "metadata": {
                "id": "8hS_0aCUw32_"
            },
            "source": [
                "## Probl\u00e8me 3\u00a0: \u00c9chantillonnage stratifi\u00e9\n"
            ]
        },
        {
            "cell_type": "markdown",
            "metadata": {
                "id": "6sjKTZFhw33A"
            },
            "source": [
                "Un probl\u00e8me avec les \u00e9chantillons al\u00e9atoires simples que nous avons constitu\u00e9s de manchots est que dans chaque \u00e9chantillon, nous pourrions exclure certains groupes importants de donn\u00e9es. Par exemple, si nous n'avons \u00e9chantillonn\u00e9 que 10 manchots, peut-\u00eatre qu'ils sont tous des m\u00e2les. Si nous voulions \u00eatre plus \u00e9quitables, assurez-vous que nos \u00e9chantillons \u00e9taient _repr\u00e9sentatifs_ des diff\u00e9rences entre les sexes, alors nous voudrions peut-\u00eatre \u00e9chantillonner \u00e0 partir des sous-populations. C'est ce qu'on appelle \"l'\u00e9chantillonnage stratifi\u00e9\".\n",
                "\n",
                "Veuillez lire cet exemple de page Web\u00a0: https://www.statology.org/stratified-sampling-pandas/\n",
                "sur un \u00e9chantillonnage stratifi\u00e9 et adapter le code pour g\u00e9n\u00e9rer un \u00e9chantillon al\u00e9atoire de 10 manchots qui est stratifi\u00e9 de sorte qu'il y ait 5 exemples m\u00e2les et 5 femelles dans l'\u00e9chantillon\n"
            ]
        },
        {
            "cell_type": "markdown",
            "metadata": {
                "id": "ZNn91uo9w33A"
            },
            "source": [
                "####\u00a0Probl\u00e8me\u00a03\u00a0: R\u00e9pondez ici\n"
            ]
        },
        {
            "cell_type": "code",
            "execution_count": null,
            "metadata": {
                "id": "ktrbeT6nw33B"
            },
            "outputs": [],
            "source": [
                "## Enter solution here"
            ]
        },
        {
            "cell_type": "code",
            "execution_count": null,
            "metadata": {
                "id": "OIZc-ly2w33C"
            },
            "outputs": [],
            "source": []
        }
    ],
    "metadata": {
        "kernelspec": {
            "display_name": "base",
            "language": "python",
            "name": "python3"
        },
        "language_info": {
            "codemirror_mode": {
                "name": "ipython",
                "version": 3
            },
            "file_extension": ".py",
            "mimetype": "text/x-python",
            "name": "python",
            "nbconvert_exporter": "python",
            "pygments_lexer": "ipython3",
            "version": "3.9.12 (main, Apr  4 2022, 05:22:27) [MSC v.1916 64 bit (AMD64)]"
        },
        "vscode": {
            "interpreter": {
                "hash": "d8e65be2d5af5c08928ecb773b6dc450231fb3ffc1135c3e29100eb7fa86bbe1"
            }
        }
    },
    "nbformat": 4,
    "nbformat_minor": 0
}