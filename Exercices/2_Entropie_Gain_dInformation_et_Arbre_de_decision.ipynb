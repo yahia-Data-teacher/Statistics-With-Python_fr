{
    "nbformat": 4,
    "nbformat_minor": 0,
    "metadata": {
        "kernelspec": {
            "name": "python3",
            "display_name": "Python 3"
        },
        "language_info": {
            "name": "python"
        }
    },
    "cells": [
        {
            "cell_type": "markdown",
            "metadata": {
                "id": "view-in-github",
                "colab_type": "text"
            },
            "source": [
                "<a href=\"https://colab.research.google.com/github/yahia-kplr/Statistics-With-Python_fr/blob/main/Exercices/2_Entropie_Gain_dInformation_et_Arbre_de_decision.ipynb\" target=\"_blank\"><img src=\"https://colab.research.google.com/assets/colab-badge.svg\" alt=\"Open In Colab\"/></a>"
            ]
        },
        {
            "cell_type": "markdown",
            "source": [
                "# **Qu'est-ce qu'un arbre de d\u00e9cision\u00a0?**\n",
                "- Un arbre de d\u00e9cision est une carte des r\u00e9sultats possibles d'une s\u00e9rie de choix li\u00e9s.\n",
                "- Il permet \u00e0 un individu ou \u00e0 une organisation de peser les actions possibles les unes contre les autres en fonction de leurs co\u00fbts, probabilit\u00e9s et avantages.\n",
                "\n",
                "- Comme son nom l'indique, il utilise un mod\u00e8le de d\u00e9cisions en forme d'arbre.\n",
                "- Ils peuvent \u00eatre utilis\u00e9s soit pour animer une discussion informelle, soit pour \u00e9laborer un algorithme qui pr\u00e9dit math\u00e9matiquement le meilleur choix.\n",
                "\n",
                "- Un arbre de d\u00e9cision commence g\u00e9n\u00e9ralement par un seul n\u0153ud, qui se ramifie en r\u00e9sultats possibles.\n",
                "- Chacun de ces r\u00e9sultats conduit \u00e0 des n\u0153uds suppl\u00e9mentaires, qui se ramifient en d'autres possibilit\u00e9s.\n",
                "- Cela lui donne une forme arborescente.\n"
            ],
            "metadata": {
                "id": "FW_T8CTVCYiP"
            }
        },
        {
            "cell_type": "markdown",
            "source": [
                "![image.png](https://user-images.githubusercontent.com/123752166/222189308-b7ea9713-b0f3-4e7f-b19c-0ed86ab5c698.png)\n"
            ],
            "metadata": {
                "id": "Ptj_xz0KCm7n"
            }
        },
        {
            "cell_type": "markdown",
            "source": [
                "**Importer des donn\u00e9es**\n"
            ],
            "metadata": {
                "id": "ODY1qYYU2H6W"
            }
        },
        {
            "cell_type": "code",
            "execution_count": null,
            "metadata": {
                "id": "7HNncH93xLmA"
            },
            "outputs": [],
            "source": [
                "import pandas as pd\n",
                "import numpy as np\n",
                "import matplotlib.pyplot as plt\n",
                "%matplotlib inline"
            ]
        },
        {
            "cell_type": "code",
            "source": [
                "play_data = pd.read_csv('https://gist.githubusercontent.com/bigsnarfdude/515849391ad37fe593997fe0db98afaa/raw/f663366d17b7d05de61a145bbce7b2b961b3b07f/weather.csv')"
            ],
            "metadata": {
                "id": "8BHXn8FpxdE7"
            },
            "execution_count": null,
            "outputs": []
        },
        {
            "cell_type": "code",
            "source": [
                "play_data"
            ],
            "metadata": {
                "colab": {
                    "base_uri": "https://localhost:8080/",
                    "height": 488
                },
                "id": "uTGoPQOhxnJz",
                "outputId": "e525a7e7-44e7-4a70-c917-1cbee5c485f5"
            },
            "execution_count": null,
            "outputs": [
                {
                    "output_type": "execute_result",
                    "data": {
                        "text/plain": [
                            "     outlook temperature humidity  windy play\n",
                            "0   overcast         hot     high  False  yes\n",
                            "1   overcast        cool   normal   True  yes\n",
                            "2   overcast        mild     high   True  yes\n",
                            "3   overcast         hot   normal  False  yes\n",
                            "4      rainy        mild     high  False  yes\n",
                            "5      rainy        cool   normal  False  yes\n",
                            "6      rainy        cool   normal   True   no\n",
                            "7      rainy        mild   normal  False  yes\n",
                            "8      rainy        mild     high   True   no\n",
                            "9      sunny         hot     high  False   no\n",
                            "10     sunny         hot     high   True   no\n",
                            "11     sunny        mild     high  False   no\n",
                            "12     sunny        cool   normal  False  yes\n",
                            "13     sunny        mild   normal   True  yes"
                        ],
                        "text/html": [
                            "\n",
                            "  <div id=\"df-2b7cf72d-f39c-4088-9e51-060f270e7b8a\">\n",
                            "    <div class=\"colab-df-container\">\n",
                            "      <div>\n",
                            "<style scoped>\n",
                            "    .dataframe tbody tr th:only-of-type {\n",
                            "        vertical-align: middle;\n",
                            "    }\n",
                            "\n",
                            "    .dataframe tbody tr th {\n",
                            "        vertical-align: top;\n",
                            "    }\n",
                            "\n",
                            "    .dataframe thead th {\n",
                            "        text-align: right;\n",
                            "    }\n",
                            "</style>\n",
                            "<table border=\"1\" class=\"dataframe\">\n",
                            "  <thead>\n",
                            "    <tr style=\"text-align: right;\">\n",
                            "      <th></th>\n",
                            "      <th>outlook</th>\n",
                            "      <th>temperature</th>\n",
                            "      <th>humidity</th>\n",
                            "      <th>windy</th>\n",
                            "      <th>play</th>\n",
                            "    </tr>\n",
                            "  </thead>\n",
                            "  <tbody>\n",
                            "    <tr>\n",
                            "      <th>0</th>\n",
                            "      <td>overcast</td>\n",
                            "      <td>hot</td>\n",
                            "      <td>high</td>\n",
                            "      <td>False</td>\n",
                            "      <td>yes</td>\n",
                            "    </tr>\n",
                            "    <tr>\n",
                            "      <th>1</th>\n",
                            "      <td>overcast</td>\n",
                            "      <td>cool</td>\n",
                            "      <td>normal</td>\n",
                            "      <td>True</td>\n",
                            "      <td>yes</td>\n",
                            "    </tr>\n",
                            "    <tr>\n",
                            "      <th>2</th>\n",
                            "      <td>overcast</td>\n",
                            "      <td>mild</td>\n",
                            "      <td>high</td>\n",
                            "      <td>True</td>\n",
                            "      <td>yes</td>\n",
                            "    </tr>\n",
                            "    <tr>\n",
                            "      <th>3</th>\n",
                            "      <td>overcast</td>\n",
                            "      <td>hot</td>\n",
                            "      <td>normal</td>\n",
                            "      <td>False</td>\n",
                            "      <td>yes</td>\n",
                            "    </tr>\n",
                            "    <tr>\n",
                            "      <th>4</th>\n",
                            "      <td>rainy</td>\n",
                            "      <td>mild</td>\n",
                            "      <td>high</td>\n",
                            "      <td>False</td>\n",
                            "      <td>yes</td>\n",
                            "    </tr>\n",
                            "    <tr>\n",
                            "      <th>5</th>\n",
                            "      <td>rainy</td>\n",
                            "      <td>cool</td>\n",
                            "      <td>normal</td>\n",
                            "      <td>False</td>\n",
                            "      <td>yes</td>\n",
                            "    </tr>\n",
                            "    <tr>\n",
                            "      <th>6</th>\n",
                            "      <td>rainy</td>\n",
                            "      <td>cool</td>\n",
                            "      <td>normal</td>\n",
                            "      <td>True</td>\n",
                            "      <td>no</td>\n",
                            "    </tr>\n",
                            "    <tr>\n",
                            "      <th>7</th>\n",
                            "      <td>rainy</td>\n",
                            "      <td>mild</td>\n",
                            "      <td>normal</td>\n",
                            "      <td>False</td>\n",
                            "      <td>yes</td>\n",
                            "    </tr>\n",
                            "    <tr>\n",
                            "      <th>8</th>\n",
                            "      <td>rainy</td>\n",
                            "      <td>mild</td>\n",
                            "      <td>high</td>\n",
                            "      <td>True</td>\n",
                            "      <td>no</td>\n",
                            "    </tr>\n",
                            "    <tr>\n",
                            "      <th>9</th>\n",
                            "      <td>sunny</td>\n",
                            "      <td>hot</td>\n",
                            "      <td>high</td>\n",
                            "      <td>False</td>\n",
                            "      <td>no</td>\n",
                            "    </tr>\n",
                            "    <tr>\n",
                            "      <th>10</th>\n",
                            "      <td>sunny</td>\n",
                            "      <td>hot</td>\n",
                            "      <td>high</td>\n",
                            "      <td>True</td>\n",
                            "      <td>no</td>\n",
                            "    </tr>\n",
                            "    <tr>\n",
                            "      <th>11</th>\n",
                            "      <td>sunny</td>\n",
                            "      <td>mild</td>\n",
                            "      <td>high</td>\n",
                            "      <td>False</td>\n",
                            "      <td>no</td>\n",
                            "    </tr>\n",
                            "    <tr>\n",
                            "      <th>12</th>\n",
                            "      <td>sunny</td>\n",
                            "      <td>cool</td>\n",
                            "      <td>normal</td>\n",
                            "      <td>False</td>\n",
                            "      <td>yes</td>\n",
                            "    </tr>\n",
                            "    <tr>\n",
                            "      <th>13</th>\n",
                            "      <td>sunny</td>\n",
                            "      <td>mild</td>\n",
                            "      <td>normal</td>\n",
                            "      <td>True</td>\n",
                            "      <td>yes</td>\n",
                            "    </tr>\n",
                            "  </tbody>\n",
                            "</table>\n",
                            "</div>\n",
                            "      <button class=\"colab-df-convert\" onclick=\"convertToInteractive('df-2b7cf72d-f39c-4088-9e51-060f270e7b8a')\"\n",
                            "              title=\"Convert this dataframe to an interactive table.\"\n",
                            "              style=\"display:none;\">\n",
                            "        \n",
                            "  <svg xmlns=\"http://www.w3.org/2000/svg\" height=\"24px\"viewBox=\"0 0 24 24\"\n",
                            "       width=\"24px\">\n",
                            "    <path d=\"M0 0h24v24H0V0z\" fill=\"none\"/>\n",
                            "    <path d=\"M18.56 5.44l.94 2.06.94-2.06 2.06-.94-2.06-.94-.94-2.06-.94 2.06-2.06.94zm-11 1L8.5 8.5l.94-2.06 2.06-.94-2.06-.94L8.5 2.5l-.94 2.06-2.06.94zm10 10l.94 2.06.94-2.06 2.06-.94-2.06-.94-.94-2.06-.94 2.06-2.06.94z\"/><path d=\"M17.41 7.96l-1.37-1.37c-.4-.4-.92-.59-1.43-.59-.52 0-1.04.2-1.43.59L10.3 9.45l-7.72 7.72c-.78.78-.78 2.05 0 2.83L4 21.41c.39.39.9.59 1.41.59.51 0 1.02-.2 1.41-.59l7.78-7.78 2.81-2.81c.8-.78.8-2.07 0-2.86zM5.41 20L4 18.59l7.72-7.72 1.47 1.35L5.41 20z\"/>\n",
                            "  </svg>\n",
                            "      </button>\n",
                            "      \n",
                            "  <style>\n",
                            "    .colab-df-container {\n",
                            "      display:flex;\n",
                            "      flex-wrap:wrap;\n",
                            "      gap: 12px;\n",
                            "    }\n",
                            "\n",
                            "    .colab-df-convert {\n",
                            "      background-color: #E8F0FE;\n",
                            "      border: none;\n",
                            "      border-radius: 50%;\n",
                            "      cursor: pointer;\n",
                            "      display: none;\n",
                            "      fill: #1967D2;\n",
                            "      height: 32px;\n",
                            "      padding: 0 0 0 0;\n",
                            "      width: 32px;\n",
                            "    }\n",
                            "\n",
                            "    .colab-df-convert:hover {\n",
                            "      background-color: #E2EBFA;\n",
                            "      box-shadow: 0px 1px 2px rgba(60, 64, 67, 0.3), 0px 1px 3px 1px rgba(60, 64, 67, 0.15);\n",
                            "      fill: #174EA6;\n",
                            "    }\n",
                            "\n",
                            "    [theme=dark] .colab-df-convert {\n",
                            "      background-color: #3B4455;\n",
                            "      fill: #D2E3FC;\n",
                            "    }\n",
                            "\n",
                            "    [theme=dark] .colab-df-convert:hover {\n",
                            "      background-color: #434B5C;\n",
                            "      box-shadow: 0px 1px 3px 1px rgba(0, 0, 0, 0.15);\n",
                            "      filter: drop-shadow(0px 1px 2px rgba(0, 0, 0, 0.3));\n",
                            "      fill: #FFFFFF;\n",
                            "    }\n",
                            "  </style>\n",
                            "\n",
                            "      <script>\n",
                            "        const buttonEl =\n",
                            "          document.querySelector('#df-2b7cf72d-f39c-4088-9e51-060f270e7b8a button.colab-df-convert');\n",
                            "        buttonEl.style.display =\n",
                            "          google.colab.kernel.accessAllowed ? 'block' : 'none';\n",
                            "\n",
                            "        async function convertToInteractive(key) {\n",
                            "          const element = document.querySelector('#df-2b7cf72d-f39c-4088-9e51-060f270e7b8a');\n",
                            "          const dataTable =\n",
                            "            await google.colab.kernel.invokeFunction('convertToInteractive',\n",
                            "                                                     [key], {});\n",
                            "          if (!dataTable) return;\n",
                            "\n",
                            "          const docLinkHtml = 'Like what you see? Visit the ' +\n",
                            "            '<a target=\"_blank\" href=https://colab.research.google.com/notebooks/data_table.ipynb>data table notebook</a>'\n",
                            "            + ' to learn more about interactive tables.';\n",
                            "          element.innerHTML = '';\n",
                            "          dataTable['output_type'] = 'display_data';\n",
                            "          await google.colab.output.renderOutput(dataTable, element);\n",
                            "          const docLink = document.createElement('div');\n",
                            "          docLink.innerHTML = docLinkHtml;\n",
                            "          element.appendChild(docLink);\n",
                            "        }\n",
                            "      </script>\n",
                            "    </div>\n",
                            "  </div>\n",
                            "  "
                        ]
                    },
                    "metadata": {},
                    "execution_count": 3
                }
            ]
        },
        {
            "cell_type": "markdown",
            "source": [
                "**Un arbre de d\u00e9cision pour les donn\u00e9es ci-dessus**\n"
            ],
            "metadata": {
                "id": "5DLQuj4Px200"
            }
        },
        {
            "cell_type": "markdown",
            "source": [
                "![image.png](https://user-images.githubusercontent.com/123752166/222189681-ec77e040-8bf7-4365-af1e-86feb776fcd0.png)\n"
            ],
            "metadata": {
                "id": "Z43nV5ucxw8b"
            }
        },
        {
            "cell_type": "markdown",
            "source": [
                "## **2. Algorithme d'arbre de d\u00e9cision**\n",
                "\n"
            ],
            "metadata": {
                "id": "waa0b5aqyAr4"
            }
        },
        {
            "cell_type": "markdown",
            "source": [
                "L'algorithme peut se r\u00e9sumer ainsi :\n",
                "\n",
                "1. \u00c0 chaque \u00e9tape (n\u0153ud), choisissez la meilleure caract\u00e9ristique comme condition de test.\n",
                "\n",
                "2. Divisez maintenant le n\u0153ud en r\u00e9sultats possibles (n\u0153uds internes).\n",
                "\n",
                "3. R\u00e9p\u00e9tez les \u00e9tapes ci-dessus jusqu'\u00e0 ce que toutes les conditions de test aient \u00e9t\u00e9 \u00e9puis\u00e9es dans les n\u0153uds terminaux.\n",
                "\n",
                "- Lorsque vous commencez \u00e0 impl\u00e9menter l'algorithme, la premi\u00e8re question est : \"Comment choisir la condition de test de d\u00e9part ?\"\n",
                "\n",
                "- La r\u00e9ponse \u00e0 cette question r\u00e9side dans les valeurs de **'Entropy'** et **'Information Gain**'.\n",
                "- Voyons quels sont-ils et comment impactent-ils la cr\u00e9ation de notre arbre de d\u00e9cision.\n",
                "\n",
                "- **Entropie**\u00a0: l'entropie dans l'arbre de d\u00e9cision signifie l'homog\u00e9n\u00e9it\u00e9. Si les donn\u00e9es sont compl\u00e8tement homog\u00e8nes, l'entropie est de 0, sinon si les donn\u00e9es sont divis\u00e9es (50-50%), l'entropie est de 1.\n",
                "\n",
                "- **Gain d'information**\u00a0: le gain d'information est la diminution/augmentation de la valeur d'entropie lorsque le n\u0153ud est divis\u00e9.\n",
                "\n",
                "- Un attribut doit avoir le gain d'information le plus \u00e9lev\u00e9 pour \u00eatre s\u00e9lectionn\u00e9 pour le fractionnement.\n",
                "- Sur la base des valeurs calcul\u00e9es d'entropie et de gain d'information, nous choisissons le meilleur attribut \u00e0 une \u00e9tape particuli\u00e8re.\n",
                "- **Entropie de jeu**\n",
                "- Entropie(jouer) = \u2013 p(Oui) . log2p(Oui) \u2013 p(Non) . log2p(Non)\n"
            ],
            "metadata": {
                "id": "FdzRdq3yDotj"
            }
        },
        {
            "cell_type": "code",
            "source": [
                "play_data.play.value_counts()"
            ],
            "metadata": {
                "colab": {
                    "base_uri": "https://localhost:8080/"
                },
                "id": "whIEZQNOyZTR",
                "outputId": "a40ecf28-d600-41bc-8078-7c23b2833877"
            },
            "execution_count": null,
            "outputs": [
                {
                    "output_type": "execute_result",
                    "data": {
                        "text/plain": [
                            "yes    9\n",
                            "no     5\n",
                            "Name: play, dtype: int64"
                        ]
                    },
                    "metadata": {},
                    "execution_count": 4
                }
            ]
        },
        {
            "cell_type": "markdown",
            "source": [
                "### #FAIRE\n",
                "- Essayez de calculer l'Entropie de jeu\n"
            ],
            "metadata": {
                "id": "ma_6q0i4Etdv"
            }
        },
        {
            "cell_type": "code",
            "source": [
                "#Fill_here"
            ],
            "metadata": {
                "id": "bAxBRHHeyc7f"
            },
            "execution_count": null,
            "outputs": []
        },
        {
            "cell_type": "markdown",
            "source": [
                "** Gain d'informations **\n",
                "- Le gain d'information est bas\u00e9 sur la diminution de l'entropie apr\u00e8s qu'un jeu de donn\u00e9es soit divis\u00e9 sur un attribut.\n",
                "- La construction d'un arbre de d\u00e9cision consiste \u00e0 trouver l'attribut qui renvoie le gain d'information le plus \u00e9lev\u00e9 (c'est-\u00e0-dire les branches les plus homog\u00e8nes).\n",
                "- Gain(S, A) = Entropie(S) \u2013 \u2211 [ p(S|A) . Entropie(S|A) ]\n",
                "- Nous avons l'intention de choisir l'attribut, en divisant par quel gain d'information sera le plus\n",
                "- L'\u00e9tape suivante consiste \u00e0 calculer le gain d'informations pour tous les attributs\n",
                "\n",
                "**Gain d'information sur le fractionnement par Outlook**\n",
                "- Gain(Play, Outlook) = Entropy(Play) \u2013 \u2211 [ p(Play|Outlook) . Entropie(Conf\u00e9rence|Perspectives) ]\n",
                "- Gain(Play, Outlook) = Entropy(Play) \u2013 [ p(Play|Outlook=Sunny) . Entropie(Lecture|Outlook=Ensoleill\u00e9) ] \u2013 [ p(Lecture|Outlook=Couvert) . Entropie(Lecture|Perspectives=Couvert) ] \u2013 [ p(Lecture|Perspectives=Pluie) . Entropie(Lecture|Perspectives=Pluie) ]\n"
            ],
            "metadata": {
                "id": "v9S3mblgyjbQ"
            }
        },
        {
            "cell_type": "code",
            "source": [
                "play_data[play_data.outlook == 'sunny']"
            ],
            "metadata": {
                "colab": {
                    "base_uri": "https://localhost:8080/",
                    "height": 206
                },
                "id": "977hFTZoyv8I",
                "outputId": "51999d71-bdbb-44c0-d7a7-1260728351f8"
            },
            "execution_count": null,
            "outputs": [
                {
                    "output_type": "execute_result",
                    "data": {
                        "text/plain": [
                            "   outlook temperature humidity  windy play\n",
                            "9    sunny         hot     high  False   no\n",
                            "10   sunny         hot     high   True   no\n",
                            "11   sunny        mild     high  False   no\n",
                            "12   sunny        cool   normal  False  yes\n",
                            "13   sunny        mild   normal   True  yes"
                        ],
                        "text/html": [
                            "\n",
                            "  <div id=\"df-8237ced4-a3ba-41ad-bf6d-cb201e8bffe8\">\n",
                            "    <div class=\"colab-df-container\">\n",
                            "      <div>\n",
                            "<style scoped>\n",
                            "    .dataframe tbody tr th:only-of-type {\n",
                            "        vertical-align: middle;\n",
                            "    }\n",
                            "\n",
                            "    .dataframe tbody tr th {\n",
                            "        vertical-align: top;\n",
                            "    }\n",
                            "\n",
                            "    .dataframe thead th {\n",
                            "        text-align: right;\n",
                            "    }\n",
                            "</style>\n",
                            "<table border=\"1\" class=\"dataframe\">\n",
                            "  <thead>\n",
                            "    <tr style=\"text-align: right;\">\n",
                            "      <th></th>\n",
                            "      <th>outlook</th>\n",
                            "      <th>temperature</th>\n",
                            "      <th>humidity</th>\n",
                            "      <th>windy</th>\n",
                            "      <th>play</th>\n",
                            "    </tr>\n",
                            "  </thead>\n",
                            "  <tbody>\n",
                            "    <tr>\n",
                            "      <th>9</th>\n",
                            "      <td>sunny</td>\n",
                            "      <td>hot</td>\n",
                            "      <td>high</td>\n",
                            "      <td>False</td>\n",
                            "      <td>no</td>\n",
                            "    </tr>\n",
                            "    <tr>\n",
                            "      <th>10</th>\n",
                            "      <td>sunny</td>\n",
                            "      <td>hot</td>\n",
                            "      <td>high</td>\n",
                            "      <td>True</td>\n",
                            "      <td>no</td>\n",
                            "    </tr>\n",
                            "    <tr>\n",
                            "      <th>11</th>\n",
                            "      <td>sunny</td>\n",
                            "      <td>mild</td>\n",
                            "      <td>high</td>\n",
                            "      <td>False</td>\n",
                            "      <td>no</td>\n",
                            "    </tr>\n",
                            "    <tr>\n",
                            "      <th>12</th>\n",
                            "      <td>sunny</td>\n",
                            "      <td>cool</td>\n",
                            "      <td>normal</td>\n",
                            "      <td>False</td>\n",
                            "      <td>yes</td>\n",
                            "    </tr>\n",
                            "    <tr>\n",
                            "      <th>13</th>\n",
                            "      <td>sunny</td>\n",
                            "      <td>mild</td>\n",
                            "      <td>normal</td>\n",
                            "      <td>True</td>\n",
                            "      <td>yes</td>\n",
                            "    </tr>\n",
                            "  </tbody>\n",
                            "</table>\n",
                            "</div>\n",
                            "      <button class=\"colab-df-convert\" onclick=\"convertToInteractive('df-8237ced4-a3ba-41ad-bf6d-cb201e8bffe8')\"\n",
                            "              title=\"Convert this dataframe to an interactive table.\"\n",
                            "              style=\"display:none;\">\n",
                            "        \n",
                            "  <svg xmlns=\"http://www.w3.org/2000/svg\" height=\"24px\"viewBox=\"0 0 24 24\"\n",
                            "       width=\"24px\">\n",
                            "    <path d=\"M0 0h24v24H0V0z\" fill=\"none\"/>\n",
                            "    <path d=\"M18.56 5.44l.94 2.06.94-2.06 2.06-.94-2.06-.94-.94-2.06-.94 2.06-2.06.94zm-11 1L8.5 8.5l.94-2.06 2.06-.94-2.06-.94L8.5 2.5l-.94 2.06-2.06.94zm10 10l.94 2.06.94-2.06 2.06-.94-2.06-.94-.94-2.06-.94 2.06-2.06.94z\"/><path d=\"M17.41 7.96l-1.37-1.37c-.4-.4-.92-.59-1.43-.59-.52 0-1.04.2-1.43.59L10.3 9.45l-7.72 7.72c-.78.78-.78 2.05 0 2.83L4 21.41c.39.39.9.59 1.41.59.51 0 1.02-.2 1.41-.59l7.78-7.78 2.81-2.81c.8-.78.8-2.07 0-2.86zM5.41 20L4 18.59l7.72-7.72 1.47 1.35L5.41 20z\"/>\n",
                            "  </svg>\n",
                            "      </button>\n",
                            "      \n",
                            "  <style>\n",
                            "    .colab-df-container {\n",
                            "      display:flex;\n",
                            "      flex-wrap:wrap;\n",
                            "      gap: 12px;\n",
                            "    }\n",
                            "\n",
                            "    .colab-df-convert {\n",
                            "      background-color: #E8F0FE;\n",
                            "      border: none;\n",
                            "      border-radius: 50%;\n",
                            "      cursor: pointer;\n",
                            "      display: none;\n",
                            "      fill: #1967D2;\n",
                            "      height: 32px;\n",
                            "      padding: 0 0 0 0;\n",
                            "      width: 32px;\n",
                            "    }\n",
                            "\n",
                            "    .colab-df-convert:hover {\n",
                            "      background-color: #E2EBFA;\n",
                            "      box-shadow: 0px 1px 2px rgba(60, 64, 67, 0.3), 0px 1px 3px 1px rgba(60, 64, 67, 0.15);\n",
                            "      fill: #174EA6;\n",
                            "    }\n",
                            "\n",
                            "    [theme=dark] .colab-df-convert {\n",
                            "      background-color: #3B4455;\n",
                            "      fill: #D2E3FC;\n",
                            "    }\n",
                            "\n",
                            "    [theme=dark] .colab-df-convert:hover {\n",
                            "      background-color: #434B5C;\n",
                            "      box-shadow: 0px 1px 3px 1px rgba(0, 0, 0, 0.15);\n",
                            "      filter: drop-shadow(0px 1px 2px rgba(0, 0, 0, 0.3));\n",
                            "      fill: #FFFFFF;\n",
                            "    }\n",
                            "  </style>\n",
                            "\n",
                            "      <script>\n",
                            "        const buttonEl =\n",
                            "          document.querySelector('#df-8237ced4-a3ba-41ad-bf6d-cb201e8bffe8 button.colab-df-convert');\n",
                            "        buttonEl.style.display =\n",
                            "          google.colab.kernel.accessAllowed ? 'block' : 'none';\n",
                            "\n",
                            "        async function convertToInteractive(key) {\n",
                            "          const element = document.querySelector('#df-8237ced4-a3ba-41ad-bf6d-cb201e8bffe8');\n",
                            "          const dataTable =\n",
                            "            await google.colab.kernel.invokeFunction('convertToInteractive',\n",
                            "                                                     [key], {});\n",
                            "          if (!dataTable) return;\n",
                            "\n",
                            "          const docLinkHtml = 'Like what you see? Visit the ' +\n",
                            "            '<a target=\"_blank\" href=https://colab.research.google.com/notebooks/data_table.ipynb>data table notebook</a>'\n",
                            "            + ' to learn more about interactive tables.';\n",
                            "          element.innerHTML = '';\n",
                            "          dataTable['output_type'] = 'display_data';\n",
                            "          await google.colab.output.renderOutput(dataTable, element);\n",
                            "          const docLink = document.createElement('div');\n",
                            "          docLink.innerHTML = docLinkHtml;\n",
                            "          element.appendChild(docLink);\n",
                            "        }\n",
                            "      </script>\n",
                            "    </div>\n",
                            "  </div>\n",
                            "  "
                        ]
                    },
                    "metadata": {},
                    "execution_count": 7
                }
            ]
        },
        {
            "cell_type": "markdown",
            "source": [
                "### #FAIRE\n",
                "- Essayez de calculer l'Entropie de jeu si Outlook=Sunny\n"
            ],
            "metadata": {
                "id": "-NNHMLQHFHGq"
            }
        },
        {
            "cell_type": "code",
            "source": [
                "# Entropy(Play|Outlook=Sunny)\n",
                "#Fill_here"
            ],
            "metadata": {
                "id": "FYk4mVFAy9KR"
            },
            "execution_count": null,
            "outputs": []
        },
        {
            "cell_type": "code",
            "source": [
                "play_data[play_data.outlook == 'overcast']"
            ],
            "metadata": {
                "colab": {
                    "base_uri": "https://localhost:8080/",
                    "height": 175
                },
                "id": "CoJgIOzSzB3C",
                "outputId": "1f2757e2-2c25-4937-ccf2-803ab9a70077"
            },
            "execution_count": null,
            "outputs": [
                {
                    "output_type": "execute_result",
                    "data": {
                        "text/plain": [
                            "    outlook temperature humidity  windy play\n",
                            "0  overcast         hot     high  False  yes\n",
                            "1  overcast        cool   normal   True  yes\n",
                            "2  overcast        mild     high   True  yes\n",
                            "3  overcast         hot   normal  False  yes"
                        ],
                        "text/html": [
                            "\n",
                            "  <div id=\"df-d287dac8-e3db-413d-81b0-99e0fc5450e6\">\n",
                            "    <div class=\"colab-df-container\">\n",
                            "      <div>\n",
                            "<style scoped>\n",
                            "    .dataframe tbody tr th:only-of-type {\n",
                            "        vertical-align: middle;\n",
                            "    }\n",
                            "\n",
                            "    .dataframe tbody tr th {\n",
                            "        vertical-align: top;\n",
                            "    }\n",
                            "\n",
                            "    .dataframe thead th {\n",
                            "        text-align: right;\n",
                            "    }\n",
                            "</style>\n",
                            "<table border=\"1\" class=\"dataframe\">\n",
                            "  <thead>\n",
                            "    <tr style=\"text-align: right;\">\n",
                            "      <th></th>\n",
                            "      <th>outlook</th>\n",
                            "      <th>temperature</th>\n",
                            "      <th>humidity</th>\n",
                            "      <th>windy</th>\n",
                            "      <th>play</th>\n",
                            "    </tr>\n",
                            "  </thead>\n",
                            "  <tbody>\n",
                            "    <tr>\n",
                            "      <th>0</th>\n",
                            "      <td>overcast</td>\n",
                            "      <td>hot</td>\n",
                            "      <td>high</td>\n",
                            "      <td>False</td>\n",
                            "      <td>yes</td>\n",
                            "    </tr>\n",
                            "    <tr>\n",
                            "      <th>1</th>\n",
                            "      <td>overcast</td>\n",
                            "      <td>cool</td>\n",
                            "      <td>normal</td>\n",
                            "      <td>True</td>\n",
                            "      <td>yes</td>\n",
                            "    </tr>\n",
                            "    <tr>\n",
                            "      <th>2</th>\n",
                            "      <td>overcast</td>\n",
                            "      <td>mild</td>\n",
                            "      <td>high</td>\n",
                            "      <td>True</td>\n",
                            "      <td>yes</td>\n",
                            "    </tr>\n",
                            "    <tr>\n",
                            "      <th>3</th>\n",
                            "      <td>overcast</td>\n",
                            "      <td>hot</td>\n",
                            "      <td>normal</td>\n",
                            "      <td>False</td>\n",
                            "      <td>yes</td>\n",
                            "    </tr>\n",
                            "  </tbody>\n",
                            "</table>\n",
                            "</div>\n",
                            "      <button class=\"colab-df-convert\" onclick=\"convertToInteractive('df-d287dac8-e3db-413d-81b0-99e0fc5450e6')\"\n",
                            "              title=\"Convert this dataframe to an interactive table.\"\n",
                            "              style=\"display:none;\">\n",
                            "        \n",
                            "  <svg xmlns=\"http://www.w3.org/2000/svg\" height=\"24px\"viewBox=\"0 0 24 24\"\n",
                            "       width=\"24px\">\n",
                            "    <path d=\"M0 0h24v24H0V0z\" fill=\"none\"/>\n",
                            "    <path d=\"M18.56 5.44l.94 2.06.94-2.06 2.06-.94-2.06-.94-.94-2.06-.94 2.06-2.06.94zm-11 1L8.5 8.5l.94-2.06 2.06-.94-2.06-.94L8.5 2.5l-.94 2.06-2.06.94zm10 10l.94 2.06.94-2.06 2.06-.94-2.06-.94-.94-2.06-.94 2.06-2.06.94z\"/><path d=\"M17.41 7.96l-1.37-1.37c-.4-.4-.92-.59-1.43-.59-.52 0-1.04.2-1.43.59L10.3 9.45l-7.72 7.72c-.78.78-.78 2.05 0 2.83L4 21.41c.39.39.9.59 1.41.59.51 0 1.02-.2 1.41-.59l7.78-7.78 2.81-2.81c.8-.78.8-2.07 0-2.86zM5.41 20L4 18.59l7.72-7.72 1.47 1.35L5.41 20z\"/>\n",
                            "  </svg>\n",
                            "      </button>\n",
                            "      \n",
                            "  <style>\n",
                            "    .colab-df-container {\n",
                            "      display:flex;\n",
                            "      flex-wrap:wrap;\n",
                            "      gap: 12px;\n",
                            "    }\n",
                            "\n",
                            "    .colab-df-convert {\n",
                            "      background-color: #E8F0FE;\n",
                            "      border: none;\n",
                            "      border-radius: 50%;\n",
                            "      cursor: pointer;\n",
                            "      display: none;\n",
                            "      fill: #1967D2;\n",
                            "      height: 32px;\n",
                            "      padding: 0 0 0 0;\n",
                            "      width: 32px;\n",
                            "    }\n",
                            "\n",
                            "    .colab-df-convert:hover {\n",
                            "      background-color: #E2EBFA;\n",
                            "      box-shadow: 0px 1px 2px rgba(60, 64, 67, 0.3), 0px 1px 3px 1px rgba(60, 64, 67, 0.15);\n",
                            "      fill: #174EA6;\n",
                            "    }\n",
                            "\n",
                            "    [theme=dark] .colab-df-convert {\n",
                            "      background-color: #3B4455;\n",
                            "      fill: #D2E3FC;\n",
                            "    }\n",
                            "\n",
                            "    [theme=dark] .colab-df-convert:hover {\n",
                            "      background-color: #434B5C;\n",
                            "      box-shadow: 0px 1px 3px 1px rgba(0, 0, 0, 0.15);\n",
                            "      filter: drop-shadow(0px 1px 2px rgba(0, 0, 0, 0.3));\n",
                            "      fill: #FFFFFF;\n",
                            "    }\n",
                            "  </style>\n",
                            "\n",
                            "      <script>\n",
                            "        const buttonEl =\n",
                            "          document.querySelector('#df-d287dac8-e3db-413d-81b0-99e0fc5450e6 button.colab-df-convert');\n",
                            "        buttonEl.style.display =\n",
                            "          google.colab.kernel.accessAllowed ? 'block' : 'none';\n",
                            "\n",
                            "        async function convertToInteractive(key) {\n",
                            "          const element = document.querySelector('#df-d287dac8-e3db-413d-81b0-99e0fc5450e6');\n",
                            "          const dataTable =\n",
                            "            await google.colab.kernel.invokeFunction('convertToInteractive',\n",
                            "                                                     [key], {});\n",
                            "          if (!dataTable) return;\n",
                            "\n",
                            "          const docLinkHtml = 'Like what you see? Visit the ' +\n",
                            "            '<a target=\"_blank\" href=https://colab.research.google.com/notebooks/data_table.ipynb>data table notebook</a>'\n",
                            "            + ' to learn more about interactive tables.';\n",
                            "          element.innerHTML = '';\n",
                            "          dataTable['output_type'] = 'display_data';\n",
                            "          await google.colab.output.renderOutput(dataTable, element);\n",
                            "          const docLink = document.createElement('div');\n",
                            "          docLink.innerHTML = docLinkHtml;\n",
                            "          element.appendChild(docLink);\n",
                            "        }\n",
                            "      </script>\n",
                            "    </div>\n",
                            "  </div>\n",
                            "  "
                        ]
                    },
                    "metadata": {},
                    "execution_count": 10
                }
            ]
        },
        {
            "cell_type": "code",
            "source": [
                "# Entropy(Play|Outlook=overcast)\n",
                "# Since, it's a homogenous data entropy will be 0"
            ],
            "metadata": {
                "id": "1weQyQG_FKLB"
            },
            "execution_count": null,
            "outputs": []
        },
        {
            "cell_type": "code",
            "source": [
                "play_data[play_data.outlook == 'rainy']"
            ],
            "metadata": {
                "colab": {
                    "base_uri": "https://localhost:8080/",
                    "height": 206
                },
                "id": "N8DaMBPnzFBe",
                "outputId": "6bfe015c-ba16-46ee-cb44-2e2ee92f3e81"
            },
            "execution_count": null,
            "outputs": [
                {
                    "output_type": "execute_result",
                    "data": {
                        "text/plain": [
                            "  outlook temperature humidity  windy play\n",
                            "4   rainy        mild     high  False  yes\n",
                            "5   rainy        cool   normal  False  yes\n",
                            "6   rainy        cool   normal   True   no\n",
                            "7   rainy        mild   normal  False  yes\n",
                            "8   rainy        mild     high   True   no"
                        ],
                        "text/html": [
                            "\n",
                            "  <div id=\"df-cba3ad31-8731-40dd-b506-e87482b901eb\">\n",
                            "    <div class=\"colab-df-container\">\n",
                            "      <div>\n",
                            "<style scoped>\n",
                            "    .dataframe tbody tr th:only-of-type {\n",
                            "        vertical-align: middle;\n",
                            "    }\n",
                            "\n",
                            "    .dataframe tbody tr th {\n",
                            "        vertical-align: top;\n",
                            "    }\n",
                            "\n",
                            "    .dataframe thead th {\n",
                            "        text-align: right;\n",
                            "    }\n",
                            "</style>\n",
                            "<table border=\"1\" class=\"dataframe\">\n",
                            "  <thead>\n",
                            "    <tr style=\"text-align: right;\">\n",
                            "      <th></th>\n",
                            "      <th>outlook</th>\n",
                            "      <th>temperature</th>\n",
                            "      <th>humidity</th>\n",
                            "      <th>windy</th>\n",
                            "      <th>play</th>\n",
                            "    </tr>\n",
                            "  </thead>\n",
                            "  <tbody>\n",
                            "    <tr>\n",
                            "      <th>4</th>\n",
                            "      <td>rainy</td>\n",
                            "      <td>mild</td>\n",
                            "      <td>high</td>\n",
                            "      <td>False</td>\n",
                            "      <td>yes</td>\n",
                            "    </tr>\n",
                            "    <tr>\n",
                            "      <th>5</th>\n",
                            "      <td>rainy</td>\n",
                            "      <td>cool</td>\n",
                            "      <td>normal</td>\n",
                            "      <td>False</td>\n",
                            "      <td>yes</td>\n",
                            "    </tr>\n",
                            "    <tr>\n",
                            "      <th>6</th>\n",
                            "      <td>rainy</td>\n",
                            "      <td>cool</td>\n",
                            "      <td>normal</td>\n",
                            "      <td>True</td>\n",
                            "      <td>no</td>\n",
                            "    </tr>\n",
                            "    <tr>\n",
                            "      <th>7</th>\n",
                            "      <td>rainy</td>\n",
                            "      <td>mild</td>\n",
                            "      <td>normal</td>\n",
                            "      <td>False</td>\n",
                            "      <td>yes</td>\n",
                            "    </tr>\n",
                            "    <tr>\n",
                            "      <th>8</th>\n",
                            "      <td>rainy</td>\n",
                            "      <td>mild</td>\n",
                            "      <td>high</td>\n",
                            "      <td>True</td>\n",
                            "      <td>no</td>\n",
                            "    </tr>\n",
                            "  </tbody>\n",
                            "</table>\n",
                            "</div>\n",
                            "      <button class=\"colab-df-convert\" onclick=\"convertToInteractive('df-cba3ad31-8731-40dd-b506-e87482b901eb')\"\n",
                            "              title=\"Convert this dataframe to an interactive table.\"\n",
                            "              style=\"display:none;\">\n",
                            "        \n",
                            "  <svg xmlns=\"http://www.w3.org/2000/svg\" height=\"24px\"viewBox=\"0 0 24 24\"\n",
                            "       width=\"24px\">\n",
                            "    <path d=\"M0 0h24v24H0V0z\" fill=\"none\"/>\n",
                            "    <path d=\"M18.56 5.44l.94 2.06.94-2.06 2.06-.94-2.06-.94-.94-2.06-.94 2.06-2.06.94zm-11 1L8.5 8.5l.94-2.06 2.06-.94-2.06-.94L8.5 2.5l-.94 2.06-2.06.94zm10 10l.94 2.06.94-2.06 2.06-.94-2.06-.94-.94-2.06-.94 2.06-2.06.94z\"/><path d=\"M17.41 7.96l-1.37-1.37c-.4-.4-.92-.59-1.43-.59-.52 0-1.04.2-1.43.59L10.3 9.45l-7.72 7.72c-.78.78-.78 2.05 0 2.83L4 21.41c.39.39.9.59 1.41.59.51 0 1.02-.2 1.41-.59l7.78-7.78 2.81-2.81c.8-.78.8-2.07 0-2.86zM5.41 20L4 18.59l7.72-7.72 1.47 1.35L5.41 20z\"/>\n",
                            "  </svg>\n",
                            "      </button>\n",
                            "      \n",
                            "  <style>\n",
                            "    .colab-df-container {\n",
                            "      display:flex;\n",
                            "      flex-wrap:wrap;\n",
                            "      gap: 12px;\n",
                            "    }\n",
                            "\n",
                            "    .colab-df-convert {\n",
                            "      background-color: #E8F0FE;\n",
                            "      border: none;\n",
                            "      border-radius: 50%;\n",
                            "      cursor: pointer;\n",
                            "      display: none;\n",
                            "      fill: #1967D2;\n",
                            "      height: 32px;\n",
                            "      padding: 0 0 0 0;\n",
                            "      width: 32px;\n",
                            "    }\n",
                            "\n",
                            "    .colab-df-convert:hover {\n",
                            "      background-color: #E2EBFA;\n",
                            "      box-shadow: 0px 1px 2px rgba(60, 64, 67, 0.3), 0px 1px 3px 1px rgba(60, 64, 67, 0.15);\n",
                            "      fill: #174EA6;\n",
                            "    }\n",
                            "\n",
                            "    [theme=dark] .colab-df-convert {\n",
                            "      background-color: #3B4455;\n",
                            "      fill: #D2E3FC;\n",
                            "    }\n",
                            "\n",
                            "    [theme=dark] .colab-df-convert:hover {\n",
                            "      background-color: #434B5C;\n",
                            "      box-shadow: 0px 1px 3px 1px rgba(0, 0, 0, 0.15);\n",
                            "      filter: drop-shadow(0px 1px 2px rgba(0, 0, 0, 0.3));\n",
                            "      fill: #FFFFFF;\n",
                            "    }\n",
                            "  </style>\n",
                            "\n",
                            "      <script>\n",
                            "        const buttonEl =\n",
                            "          document.querySelector('#df-cba3ad31-8731-40dd-b506-e87482b901eb button.colab-df-convert');\n",
                            "        buttonEl.style.display =\n",
                            "          google.colab.kernel.accessAllowed ? 'block' : 'none';\n",
                            "\n",
                            "        async function convertToInteractive(key) {\n",
                            "          const element = document.querySelector('#df-cba3ad31-8731-40dd-b506-e87482b901eb');\n",
                            "          const dataTable =\n",
                            "            await google.colab.kernel.invokeFunction('convertToInteractive',\n",
                            "                                                     [key], {});\n",
                            "          if (!dataTable) return;\n",
                            "\n",
                            "          const docLinkHtml = 'Like what you see? Visit the ' +\n",
                            "            '<a target=\"_blank\" href=https://colab.research.google.com/notebooks/data_table.ipynb>data table notebook</a>'\n",
                            "            + ' to learn more about interactive tables.';\n",
                            "          element.innerHTML = '';\n",
                            "          dataTable['output_type'] = 'display_data';\n",
                            "          await google.colab.output.renderOutput(dataTable, element);\n",
                            "          const docLink = document.createElement('div');\n",
                            "          docLink.innerHTML = docLinkHtml;\n",
                            "          element.appendChild(docLink);\n",
                            "        }\n",
                            "      </script>\n",
                            "    </div>\n",
                            "  </div>\n",
                            "  "
                        ]
                    },
                    "metadata": {},
                    "execution_count": 11
                }
            ]
        },
        {
            "cell_type": "markdown",
            "source": [
                "### #FAIRE\n",
                "- Essayez de calculer l'Entropie de jeu si Outlook=Rainy\n"
            ],
            "metadata": {
                "id": "g-0BFgHrFs8Y"
            }
        },
        {
            "cell_type": "code",
            "source": [
                "# Entropy(Play|Outlook=rainy)\n",
                "#fill_here"
            ],
            "metadata": {
                "id": "b6rNVvF4zHsu"
            },
            "execution_count": null,
            "outputs": []
        },
        {
            "cell_type": "markdown",
            "source": [
                "**Gain sur la r\u00e9partition par attribut perspectives**\n"
            ],
            "metadata": {
                "id": "ubz8dLZxzNLf"
            }
        },
        {
            "cell_type": "markdown",
            "source": [
                "### #FAIRE\n",
                "- Essayez de calculer le gain sur le fractionnement par attribut outlook :\n",
                "- Gain(Play, Outlook) = Entropy(Play) \u2013 [ p(Play|Outlook=Sunny) . Entropy(Play|Outlook=Ensoleill\u00e9)]\u2013[p(Play|Outlook=Couvert).Entropy(Play|Outlook=Couvert) ] \u2013 [ p(Play|Outlook=Rain) . Entropie(Conf\u00e9rence|Perspectives=Pluie) ]\n"
            ],
            "metadata": {
                "id": "gUjEeWpnGE85"
            }
        },
        {
            "cell_type": "code",
            "source": [
                "#Fill_here "
            ],
            "metadata": {
                "colab": {
                    "base_uri": "https://localhost:8080/"
                },
                "id": "oFGTdkv1zQqo",
                "outputId": "c2518dd9-d3a9-4451-96b9-67e0f5e02a97"
            },
            "execution_count": null,
            "outputs": [
                {
                    "output_type": "execute_result",
                    "data": {
                        "text/plain": [
                            "0.2467498197744391"
                        ]
                    },
                    "metadata": {},
                    "execution_count": 14
                }
            ]
        },
        {
            "cell_type": "markdown",
            "source": [
                "**Autres gains**\n",
                "- Gain (jeu, temp\u00e9rature) - 0,029\n",
                "- Gain (jeu, humidit\u00e9) - 0,151\n",
                "- Gain (jeu, vent) - 0,048\n",
                "\n",
                "Conclusion - Outlook est gagnant et devient ainsi la racine de l'arbre\n",
                "\n",
                "![image.png](https://user-images.githubusercontent.com/123752166/222190048-e064451b-34e4-4392-a384-fc890e9449ef.png)\n"
            ],
            "metadata": {
                "id": "72GRP-HnzToW"
            }
        },
        {
            "cell_type": "markdown",
            "source": [
                "**Il est temps de trouver le prochain crit\u00e8re de fractionnement**\n"
            ],
            "metadata": {
                "id": "fal17081zqV-"
            }
        },
        {
            "cell_type": "code",
            "source": [
                "play_data[play_data.outlook == 'overcast']"
            ],
            "metadata": {
                "colab": {
                    "base_uri": "https://localhost:8080/",
                    "height": 175
                },
                "id": "-ONJgeeXzla1",
                "outputId": "e6de117a-6c6e-44c8-f528-d619dbd38dbd"
            },
            "execution_count": null,
            "outputs": [
                {
                    "output_type": "execute_result",
                    "data": {
                        "text/plain": [
                            "    outlook temperature humidity  windy play\n",
                            "0  overcast         hot     high  False  yes\n",
                            "1  overcast        cool   normal   True  yes\n",
                            "2  overcast        mild     high   True  yes\n",
                            "3  overcast         hot   normal  False  yes"
                        ],
                        "text/html": [
                            "\n",
                            "  <div id=\"df-e0663edc-df70-4f4d-8d35-6e9e1951c1b1\">\n",
                            "    <div class=\"colab-df-container\">\n",
                            "      <div>\n",
                            "<style scoped>\n",
                            "    .dataframe tbody tr th:only-of-type {\n",
                            "        vertical-align: middle;\n",
                            "    }\n",
                            "\n",
                            "    .dataframe tbody tr th {\n",
                            "        vertical-align: top;\n",
                            "    }\n",
                            "\n",
                            "    .dataframe thead th {\n",
                            "        text-align: right;\n",
                            "    }\n",
                            "</style>\n",
                            "<table border=\"1\" class=\"dataframe\">\n",
                            "  <thead>\n",
                            "    <tr style=\"text-align: right;\">\n",
                            "      <th></th>\n",
                            "      <th>outlook</th>\n",
                            "      <th>temperature</th>\n",
                            "      <th>humidity</th>\n",
                            "      <th>windy</th>\n",
                            "      <th>play</th>\n",
                            "    </tr>\n",
                            "  </thead>\n",
                            "  <tbody>\n",
                            "    <tr>\n",
                            "      <th>0</th>\n",
                            "      <td>overcast</td>\n",
                            "      <td>hot</td>\n",
                            "      <td>high</td>\n",
                            "      <td>False</td>\n",
                            "      <td>yes</td>\n",
                            "    </tr>\n",
                            "    <tr>\n",
                            "      <th>1</th>\n",
                            "      <td>overcast</td>\n",
                            "      <td>cool</td>\n",
                            "      <td>normal</td>\n",
                            "      <td>True</td>\n",
                            "      <td>yes</td>\n",
                            "    </tr>\n",
                            "    <tr>\n",
                            "      <th>2</th>\n",
                            "      <td>overcast</td>\n",
                            "      <td>mild</td>\n",
                            "      <td>high</td>\n",
                            "      <td>True</td>\n",
                            "      <td>yes</td>\n",
                            "    </tr>\n",
                            "    <tr>\n",
                            "      <th>3</th>\n",
                            "      <td>overcast</td>\n",
                            "      <td>hot</td>\n",
                            "      <td>normal</td>\n",
                            "      <td>False</td>\n",
                            "      <td>yes</td>\n",
                            "    </tr>\n",
                            "  </tbody>\n",
                            "</table>\n",
                            "</div>\n",
                            "      <button class=\"colab-df-convert\" onclick=\"convertToInteractive('df-e0663edc-df70-4f4d-8d35-6e9e1951c1b1')\"\n",
                            "              title=\"Convert this dataframe to an interactive table.\"\n",
                            "              style=\"display:none;\">\n",
                            "        \n",
                            "  <svg xmlns=\"http://www.w3.org/2000/svg\" height=\"24px\"viewBox=\"0 0 24 24\"\n",
                            "       width=\"24px\">\n",
                            "    <path d=\"M0 0h24v24H0V0z\" fill=\"none\"/>\n",
                            "    <path d=\"M18.56 5.44l.94 2.06.94-2.06 2.06-.94-2.06-.94-.94-2.06-.94 2.06-2.06.94zm-11 1L8.5 8.5l.94-2.06 2.06-.94-2.06-.94L8.5 2.5l-.94 2.06-2.06.94zm10 10l.94 2.06.94-2.06 2.06-.94-2.06-.94-.94-2.06-.94 2.06-2.06.94z\"/><path d=\"M17.41 7.96l-1.37-1.37c-.4-.4-.92-.59-1.43-.59-.52 0-1.04.2-1.43.59L10.3 9.45l-7.72 7.72c-.78.78-.78 2.05 0 2.83L4 21.41c.39.39.9.59 1.41.59.51 0 1.02-.2 1.41-.59l7.78-7.78 2.81-2.81c.8-.78.8-2.07 0-2.86zM5.41 20L4 18.59l7.72-7.72 1.47 1.35L5.41 20z\"/>\n",
                            "  </svg>\n",
                            "      </button>\n",
                            "      \n",
                            "  <style>\n",
                            "    .colab-df-container {\n",
                            "      display:flex;\n",
                            "      flex-wrap:wrap;\n",
                            "      gap: 12px;\n",
                            "    }\n",
                            "\n",
                            "    .colab-df-convert {\n",
                            "      background-color: #E8F0FE;\n",
                            "      border: none;\n",
                            "      border-radius: 50%;\n",
                            "      cursor: pointer;\n",
                            "      display: none;\n",
                            "      fill: #1967D2;\n",
                            "      height: 32px;\n",
                            "      padding: 0 0 0 0;\n",
                            "      width: 32px;\n",
                            "    }\n",
                            "\n",
                            "    .colab-df-convert:hover {\n",
                            "      background-color: #E2EBFA;\n",
                            "      box-shadow: 0px 1px 2px rgba(60, 64, 67, 0.3), 0px 1px 3px 1px rgba(60, 64, 67, 0.15);\n",
                            "      fill: #174EA6;\n",
                            "    }\n",
                            "\n",
                            "    [theme=dark] .colab-df-convert {\n",
                            "      background-color: #3B4455;\n",
                            "      fill: #D2E3FC;\n",
                            "    }\n",
                            "\n",
                            "    [theme=dark] .colab-df-convert:hover {\n",
                            "      background-color: #434B5C;\n",
                            "      box-shadow: 0px 1px 3px 1px rgba(0, 0, 0, 0.15);\n",
                            "      filter: drop-shadow(0px 1px 2px rgba(0, 0, 0, 0.3));\n",
                            "      fill: #FFFFFF;\n",
                            "    }\n",
                            "  </style>\n",
                            "\n",
                            "      <script>\n",
                            "        const buttonEl =\n",
                            "          document.querySelector('#df-e0663edc-df70-4f4d-8d35-6e9e1951c1b1 button.colab-df-convert');\n",
                            "        buttonEl.style.display =\n",
                            "          google.colab.kernel.accessAllowed ? 'block' : 'none';\n",
                            "\n",
                            "        async function convertToInteractive(key) {\n",
                            "          const element = document.querySelector('#df-e0663edc-df70-4f4d-8d35-6e9e1951c1b1');\n",
                            "          const dataTable =\n",
                            "            await google.colab.kernel.invokeFunction('convertToInteractive',\n",
                            "                                                     [key], {});\n",
                            "          if (!dataTable) return;\n",
                            "\n",
                            "          const docLinkHtml = 'Like what you see? Visit the ' +\n",
                            "            '<a target=\"_blank\" href=https://colab.research.google.com/notebooks/data_table.ipynb>data table notebook</a>'\n",
                            "            + ' to learn more about interactive tables.';\n",
                            "          element.innerHTML = '';\n",
                            "          dataTable['output_type'] = 'display_data';\n",
                            "          await google.colab.output.renderOutput(dataTable, element);\n",
                            "          const docLink = document.createElement('div');\n",
                            "          docLink.innerHTML = docLinkHtml;\n",
                            "          element.appendChild(docLink);\n",
                            "        }\n",
                            "      </script>\n",
                            "    </div>\n",
                            "  </div>\n",
                            "  "
                        ]
                    },
                    "metadata": {},
                    "execution_count": 15
                }
            ]
        },
        {
            "cell_type": "markdown",
            "source": [
                "Conclusion - Si les perspectives sont sombres, le jeu est vrai\n",
                "\n",
                "** Trouvons la prochaine fonctionnalit\u00e9 de fractionnement **\n"
            ],
            "metadata": {
                "id": "hpoEcMrazx-H"
            }
        },
        {
            "cell_type": "code",
            "source": [
                "play_data[play_data.outlook == 'sunny']"
            ],
            "metadata": {
                "colab": {
                    "base_uri": "https://localhost:8080/",
                    "height": 206
                },
                "id": "5UgKfPr_z1DZ",
                "outputId": "453b1f95-c6b9-479f-e4bf-8540d61899a7"
            },
            "execution_count": null,
            "outputs": [
                {
                    "output_type": "execute_result",
                    "data": {
                        "text/plain": [
                            "   outlook temperature humidity  windy play\n",
                            "9    sunny         hot     high  False   no\n",
                            "10   sunny         hot     high   True   no\n",
                            "11   sunny        mild     high  False   no\n",
                            "12   sunny        cool   normal  False  yes\n",
                            "13   sunny        mild   normal   True  yes"
                        ],
                        "text/html": [
                            "\n",
                            "  <div id=\"df-7e9f352e-6239-4de2-b589-bac6b082d6f9\">\n",
                            "    <div class=\"colab-df-container\">\n",
                            "      <div>\n",
                            "<style scoped>\n",
                            "    .dataframe tbody tr th:only-of-type {\n",
                            "        vertical-align: middle;\n",
                            "    }\n",
                            "\n",
                            "    .dataframe tbody tr th {\n",
                            "        vertical-align: top;\n",
                            "    }\n",
                            "\n",
                            "    .dataframe thead th {\n",
                            "        text-align: right;\n",
                            "    }\n",
                            "</style>\n",
                            "<table border=\"1\" class=\"dataframe\">\n",
                            "  <thead>\n",
                            "    <tr style=\"text-align: right;\">\n",
                            "      <th></th>\n",
                            "      <th>outlook</th>\n",
                            "      <th>temperature</th>\n",
                            "      <th>humidity</th>\n",
                            "      <th>windy</th>\n",
                            "      <th>play</th>\n",
                            "    </tr>\n",
                            "  </thead>\n",
                            "  <tbody>\n",
                            "    <tr>\n",
                            "      <th>9</th>\n",
                            "      <td>sunny</td>\n",
                            "      <td>hot</td>\n",
                            "      <td>high</td>\n",
                            "      <td>False</td>\n",
                            "      <td>no</td>\n",
                            "    </tr>\n",
                            "    <tr>\n",
                            "      <th>10</th>\n",
                            "      <td>sunny</td>\n",
                            "      <td>hot</td>\n",
                            "      <td>high</td>\n",
                            "      <td>True</td>\n",
                            "      <td>no</td>\n",
                            "    </tr>\n",
                            "    <tr>\n",
                            "      <th>11</th>\n",
                            "      <td>sunny</td>\n",
                            "      <td>mild</td>\n",
                            "      <td>high</td>\n",
                            "      <td>False</td>\n",
                            "      <td>no</td>\n",
                            "    </tr>\n",
                            "    <tr>\n",
                            "      <th>12</th>\n",
                            "      <td>sunny</td>\n",
                            "      <td>cool</td>\n",
                            "      <td>normal</td>\n",
                            "      <td>False</td>\n",
                            "      <td>yes</td>\n",
                            "    </tr>\n",
                            "    <tr>\n",
                            "      <th>13</th>\n",
                            "      <td>sunny</td>\n",
                            "      <td>mild</td>\n",
                            "      <td>normal</td>\n",
                            "      <td>True</td>\n",
                            "      <td>yes</td>\n",
                            "    </tr>\n",
                            "  </tbody>\n",
                            "</table>\n",
                            "</div>\n",
                            "      <button class=\"colab-df-convert\" onclick=\"convertToInteractive('df-7e9f352e-6239-4de2-b589-bac6b082d6f9')\"\n",
                            "              title=\"Convert this dataframe to an interactive table.\"\n",
                            "              style=\"display:none;\">\n",
                            "        \n",
                            "  <svg xmlns=\"http://www.w3.org/2000/svg\" height=\"24px\"viewBox=\"0 0 24 24\"\n",
                            "       width=\"24px\">\n",
                            "    <path d=\"M0 0h24v24H0V0z\" fill=\"none\"/>\n",
                            "    <path d=\"M18.56 5.44l.94 2.06.94-2.06 2.06-.94-2.06-.94-.94-2.06-.94 2.06-2.06.94zm-11 1L8.5 8.5l.94-2.06 2.06-.94-2.06-.94L8.5 2.5l-.94 2.06-2.06.94zm10 10l.94 2.06.94-2.06 2.06-.94-2.06-.94-.94-2.06-.94 2.06-2.06.94z\"/><path d=\"M17.41 7.96l-1.37-1.37c-.4-.4-.92-.59-1.43-.59-.52 0-1.04.2-1.43.59L10.3 9.45l-7.72 7.72c-.78.78-.78 2.05 0 2.83L4 21.41c.39.39.9.59 1.41.59.51 0 1.02-.2 1.41-.59l7.78-7.78 2.81-2.81c.8-.78.8-2.07 0-2.86zM5.41 20L4 18.59l7.72-7.72 1.47 1.35L5.41 20z\"/>\n",
                            "  </svg>\n",
                            "      </button>\n",
                            "      \n",
                            "  <style>\n",
                            "    .colab-df-container {\n",
                            "      display:flex;\n",
                            "      flex-wrap:wrap;\n",
                            "      gap: 12px;\n",
                            "    }\n",
                            "\n",
                            "    .colab-df-convert {\n",
                            "      background-color: #E8F0FE;\n",
                            "      border: none;\n",
                            "      border-radius: 50%;\n",
                            "      cursor: pointer;\n",
                            "      display: none;\n",
                            "      fill: #1967D2;\n",
                            "      height: 32px;\n",
                            "      padding: 0 0 0 0;\n",
                            "      width: 32px;\n",
                            "    }\n",
                            "\n",
                            "    .colab-df-convert:hover {\n",
                            "      background-color: #E2EBFA;\n",
                            "      box-shadow: 0px 1px 2px rgba(60, 64, 67, 0.3), 0px 1px 3px 1px rgba(60, 64, 67, 0.15);\n",
                            "      fill: #174EA6;\n",
                            "    }\n",
                            "\n",
                            "    [theme=dark] .colab-df-convert {\n",
                            "      background-color: #3B4455;\n",
                            "      fill: #D2E3FC;\n",
                            "    }\n",
                            "\n",
                            "    [theme=dark] .colab-df-convert:hover {\n",
                            "      background-color: #434B5C;\n",
                            "      box-shadow: 0px 1px 3px 1px rgba(0, 0, 0, 0.15);\n",
                            "      filter: drop-shadow(0px 1px 2px rgba(0, 0, 0, 0.3));\n",
                            "      fill: #FFFFFF;\n",
                            "    }\n",
                            "  </style>\n",
                            "\n",
                            "      <script>\n",
                            "        const buttonEl =\n",
                            "          document.querySelector('#df-7e9f352e-6239-4de2-b589-bac6b082d6f9 button.colab-df-convert');\n",
                            "        buttonEl.style.display =\n",
                            "          google.colab.kernel.accessAllowed ? 'block' : 'none';\n",
                            "\n",
                            "        async function convertToInteractive(key) {\n",
                            "          const element = document.querySelector('#df-7e9f352e-6239-4de2-b589-bac6b082d6f9');\n",
                            "          const dataTable =\n",
                            "            await google.colab.kernel.invokeFunction('convertToInteractive',\n",
                            "                                                     [key], {});\n",
                            "          if (!dataTable) return;\n",
                            "\n",
                            "          const docLinkHtml = 'Like what you see? Visit the ' +\n",
                            "            '<a target=\"_blank\" href=https://colab.research.google.com/notebooks/data_table.ipynb>data table notebook</a>'\n",
                            "            + ' to learn more about interactive tables.';\n",
                            "          element.innerHTML = '';\n",
                            "          dataTable['output_type'] = 'display_data';\n",
                            "          await google.colab.output.renderOutput(dataTable, element);\n",
                            "          const docLink = document.createElement('div');\n",
                            "          docLink.innerHTML = docLinkHtml;\n",
                            "          element.appendChild(docLink);\n",
                            "        }\n",
                            "      </script>\n",
                            "    </div>\n",
                            "  </div>\n",
                            "  "
                        ]
                    },
                    "metadata": {},
                    "execution_count": 16
                }
            ]
        },
        {
            "cell_type": "markdown",
            "source": [
                "### #FAIRE\n",
                "- Essayez de calculer l'entropie de jeu si outlook=sunny :\n"
            ],
            "metadata": {
                "id": "S7UwyCH1IJCL"
            }
        },
        {
            "cell_type": "code",
            "source": [
                "# Entropy(Play_Sunny|)\n",
                "#fill_here"
            ],
            "metadata": {
                "id": "ua9ffPTmz7HW"
            },
            "execution_count": null,
            "outputs": []
        },
        {
            "cell_type": "markdown",
            "source": [
                "**Gain d'information pour l'humidit\u00e9**\n"
            ],
            "metadata": {
                "id": "RSqwlm_E0Eio"
            }
        },
        {
            "cell_type": "markdown",
            "source": [
                "### #FAIRE\n",
                "- Essayez de calculer le gain d'information pour l'humidit\u00e9 :\n"
            ],
            "metadata": {
                "id": "SWOr094qI7jg"
            }
        },
        {
            "cell_type": "code",
            "source": [
                "#fill_here"
            ],
            "metadata": {
                "colab": {
                    "base_uri": "https://localhost:8080/"
                },
                "id": "h84HTdxi0HV0",
                "outputId": "87ced9f3-9322-45ed-82d0-62d5e2b2060b"
            },
            "execution_count": null,
            "outputs": [
                {
                    "output_type": "execute_result",
                    "data": {
                        "text/plain": [
                            "0.9709505944546686"
                        ]
                    },
                    "metadata": {},
                    "execution_count": 19
                }
            ]
        },
        {
            "cell_type": "markdown",
            "source": [
                "**Gain d'information pour venteux**\n",
                "- Faux -> 3 -> [1+ 2-]\n",
                "- Vrai -> 2 -> [1+ 1-]\n"
            ],
            "metadata": {
                "id": "36viuo_o0L_5"
            }
        },
        {
            "cell_type": "markdown",
            "source": [
                "### #FAIRE\n",
                "- Essayer de calculer l'entropie du vent est fausse\n"
            ],
            "metadata": {
                "id": "DfuCInu1LEv0"
            }
        },
        {
            "cell_type": "code",
            "source": [
                "#fill_here"
            ],
            "metadata": {
                "id": "lbp6aXC40T1m"
            },
            "execution_count": null,
            "outputs": []
        },
        {
            "cell_type": "markdown",
            "source": [
                "### #FAIRE\n",
                "- Essayez de calculer le gain d'information pour le vent :\n"
            ],
            "metadata": {
                "id": "iz-2oLhSLWSm"
            }
        },
        {
            "cell_type": "code",
            "source": [
                "#fill_here"
            ],
            "metadata": {
                "colab": {
                    "base_uri": "https://localhost:8080/"
                },
                "id": "0p5MPkxl0csw",
                "outputId": "55f7afcc-f62f-44ef-a712-c7b92b078434"
            },
            "execution_count": null,
            "outputs": [
                {
                    "output_type": "execute_result",
                    "data": {
                        "text/plain": [
                            "0.01997309402197489"
                        ]
                    },
                    "metadata": {},
                    "execution_count": 22
                }
            ]
        },
        {
            "cell_type": "markdown",
            "source": [
                "**Gain d'information pour la temp\u00e9rature**\n",
                "- chaud -> 2 -> [2- 0+]\n",
                "- doux -> 2 -> [1+ 1-]\n",
                "- frais -> 1 -> [1+ 0-]\n"
            ],
            "metadata": {
                "id": "zMdLVM4P0fi8"
            }
        },
        {
            "cell_type": "markdown",
            "source": [
                "### #FAIRE\n",
                "- Essayez de calculer le gain d'information pour la temp\u00e9rature :\n"
            ],
            "metadata": {
                "id": "t0vq9MjzLgic"
            }
        },
        {
            "cell_type": "code",
            "source": [
                "#fill_here"
            ],
            "metadata": {
                "colab": {
                    "base_uri": "https://localhost:8080/"
                },
                "id": "8clscrtx0qSj",
                "outputId": "72ec0c17-a92a-4ac0-a7d1-61cd95fc9dbc"
            },
            "execution_count": null,
            "outputs": [
                {
                    "output_type": "execute_result",
                    "data": {
                        "text/plain": [
                            "0.5709505944546686"
                        ]
                    },
                    "metadata": {},
                    "execution_count": 23
                }
            ]
        },
        {
            "cell_type": "markdown",
            "source": [
                "Conclusion : L'humidit\u00e9 est le meilleur choix sur une branche ensoleill\u00e9e\n",
                "![image.png](https://user-images.githubusercontent.com/123752166/222190166-a2728fbb-38c2-4ab5-9c29-fb6a3ec5b305.png)\n"
            ],
            "metadata": {
                "id": "RiF19AzU0s5K"
            }
        },
        {
            "cell_type": "code",
            "source": [
                "play_data[(play_data.outlook == 'sunny') & (play_data.humidity == 'high')]"
            ],
            "metadata": {
                "colab": {
                    "base_uri": "https://localhost:8080/",
                    "height": 143
                },
                "id": "FX0qCZIT0wFM",
                "outputId": "9c4adb79-d23e-4030-8398-bfaf99fc56da"
            },
            "execution_count": null,
            "outputs": [
                {
                    "output_type": "execute_result",
                    "data": {
                        "text/plain": [
                            "   outlook temperature humidity  windy play\n",
                            "9    sunny         hot     high  False   no\n",
                            "10   sunny         hot     high   True   no\n",
                            "11   sunny        mild     high  False   no"
                        ],
                        "text/html": [
                            "\n",
                            "  <div id=\"df-5029050c-ba87-47ef-92a0-703126e42a43\">\n",
                            "    <div class=\"colab-df-container\">\n",
                            "      <div>\n",
                            "<style scoped>\n",
                            "    .dataframe tbody tr th:only-of-type {\n",
                            "        vertical-align: middle;\n",
                            "    }\n",
                            "\n",
                            "    .dataframe tbody tr th {\n",
                            "        vertical-align: top;\n",
                            "    }\n",
                            "\n",
                            "    .dataframe thead th {\n",
                            "        text-align: right;\n",
                            "    }\n",
                            "</style>\n",
                            "<table border=\"1\" class=\"dataframe\">\n",
                            "  <thead>\n",
                            "    <tr style=\"text-align: right;\">\n",
                            "      <th></th>\n",
                            "      <th>outlook</th>\n",
                            "      <th>temperature</th>\n",
                            "      <th>humidity</th>\n",
                            "      <th>windy</th>\n",
                            "      <th>play</th>\n",
                            "    </tr>\n",
                            "  </thead>\n",
                            "  <tbody>\n",
                            "    <tr>\n",
                            "      <th>9</th>\n",
                            "      <td>sunny</td>\n",
                            "      <td>hot</td>\n",
                            "      <td>high</td>\n",
                            "      <td>False</td>\n",
                            "      <td>no</td>\n",
                            "    </tr>\n",
                            "    <tr>\n",
                            "      <th>10</th>\n",
                            "      <td>sunny</td>\n",
                            "      <td>hot</td>\n",
                            "      <td>high</td>\n",
                            "      <td>True</td>\n",
                            "      <td>no</td>\n",
                            "    </tr>\n",
                            "    <tr>\n",
                            "      <th>11</th>\n",
                            "      <td>sunny</td>\n",
                            "      <td>mild</td>\n",
                            "      <td>high</td>\n",
                            "      <td>False</td>\n",
                            "      <td>no</td>\n",
                            "    </tr>\n",
                            "  </tbody>\n",
                            "</table>\n",
                            "</div>\n",
                            "      <button class=\"colab-df-convert\" onclick=\"convertToInteractive('df-5029050c-ba87-47ef-92a0-703126e42a43')\"\n",
                            "              title=\"Convert this dataframe to an interactive table.\"\n",
                            "              style=\"display:none;\">\n",
                            "        \n",
                            "  <svg xmlns=\"http://www.w3.org/2000/svg\" height=\"24px\"viewBox=\"0 0 24 24\"\n",
                            "       width=\"24px\">\n",
                            "    <path d=\"M0 0h24v24H0V0z\" fill=\"none\"/>\n",
                            "    <path d=\"M18.56 5.44l.94 2.06.94-2.06 2.06-.94-2.06-.94-.94-2.06-.94 2.06-2.06.94zm-11 1L8.5 8.5l.94-2.06 2.06-.94-2.06-.94L8.5 2.5l-.94 2.06-2.06.94zm10 10l.94 2.06.94-2.06 2.06-.94-2.06-.94-.94-2.06-.94 2.06-2.06.94z\"/><path d=\"M17.41 7.96l-1.37-1.37c-.4-.4-.92-.59-1.43-.59-.52 0-1.04.2-1.43.59L10.3 9.45l-7.72 7.72c-.78.78-.78 2.05 0 2.83L4 21.41c.39.39.9.59 1.41.59.51 0 1.02-.2 1.41-.59l7.78-7.78 2.81-2.81c.8-.78.8-2.07 0-2.86zM5.41 20L4 18.59l7.72-7.72 1.47 1.35L5.41 20z\"/>\n",
                            "  </svg>\n",
                            "      </button>\n",
                            "      \n",
                            "  <style>\n",
                            "    .colab-df-container {\n",
                            "      display:flex;\n",
                            "      flex-wrap:wrap;\n",
                            "      gap: 12px;\n",
                            "    }\n",
                            "\n",
                            "    .colab-df-convert {\n",
                            "      background-color: #E8F0FE;\n",
                            "      border: none;\n",
                            "      border-radius: 50%;\n",
                            "      cursor: pointer;\n",
                            "      display: none;\n",
                            "      fill: #1967D2;\n",
                            "      height: 32px;\n",
                            "      padding: 0 0 0 0;\n",
                            "      width: 32px;\n",
                            "    }\n",
                            "\n",
                            "    .colab-df-convert:hover {\n",
                            "      background-color: #E2EBFA;\n",
                            "      box-shadow: 0px 1px 2px rgba(60, 64, 67, 0.3), 0px 1px 3px 1px rgba(60, 64, 67, 0.15);\n",
                            "      fill: #174EA6;\n",
                            "    }\n",
                            "\n",
                            "    [theme=dark] .colab-df-convert {\n",
                            "      background-color: #3B4455;\n",
                            "      fill: #D2E3FC;\n",
                            "    }\n",
                            "\n",
                            "    [theme=dark] .colab-df-convert:hover {\n",
                            "      background-color: #434B5C;\n",
                            "      box-shadow: 0px 1px 3px 1px rgba(0, 0, 0, 0.15);\n",
                            "      filter: drop-shadow(0px 1px 2px rgba(0, 0, 0, 0.3));\n",
                            "      fill: #FFFFFF;\n",
                            "    }\n",
                            "  </style>\n",
                            "\n",
                            "      <script>\n",
                            "        const buttonEl =\n",
                            "          document.querySelector('#df-5029050c-ba87-47ef-92a0-703126e42a43 button.colab-df-convert');\n",
                            "        buttonEl.style.display =\n",
                            "          google.colab.kernel.accessAllowed ? 'block' : 'none';\n",
                            "\n",
                            "        async function convertToInteractive(key) {\n",
                            "          const element = document.querySelector('#df-5029050c-ba87-47ef-92a0-703126e42a43');\n",
                            "          const dataTable =\n",
                            "            await google.colab.kernel.invokeFunction('convertToInteractive',\n",
                            "                                                     [key], {});\n",
                            "          if (!dataTable) return;\n",
                            "\n",
                            "          const docLinkHtml = 'Like what you see? Visit the ' +\n",
                            "            '<a target=\"_blank\" href=https://colab.research.google.com/notebooks/data_table.ipynb>data table notebook</a>'\n",
                            "            + ' to learn more about interactive tables.';\n",
                            "          element.innerHTML = '';\n",
                            "          dataTable['output_type'] = 'display_data';\n",
                            "          await google.colab.output.renderOutput(dataTable, element);\n",
                            "          const docLink = document.createElement('div');\n",
                            "          docLink.innerHTML = docLinkHtml;\n",
                            "          element.appendChild(docLink);\n",
                            "        }\n",
                            "      </script>\n",
                            "    </div>\n",
                            "  </div>\n",
                            "  "
                        ]
                    },
                    "metadata": {},
                    "execution_count": 24
                }
            ]
        },
        {
            "cell_type": "code",
            "source": [
                "play_data[(play_data.outlook == 'sunny') & (play_data.humidity == 'normal')]"
            ],
            "metadata": {
                "colab": {
                    "base_uri": "https://localhost:8080/",
                    "height": 112
                },
                "id": "in1sGjDU00ob",
                "outputId": "3a021cd3-f6f6-451c-d31e-6f2ed6d36afe"
            },
            "execution_count": null,
            "outputs": [
                {
                    "output_type": "execute_result",
                    "data": {
                        "text/plain": [
                            "   outlook temperature humidity  windy play\n",
                            "12   sunny        cool   normal  False  yes\n",
                            "13   sunny        mild   normal   True  yes"
                        ],
                        "text/html": [
                            "\n",
                            "  <div id=\"df-fb67ebde-67ac-4d31-9f26-81dfcba1855a\">\n",
                            "    <div class=\"colab-df-container\">\n",
                            "      <div>\n",
                            "<style scoped>\n",
                            "    .dataframe tbody tr th:only-of-type {\n",
                            "        vertical-align: middle;\n",
                            "    }\n",
                            "\n",
                            "    .dataframe tbody tr th {\n",
                            "        vertical-align: top;\n",
                            "    }\n",
                            "\n",
                            "    .dataframe thead th {\n",
                            "        text-align: right;\n",
                            "    }\n",
                            "</style>\n",
                            "<table border=\"1\" class=\"dataframe\">\n",
                            "  <thead>\n",
                            "    <tr style=\"text-align: right;\">\n",
                            "      <th></th>\n",
                            "      <th>outlook</th>\n",
                            "      <th>temperature</th>\n",
                            "      <th>humidity</th>\n",
                            "      <th>windy</th>\n",
                            "      <th>play</th>\n",
                            "    </tr>\n",
                            "  </thead>\n",
                            "  <tbody>\n",
                            "    <tr>\n",
                            "      <th>12</th>\n",
                            "      <td>sunny</td>\n",
                            "      <td>cool</td>\n",
                            "      <td>normal</td>\n",
                            "      <td>False</td>\n",
                            "      <td>yes</td>\n",
                            "    </tr>\n",
                            "    <tr>\n",
                            "      <th>13</th>\n",
                            "      <td>sunny</td>\n",
                            "      <td>mild</td>\n",
                            "      <td>normal</td>\n",
                            "      <td>True</td>\n",
                            "      <td>yes</td>\n",
                            "    </tr>\n",
                            "  </tbody>\n",
                            "</table>\n",
                            "</div>\n",
                            "      <button class=\"colab-df-convert\" onclick=\"convertToInteractive('df-fb67ebde-67ac-4d31-9f26-81dfcba1855a')\"\n",
                            "              title=\"Convert this dataframe to an interactive table.\"\n",
                            "              style=\"display:none;\">\n",
                            "        \n",
                            "  <svg xmlns=\"http://www.w3.org/2000/svg\" height=\"24px\"viewBox=\"0 0 24 24\"\n",
                            "       width=\"24px\">\n",
                            "    <path d=\"M0 0h24v24H0V0z\" fill=\"none\"/>\n",
                            "    <path d=\"M18.56 5.44l.94 2.06.94-2.06 2.06-.94-2.06-.94-.94-2.06-.94 2.06-2.06.94zm-11 1L8.5 8.5l.94-2.06 2.06-.94-2.06-.94L8.5 2.5l-.94 2.06-2.06.94zm10 10l.94 2.06.94-2.06 2.06-.94-2.06-.94-.94-2.06-.94 2.06-2.06.94z\"/><path d=\"M17.41 7.96l-1.37-1.37c-.4-.4-.92-.59-1.43-.59-.52 0-1.04.2-1.43.59L10.3 9.45l-7.72 7.72c-.78.78-.78 2.05 0 2.83L4 21.41c.39.39.9.59 1.41.59.51 0 1.02-.2 1.41-.59l7.78-7.78 2.81-2.81c.8-.78.8-2.07 0-2.86zM5.41 20L4 18.59l7.72-7.72 1.47 1.35L5.41 20z\"/>\n",
                            "  </svg>\n",
                            "      </button>\n",
                            "      \n",
                            "  <style>\n",
                            "    .colab-df-container {\n",
                            "      display:flex;\n",
                            "      flex-wrap:wrap;\n",
                            "      gap: 12px;\n",
                            "    }\n",
                            "\n",
                            "    .colab-df-convert {\n",
                            "      background-color: #E8F0FE;\n",
                            "      border: none;\n",
                            "      border-radius: 50%;\n",
                            "      cursor: pointer;\n",
                            "      display: none;\n",
                            "      fill: #1967D2;\n",
                            "      height: 32px;\n",
                            "      padding: 0 0 0 0;\n",
                            "      width: 32px;\n",
                            "    }\n",
                            "\n",
                            "    .colab-df-convert:hover {\n",
                            "      background-color: #E2EBFA;\n",
                            "      box-shadow: 0px 1px 2px rgba(60, 64, 67, 0.3), 0px 1px 3px 1px rgba(60, 64, 67, 0.15);\n",
                            "      fill: #174EA6;\n",
                            "    }\n",
                            "\n",
                            "    [theme=dark] .colab-df-convert {\n",
                            "      background-color: #3B4455;\n",
                            "      fill: #D2E3FC;\n",
                            "    }\n",
                            "\n",
                            "    [theme=dark] .colab-df-convert:hover {\n",
                            "      background-color: #434B5C;\n",
                            "      box-shadow: 0px 1px 3px 1px rgba(0, 0, 0, 0.15);\n",
                            "      filter: drop-shadow(0px 1px 2px rgba(0, 0, 0, 0.3));\n",
                            "      fill: #FFFFFF;\n",
                            "    }\n",
                            "  </style>\n",
                            "\n",
                            "      <script>\n",
                            "        const buttonEl =\n",
                            "          document.querySelector('#df-fb67ebde-67ac-4d31-9f26-81dfcba1855a button.colab-df-convert');\n",
                            "        buttonEl.style.display =\n",
                            "          google.colab.kernel.accessAllowed ? 'block' : 'none';\n",
                            "\n",
                            "        async function convertToInteractive(key) {\n",
                            "          const element = document.querySelector('#df-fb67ebde-67ac-4d31-9f26-81dfcba1855a');\n",
                            "          const dataTable =\n",
                            "            await google.colab.kernel.invokeFunction('convertToInteractive',\n",
                            "                                                     [key], {});\n",
                            "          if (!dataTable) return;\n",
                            "\n",
                            "          const docLinkHtml = 'Like what you see? Visit the ' +\n",
                            "            '<a target=\"_blank\" href=https://colab.research.google.com/notebooks/data_table.ipynb>data table notebook</a>'\n",
                            "            + ' to learn more about interactive tables.';\n",
                            "          element.innerHTML = '';\n",
                            "          dataTable['output_type'] = 'display_data';\n",
                            "          await google.colab.output.renderOutput(dataTable, element);\n",
                            "          const docLink = document.createElement('div');\n",
                            "          docLink.innerHTML = docLinkHtml;\n",
                            "          element.appendChild(docLink);\n",
                            "        }\n",
                            "      </script>\n",
                            "    </div>\n",
                            "  </div>\n",
                            "  "
                        ]
                    },
                    "metadata": {},
                    "execution_count": 25
                }
            ]
        },
        {
            "cell_type": "markdown",
            "source": [
                "**Fendre la branche pluvieuse**\n"
            ],
            "metadata": {
                "id": "BVsC8_G3NDGQ"
            }
        },
        {
            "cell_type": "code",
            "source": [
                "play_data[play_data.outlook == 'rainy']"
            ],
            "metadata": {
                "colab": {
                    "base_uri": "https://localhost:8080/",
                    "height": 206
                },
                "id": "-V4tmEDO1S2L",
                "outputId": "8b7f387a-cb6a-4ace-83aa-9b12f9edbc41"
            },
            "execution_count": null,
            "outputs": [
                {
                    "output_type": "execute_result",
                    "data": {
                        "text/plain": [
                            "  outlook temperature humidity  windy play\n",
                            "4   rainy        mild     high  False  yes\n",
                            "5   rainy        cool   normal  False  yes\n",
                            "6   rainy        cool   normal   True   no\n",
                            "7   rainy        mild   normal  False  yes\n",
                            "8   rainy        mild     high   True   no"
                        ],
                        "text/html": [
                            "\n",
                            "  <div id=\"df-5c4cf766-20c1-4bd4-8771-80c3433b2510\">\n",
                            "    <div class=\"colab-df-container\">\n",
                            "      <div>\n",
                            "<style scoped>\n",
                            "    .dataframe tbody tr th:only-of-type {\n",
                            "        vertical-align: middle;\n",
                            "    }\n",
                            "\n",
                            "    .dataframe tbody tr th {\n",
                            "        vertical-align: top;\n",
                            "    }\n",
                            "\n",
                            "    .dataframe thead th {\n",
                            "        text-align: right;\n",
                            "    }\n",
                            "</style>\n",
                            "<table border=\"1\" class=\"dataframe\">\n",
                            "  <thead>\n",
                            "    <tr style=\"text-align: right;\">\n",
                            "      <th></th>\n",
                            "      <th>outlook</th>\n",
                            "      <th>temperature</th>\n",
                            "      <th>humidity</th>\n",
                            "      <th>windy</th>\n",
                            "      <th>play</th>\n",
                            "    </tr>\n",
                            "  </thead>\n",
                            "  <tbody>\n",
                            "    <tr>\n",
                            "      <th>4</th>\n",
                            "      <td>rainy</td>\n",
                            "      <td>mild</td>\n",
                            "      <td>high</td>\n",
                            "      <td>False</td>\n",
                            "      <td>yes</td>\n",
                            "    </tr>\n",
                            "    <tr>\n",
                            "      <th>5</th>\n",
                            "      <td>rainy</td>\n",
                            "      <td>cool</td>\n",
                            "      <td>normal</td>\n",
                            "      <td>False</td>\n",
                            "      <td>yes</td>\n",
                            "    </tr>\n",
                            "    <tr>\n",
                            "      <th>6</th>\n",
                            "      <td>rainy</td>\n",
                            "      <td>cool</td>\n",
                            "      <td>normal</td>\n",
                            "      <td>True</td>\n",
                            "      <td>no</td>\n",
                            "    </tr>\n",
                            "    <tr>\n",
                            "      <th>7</th>\n",
                            "      <td>rainy</td>\n",
                            "      <td>mild</td>\n",
                            "      <td>normal</td>\n",
                            "      <td>False</td>\n",
                            "      <td>yes</td>\n",
                            "    </tr>\n",
                            "    <tr>\n",
                            "      <th>8</th>\n",
                            "      <td>rainy</td>\n",
                            "      <td>mild</td>\n",
                            "      <td>high</td>\n",
                            "      <td>True</td>\n",
                            "      <td>no</td>\n",
                            "    </tr>\n",
                            "  </tbody>\n",
                            "</table>\n",
                            "</div>\n",
                            "      <button class=\"colab-df-convert\" onclick=\"convertToInteractive('df-5c4cf766-20c1-4bd4-8771-80c3433b2510')\"\n",
                            "              title=\"Convert this dataframe to an interactive table.\"\n",
                            "              style=\"display:none;\">\n",
                            "        \n",
                            "  <svg xmlns=\"http://www.w3.org/2000/svg\" height=\"24px\"viewBox=\"0 0 24 24\"\n",
                            "       width=\"24px\">\n",
                            "    <path d=\"M0 0h24v24H0V0z\" fill=\"none\"/>\n",
                            "    <path d=\"M18.56 5.44l.94 2.06.94-2.06 2.06-.94-2.06-.94-.94-2.06-.94 2.06-2.06.94zm-11 1L8.5 8.5l.94-2.06 2.06-.94-2.06-.94L8.5 2.5l-.94 2.06-2.06.94zm10 10l.94 2.06.94-2.06 2.06-.94-2.06-.94-.94-2.06-.94 2.06-2.06.94z\"/><path d=\"M17.41 7.96l-1.37-1.37c-.4-.4-.92-.59-1.43-.59-.52 0-1.04.2-1.43.59L10.3 9.45l-7.72 7.72c-.78.78-.78 2.05 0 2.83L4 21.41c.39.39.9.59 1.41.59.51 0 1.02-.2 1.41-.59l7.78-7.78 2.81-2.81c.8-.78.8-2.07 0-2.86zM5.41 20L4 18.59l7.72-7.72 1.47 1.35L5.41 20z\"/>\n",
                            "  </svg>\n",
                            "      </button>\n",
                            "      \n",
                            "  <style>\n",
                            "    .colab-df-container {\n",
                            "      display:flex;\n",
                            "      flex-wrap:wrap;\n",
                            "      gap: 12px;\n",
                            "    }\n",
                            "\n",
                            "    .colab-df-convert {\n",
                            "      background-color: #E8F0FE;\n",
                            "      border: none;\n",
                            "      border-radius: 50%;\n",
                            "      cursor: pointer;\n",
                            "      display: none;\n",
                            "      fill: #1967D2;\n",
                            "      height: 32px;\n",
                            "      padding: 0 0 0 0;\n",
                            "      width: 32px;\n",
                            "    }\n",
                            "\n",
                            "    .colab-df-convert:hover {\n",
                            "      background-color: #E2EBFA;\n",
                            "      box-shadow: 0px 1px 2px rgba(60, 64, 67, 0.3), 0px 1px 3px 1px rgba(60, 64, 67, 0.15);\n",
                            "      fill: #174EA6;\n",
                            "    }\n",
                            "\n",
                            "    [theme=dark] .colab-df-convert {\n",
                            "      background-color: #3B4455;\n",
                            "      fill: #D2E3FC;\n",
                            "    }\n",
                            "\n",
                            "    [theme=dark] .colab-df-convert:hover {\n",
                            "      background-color: #434B5C;\n",
                            "      box-shadow: 0px 1px 3px 1px rgba(0, 0, 0, 0.15);\n",
                            "      filter: drop-shadow(0px 1px 2px rgba(0, 0, 0, 0.3));\n",
                            "      fill: #FFFFFF;\n",
                            "    }\n",
                            "  </style>\n",
                            "\n",
                            "      <script>\n",
                            "        const buttonEl =\n",
                            "          document.querySelector('#df-5c4cf766-20c1-4bd4-8771-80c3433b2510 button.colab-df-convert');\n",
                            "        buttonEl.style.display =\n",
                            "          google.colab.kernel.accessAllowed ? 'block' : 'none';\n",
                            "\n",
                            "        async function convertToInteractive(key) {\n",
                            "          const element = document.querySelector('#df-5c4cf766-20c1-4bd4-8771-80c3433b2510');\n",
                            "          const dataTable =\n",
                            "            await google.colab.kernel.invokeFunction('convertToInteractive',\n",
                            "                                                     [key], {});\n",
                            "          if (!dataTable) return;\n",
                            "\n",
                            "          const docLinkHtml = 'Like what you see? Visit the ' +\n",
                            "            '<a target=\"_blank\" href=https://colab.research.google.com/notebooks/data_table.ipynb>data table notebook</a>'\n",
                            "            + ' to learn more about interactive tables.';\n",
                            "          element.innerHTML = '';\n",
                            "          dataTable['output_type'] = 'display_data';\n",
                            "          await google.colab.output.renderOutput(dataTable, element);\n",
                            "          const docLink = document.createElement('div');\n",
                            "          docLink.innerHTML = docLinkHtml;\n",
                            "          element.appendChild(docLink);\n",
                            "        }\n",
                            "      </script>\n",
                            "    </div>\n",
                            "  </div>\n",
                            "  "
                        ]
                    },
                    "metadata": {},
                    "execution_count": 26
                }
            ]
        },
        {
            "cell_type": "markdown",
            "source": [
                "### #FAIRE\n",
                "- Essayez de calculer l'entropie de jeu si les perspectives sont pluvieuses :\n"
            ],
            "metadata": {
                "id": "X4QQMG_2MWCo"
            }
        },
        {
            "cell_type": "code",
            "source": [
                "# Entropy (Play_Rainy|)\n",
                "# fill_here"
            ],
            "metadata": {
                "id": "Mys-L8Ov1VKV"
            },
            "execution_count": null,
            "outputs": []
        },
        {
            "cell_type": "markdown",
            "source": [
                "** Gain d'informations pour la temp\u00e9rature **\n"
            ],
            "metadata": {
                "id": "xz4hnsxo1jlG"
            }
        },
        {
            "cell_type": "markdown",
            "source": [
                "- doux -> 3 [2+ 1-]\n",
                "- frais -> 2 [1+ 1-]\n"
            ],
            "metadata": {
                "id": "E2WuP0Ul1mau"
            }
        },
        {
            "cell_type": "markdown",
            "source": [
                "### #FAIRE\n",
                "- Essayez de calculer le gain d'information pour la temp\u00e9rature :\n"
            ],
            "metadata": {
                "id": "HlsWrn_GOF3U"
            }
        },
        {
            "cell_type": "code",
            "source": [
                "#fill_here"
            ],
            "metadata": {
                "colab": {
                    "base_uri": "https://localhost:8080/"
                },
                "id": "sHr2IUgo1puU",
                "outputId": "13162dff-7fa5-458d-ae26-8e10d2d872e9"
            },
            "execution_count": null,
            "outputs": [
                {
                    "output_type": "execute_result",
                    "data": {
                        "text/plain": [
                            "0.020150594454668602"
                        ]
                    },
                    "metadata": {},
                    "execution_count": 29
                }
            ]
        },
        {
            "cell_type": "markdown",
            "source": [
                "** Gain d'informations pour Windy **\n"
            ],
            "metadata": {
                "id": "sugxLdhC1spb"
            }
        },
        {
            "cell_type": "markdown",
            "source": [
                "### #FAIRE\n",
                "- Essayez de calculer le gain d'information pour le vent :\n"
            ],
            "metadata": {
                "id": "VD95CRoiOqij"
            }
        },
        {
            "cell_type": "code",
            "source": [
                "#fill_here"
            ],
            "metadata": {
                "colab": {
                    "base_uri": "https://localhost:8080/"
                },
                "id": "B_nYQfdy1wl2",
                "outputId": "d1d9ca21-98ad-4c97-9968-daf173e9d627"
            },
            "execution_count": null,
            "outputs": [
                {
                    "output_type": "execute_result",
                    "data": {
                        "text/plain": [
                            "0.9709505944546686"
                        ]
                    },
                    "metadata": {},
                    "execution_count": 30
                }
            ]
        },
        {
            "cell_type": "markdown",
            "source": [
                "**Gain d'information pour l'humidit\u00e9**\n",
                "- \u00c9lev\u00e9 -> 2 -> [1+ 1-]\n",
                "- Normal -> 3 -> [2+ 1-]\n"
            ],
            "metadata": {
                "id": "1Ac5ZCmd1zYn"
            }
        },
        {
            "cell_type": "markdown",
            "source": [
                "### #FAIRE\n",
                "- Essayez de calculer l'entropie pour l'humidit\u00e9/la pluie :\n"
            ],
            "metadata": {
                "id": "FCcQtzzoOzYi"
            }
        },
        {
            "cell_type": "code",
            "source": [
                "#Entropy_Play_Outlook_Rainy_Normal\n",
                "#fill_here"
            ],
            "metadata": {
                "id": "IaG1xPUY12oA"
            },
            "execution_count": null,
            "outputs": []
        },
        {
            "cell_type": "markdown",
            "source": [
                "### #FAIRE\n",
                "- Essayez de calculer le gain d'information pour l'humidit\u00e9 :\n"
            ],
            "metadata": {
                "id": "wJgPceoTPFpX"
            }
        },
        {
            "cell_type": "code",
            "source": [
                "#fill_here"
            ],
            "metadata": {
                "colab": {
                    "base_uri": "https://localhost:8080/"
                },
                "id": "1N5oiP6t17xR",
                "outputId": "efc834f0-f1f4-483d-84c7-54085076ef52"
            },
            "execution_count": null,
            "outputs": [
                {
                    "output_type": "execute_result",
                    "data": {
                        "text/plain": [
                            "0.01997309402197489"
                        ]
                    },
                    "metadata": {},
                    "execution_count": 33
                }
            ]
        },
        {
            "cell_type": "markdown",
            "source": [
                "**Arbre final**\n",
                "\n",
                "![image.png](https://user-images.githubusercontent.com/123752166/222190350-74511c3d-0ee8-46c3-b667-ccf475467654.png)\n"
            ],
            "metadata": {
                "id": "JhQfLICA1-j4"
            }
        }
    ]
}