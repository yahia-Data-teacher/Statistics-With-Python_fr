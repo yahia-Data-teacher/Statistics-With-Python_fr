{
    "cells": [
        {
            "cell_type": "markdown",
            "metadata": {
                "id": "view-in-github",
                "colab_type": "text"
            },
            "source": [
                "<a href=\"https://colab.research.google.com/github/yahia-kplr/Statistics-With-Python_fr/blob/main/Exercices/1_Descriptive_Statistics.ipynb\" target=\"_blank\"><img src=\"https://colab.research.google.com/assets/colab-badge.svg\" alt=\"Open In Colab\"/></a>"
            ]
        },
        {
            "attachments": {},
            "cell_type": "markdown",
            "metadata": {
                "id": "jyOqacbiTrww"
            },
            "source": [
                "# **Statistiques descriptives**\n",
                "\n",
                "![image](https://user-images.githubusercontent.com/123748165/221905050-58c59c6b-ca24-4c37-98a0-007d3775eaba.png)\n",
                "- Ce cahier pr\u00e9sente les statistiques descriptives des variables num\u00e9riques et cat\u00e9gorielles \u00e0 travers les mesures de tendance centrale et les mesures de propagation.\n",
                "- **Les statistiques sont divis\u00e9es en deux domaines principaux\u00a0:**\n",
                "\n",
                "- **Statistiques descriptives\u00a0:** d\u00e9crivent et r\u00e9sument les donn\u00e9es\u00a0;\n",
                "-\u00a0**Statistiques inf\u00e9rentielles\u00a0:** m\u00e9thodes d'utilisation de donn\u00e9es d'\u00e9chantillon pour tirer des conclusions g\u00e9n\u00e9rales (inf\u00e9rences) sur des populations.\n",
                "\n",
                "- **Ce didacticiel se concentre sur les statistiques descriptives des variables num\u00e9riques et cat\u00e9gorielles et est divis\u00e9 en deux parties\u00a0:**\n",
                "\n",
                "- **Mesures de tendance centrale;**\n",
                "- **Mesures de propagation.**\n",
                "- Dans cette section, nous donnerons de courts r\u00e9sum\u00e9s de statistiques num\u00e9riques concernant les diff\u00e9rentes mesures de tendance centrale et de dispersion de l'ensemble de donn\u00e9es.\n",
                "\n",
                "- Travaillons sur quelques exemples pratiques \u00e0 travers un environnement de statistiques descriptives dans Pandas.\n"
            ]
        },
        {
            "cell_type": "code",
            "execution_count": null,
            "metadata": {
                "id": "_1_oDA_6TTIT"
            },
            "outputs": [],
            "source": [
                "# Import libraries\n",
                "import pandas as pd\n",
                "import numpy as np\n",
                "import scipy\n",
                "import seaborn as sns\n",
                "import matplotlib.pyplot as plt\n",
                "%matplotlib inline"
            ]
        },
        {
            "cell_type": "code",
            "execution_count": null,
            "metadata": {
                "id": "HkSm7ZUSUHSr"
            },
            "outputs": [],
            "source": [
                "# Load the dataset\n",
                "df = pd.read_csv(\"sample.csv\", sep=\";\")"
            ]
        },
        {
            "cell_type": "code",
            "execution_count": null,
            "metadata": {
                "colab": {
                    "base_uri": "https://localhost:8080/",
                    "height": 363
                },
                "id": "O_LwOdgYZlz0",
                "outputId": "1d924832-7c03-4f2f-c582-d810f4b47659"
            },
            "outputs": [
                {
                    "data": {
                        "text/html": [
                            "\n",
                            "  <div id=\"df-752a9f8d-4869-453c-8cc6-5812f380abb1\">\n",
                            "    <div class=\"colab-df-container\">\n",
                            "      <div>\n",
                            "<style scoped>\n",
                            "    .dataframe tbody tr th:only-of-type {\n",
                            "        vertical-align: middle;\n",
                            "    }\n",
                            "\n",
                            "    .dataframe tbody tr th {\n",
                            "        vertical-align: top;\n",
                            "    }\n",
                            "\n",
                            "    .dataframe thead th {\n",
                            "        text-align: right;\n",
                            "    }\n",
                            "</style>\n",
                            "<table border=\"1\" class=\"dataframe\">\n",
                            "  <thead>\n",
                            "    <tr style=\"text-align: right;\">\n",
                            "      <th></th>\n",
                            "      <th>Age</th>\n",
                            "      <th>City</th>\n",
                            "    </tr>\n",
                            "  </thead>\n",
                            "  <tbody>\n",
                            "    <tr>\n",
                            "      <th>0</th>\n",
                            "      <td>24</td>\n",
                            "      <td>Paris</td>\n",
                            "    </tr>\n",
                            "    <tr>\n",
                            "      <th>1</th>\n",
                            "      <td>59</td>\n",
                            "      <td>Toulouse</td>\n",
                            "    </tr>\n",
                            "    <tr>\n",
                            "      <th>2</th>\n",
                            "      <td>45</td>\n",
                            "      <td>Montpellier</td>\n",
                            "    </tr>\n",
                            "    <tr>\n",
                            "      <th>3</th>\n",
                            "      <td>69</td>\n",
                            "      <td>Bordeaux</td>\n",
                            "    </tr>\n",
                            "    <tr>\n",
                            "      <th>4</th>\n",
                            "      <td>21</td>\n",
                            "      <td>Dijon</td>\n",
                            "    </tr>\n",
                            "    <tr>\n",
                            "      <th>5</th>\n",
                            "      <td>45</td>\n",
                            "      <td>Marseille</td>\n",
                            "    </tr>\n",
                            "    <tr>\n",
                            "      <th>6</th>\n",
                            "      <td>65</td>\n",
                            "      <td>Lille</td>\n",
                            "    </tr>\n",
                            "    <tr>\n",
                            "      <th>7</th>\n",
                            "      <td>52</td>\n",
                            "      <td>Rennes</td>\n",
                            "    </tr>\n",
                            "    <tr>\n",
                            "      <th>8</th>\n",
                            "      <td>46</td>\n",
                            "      <td>Grenoble</td>\n",
                            "    </tr>\n",
                            "    <tr>\n",
                            "      <th>9</th>\n",
                            "      <td>26</td>\n",
                            "      <td>Marseille</td>\n",
                            "    </tr>\n",
                            "  </tbody>\n",
                            "</table>\n",
                            "</div>\n",
                            "      <button class=\"colab-df-convert\" onclick=\"convertToInteractive('df-752a9f8d-4869-453c-8cc6-5812f380abb1')\"\n",
                            "              title=\"Convert this dataframe to an interactive table.\"\n",
                            "              style=\"display:none;\">\n",
                            "        \n",
                            "  <svg xmlns=\"http://www.w3.org/2000/svg\" height=\"24px\"viewBox=\"0 0 24 24\"\n",
                            "       width=\"24px\">\n",
                            "    <path d=\"M0 0h24v24H0V0z\" fill=\"none\"/>\n",
                            "    <path d=\"M18.56 5.44l.94 2.06.94-2.06 2.06-.94-2.06-.94-.94-2.06-.94 2.06-2.06.94zm-11 1L8.5 8.5l.94-2.06 2.06-.94-2.06-.94L8.5 2.5l-.94 2.06-2.06.94zm10 10l.94 2.06.94-2.06 2.06-.94-2.06-.94-.94-2.06-.94 2.06-2.06.94z\"/><path d=\"M17.41 7.96l-1.37-1.37c-.4-.4-.92-.59-1.43-.59-.52 0-1.04.2-1.43.59L10.3 9.45l-7.72 7.72c-.78.78-.78 2.05 0 2.83L4 21.41c.39.39.9.59 1.41.59.51 0 1.02-.2 1.41-.59l7.78-7.78 2.81-2.81c.8-.78.8-2.07 0-2.86zM5.41 20L4 18.59l7.72-7.72 1.47 1.35L5.41 20z\"/>\n",
                            "  </svg>\n",
                            "      </button>\n",
                            "      \n",
                            "  <style>\n",
                            "    .colab-df-container {\n",
                            "      display:flex;\n",
                            "      flex-wrap:wrap;\n",
                            "      gap: 12px;\n",
                            "    }\n",
                            "\n",
                            "    .colab-df-convert {\n",
                            "      background-color: #E8F0FE;\n",
                            "      border: none;\n",
                            "      border-radius: 50%;\n",
                            "      cursor: pointer;\n",
                            "      display: none;\n",
                            "      fill: #1967D2;\n",
                            "      height: 32px;\n",
                            "      padding: 0 0 0 0;\n",
                            "      width: 32px;\n",
                            "    }\n",
                            "\n",
                            "    .colab-df-convert:hover {\n",
                            "      background-color: #E2EBFA;\n",
                            "      box-shadow: 0px 1px 2px rgba(60, 64, 67, 0.3), 0px 1px 3px 1px rgba(60, 64, 67, 0.15);\n",
                            "      fill: #174EA6;\n",
                            "    }\n",
                            "\n",
                            "    [theme=dark] .colab-df-convert {\n",
                            "      background-color: #3B4455;\n",
                            "      fill: #D2E3FC;\n",
                            "    }\n",
                            "\n",
                            "    [theme=dark] .colab-df-convert:hover {\n",
                            "      background-color: #434B5C;\n",
                            "      box-shadow: 0px 1px 3px 1px rgba(0, 0, 0, 0.15);\n",
                            "      filter: drop-shadow(0px 1px 2px rgba(0, 0, 0, 0.3));\n",
                            "      fill: #FFFFFF;\n",
                            "    }\n",
                            "  </style>\n",
                            "\n",
                            "      <script>\n",
                            "        const buttonEl =\n",
                            "          document.querySelector('#df-752a9f8d-4869-453c-8cc6-5812f380abb1 button.colab-df-convert');\n",
                            "        buttonEl.style.display =\n",
                            "          google.colab.kernel.accessAllowed ? 'block' : 'none';\n",
                            "\n",
                            "        async function convertToInteractive(key) {\n",
                            "          const element = document.querySelector('#df-752a9f8d-4869-453c-8cc6-5812f380abb1');\n",
                            "          const dataTable =\n",
                            "            await google.colab.kernel.invokeFunction('convertToInteractive',\n",
                            "                                                     [key], {});\n",
                            "          if (!dataTable) return;\n",
                            "\n",
                            "          const docLinkHtml = 'Like what you see? Visit the ' +\n",
                            "            '<a target=\"_blank\" href=https://colab.research.google.com/notebooks/data_table.ipynb>data table notebook</a>'\n",
                            "            + ' to learn more about interactive tables.';\n",
                            "          element.innerHTML = '';\n",
                            "          dataTable['output_type'] = 'display_data';\n",
                            "          await google.colab.output.renderOutput(dataTable, element);\n",
                            "          const docLink = document.createElement('div');\n",
                            "          docLink.innerHTML = docLinkHtml;\n",
                            "          element.appendChild(docLink);\n",
                            "        }\n",
                            "      </script>\n",
                            "    </div>\n",
                            "  </div>\n",
                            "  "
                        ],
                        "text/plain": [
                            "   Age         City\n",
                            "0   24        Paris\n",
                            "1   59     Toulouse\n",
                            "2   45  Montpellier\n",
                            "3   69     Bordeaux\n",
                            "4   21        Dijon\n",
                            "5   45    Marseille\n",
                            "6   65        Lille\n",
                            "7   52       Rennes\n",
                            "8   46     Grenoble\n",
                            "9   26    Marseille"
                        ]
                    },
                    "execution_count": 4,
                    "metadata": {},
                    "output_type": "execute_result"
                }
            ],
            "source": [
                "# Print the data\n",
                "df.head(10)"
            ]
        },
        {
            "cell_type": "code",
            "execution_count": null,
            "metadata": {
                "colab": {
                    "base_uri": "https://localhost:8080/"
                },
                "id": "ziOoBVeBaSKt",
                "outputId": "9a2a6392-b88e-45f5-eed4-20952f99a37a"
            },
            "outputs": [
                {
                    "name": "stdout",
                    "output_type": "stream",
                    "text": [
                        "<class 'pandas.core.frame.DataFrame'>\n",
                        "RangeIndex: 118 entries, 0 to 117\n",
                        "Data columns (total 2 columns):\n",
                        " #   Column  Non-Null Count  Dtype \n",
                        "---  ------  --------------  ----- \n",
                        " 0   Age     118 non-null    int64 \n",
                        " 1   City    118 non-null    object\n",
                        "dtypes: int64(1), object(1)\n",
                        "memory usage: 2.0+ KB\n"
                    ]
                }
            ],
            "source": [
                "# Before stats, a quick look at the data\n",
                "df.info()"
            ]
        },
        {
            "cell_type": "code",
            "execution_count": null,
            "metadata": {
                "colab": {
                    "base_uri": "https://localhost:8080/",
                    "height": 295
                },
                "id": "5AopHpqbabjB",
                "outputId": "6e0f88de-7e64-41de-da49-80dac9bb67d1"
            },
            "outputs": [
                {
                    "data": {
                        "image/png": "[encoded data removed]",
                        "text/plain": [
                            "<Figure size 432x288 with 1 Axes>"
                        ]
                    },
                    "metadata": {
                        "needs_background": "light"
                    },
                    "output_type": "display_data"
                }
            ],
            "source": [
                "# Histogram\n",
                "plt.hist(df.Age, bins=20)\n",
                "plt.xlabel(\"Age\")\n",
                "plt.ylabel(\"Absolute Frequency\")\n",
                "plt.title(\"Numeric variable 'Age'\")\n",
                "plt.show()"
            ]
        },
        {
            "cell_type": "markdown",
            "metadata": {
                "id": "Lmc6yFyEq-kz"
            },
            "source": [
                "**Boxplot**\n"
            ]
        },
        {
            "attachments": {},
            "cell_type": "markdown",
            "metadata": {
                "id": "Qd8S78R0svzZ"
            },
            "source": [
                "**Qu'est-ce qu'une bo\u00eete \u00e0 moustaches\u00a0?**\n",
                "Pour certaines distributions/ensembles de donn\u00e9es, vous constaterez que vous avez besoin de plus d'informations que les mesures de tendance centrale (m\u00e9diane, moyenne et mode).\n",
                "![image](https://user-images.githubusercontent.com/123748165/221905261-4966d477-5416-4952-94c3-d568da877fc9.png)\n"
            ]
        },
        {
            "cell_type": "markdown",
            "metadata": {
                "id": "vsPIwM37s4r5"
            },
            "source": [
                "- Vous avez besoin d'informations sur la variabilit\u00e9 ou la dispersion des donn\u00e9es.\n",
                "- Une bo\u00eete \u00e0 moustaches est un graphique qui vous donne une bonne indication de la r\u00e9partition des valeurs dans les donn\u00e9es.\n",
                "- Bien que les bo\u00eetes \u00e0 moustaches puissent sembler primitives par rapport \u00e0 un histogramme ou \u00e0 un diagramme de densit\u00e9, elles ont l'avantage de prendre moins de place, ce qui est utile pour comparer les distributions entre de nombreux groupes ou ensembles de donn\u00e9es.\n"
            ]
        },
        {
            "attachments": {},
            "cell_type": "markdown",
            "metadata": {
                "id": "QxhtNP4Sq8H6"
            },
            "source": [
                "![image](https://user-images.githubusercontent.com/123748165/221905592-d364a03e-52e8-48a7-b81b-4dd83abfdd8b.png)\n"
            ]
        },
        {
            "cell_type": "code",
            "execution_count": null,
            "metadata": {
                "colab": {
                    "base_uri": "https://localhost:8080/",
                    "height": 295
                },
                "id": "BlZ84LW3aieF",
                "outputId": "9ba4262d-002d-48f2-8407-5605ac259248"
            },
            "outputs": [
                {
                    "data": {
                        "image/png": "[encoded data removed]",
                        "text/plain": [
                            "<Figure size 432x288 with 1 Axes>"
                        ]
                    },
                    "metadata": {
                        "needs_background": "light"
                    },
                    "output_type": "display_data"
                }
            ],
            "source": [
                "# Boxplot\n",
                "sns.boxplot(x=\"Age\", data=df, orient=\"h\").set(xlabel=\"Age\", title=\"Numeric variable 'Age'\");"
            ]
        },
        {
            "cell_type": "code",
            "execution_count": null,
            "metadata": {
                "colab": {
                    "base_uri": "https://localhost:8080/",
                    "height": 206
                },
                "id": "uD1I64s-bhmo",
                "outputId": "98690f1f-e124-4e8d-8c46-dcdabd2aff9b"
            },
            "outputs": [
                {
                    "data": {
                        "text/html": [
                            "\n",
                            "  <div id=\"df-d434dc2d-2b23-4c2a-b850-69130d70ca08\">\n",
                            "    <div class=\"colab-df-container\">\n",
                            "      <div>\n",
                            "<style scoped>\n",
                            "    .dataframe tbody tr th:only-of-type {\n",
                            "        vertical-align: middle;\n",
                            "    }\n",
                            "\n",
                            "    .dataframe tbody tr th {\n",
                            "        vertical-align: top;\n",
                            "    }\n",
                            "\n",
                            "    .dataframe thead th {\n",
                            "        text-align: right;\n",
                            "    }\n",
                            "</style>\n",
                            "<table border=\"1\" class=\"dataframe\">\n",
                            "  <thead>\n",
                            "    <tr style=\"text-align: right;\">\n",
                            "      <th>5-n summary</th>\n",
                            "      <th>Age</th>\n",
                            "    </tr>\n",
                            "  </thead>\n",
                            "  <tbody>\n",
                            "    <tr>\n",
                            "      <th>Min</th>\n",
                            "      <td>15.0</td>\n",
                            "    </tr>\n",
                            "    <tr>\n",
                            "      <th>Q1</th>\n",
                            "      <td>29.0</td>\n",
                            "    </tr>\n",
                            "    <tr>\n",
                            "      <th>Median</th>\n",
                            "      <td>46.0</td>\n",
                            "    </tr>\n",
                            "    <tr>\n",
                            "      <th>Q3</th>\n",
                            "      <td>59.0</td>\n",
                            "    </tr>\n",
                            "    <tr>\n",
                            "      <th>Max</th>\n",
                            "      <td>95.0</td>\n",
                            "    </tr>\n",
                            "  </tbody>\n",
                            "</table>\n",
                            "</div>\n",
                            "      <button class=\"colab-df-convert\" onclick=\"convertToInteractive('df-d434dc2d-2b23-4c2a-b850-69130d70ca08')\"\n",
                            "              title=\"Convert this dataframe to an interactive table.\"\n",
                            "              style=\"display:none;\">\n",
                            "        \n",
                            "  <svg xmlns=\"http://www.w3.org/2000/svg\" height=\"24px\"viewBox=\"0 0 24 24\"\n",
                            "       width=\"24px\">\n",
                            "    <path d=\"M0 0h24v24H0V0z\" fill=\"none\"/>\n",
                            "    <path d=\"M18.56 5.44l.94 2.06.94-2.06 2.06-.94-2.06-.94-.94-2.06-.94 2.06-2.06.94zm-11 1L8.5 8.5l.94-2.06 2.06-.94-2.06-.94L8.5 2.5l-.94 2.06-2.06.94zm10 10l.94 2.06.94-2.06 2.06-.94-2.06-.94-.94-2.06-.94 2.06-2.06.94z\"/><path d=\"M17.41 7.96l-1.37-1.37c-.4-.4-.92-.59-1.43-.59-.52 0-1.04.2-1.43.59L10.3 9.45l-7.72 7.72c-.78.78-.78 2.05 0 2.83L4 21.41c.39.39.9.59 1.41.59.51 0 1.02-.2 1.41-.59l7.78-7.78 2.81-2.81c.8-.78.8-2.07 0-2.86zM5.41 20L4 18.59l7.72-7.72 1.47 1.35L5.41 20z\"/>\n",
                            "  </svg>\n",
                            "      </button>\n",
                            "      \n",
                            "  <style>\n",
                            "    .colab-df-container {\n",
                            "      display:flex;\n",
                            "      flex-wrap:wrap;\n",
                            "      gap: 12px;\n",
                            "    }\n",
                            "\n",
                            "    .colab-df-convert {\n",
                            "      background-color: #E8F0FE;\n",
                            "      border: none;\n",
                            "      border-radius: 50%;\n",
                            "      cursor: pointer;\n",
                            "      display: none;\n",
                            "      fill: #1967D2;\n",
                            "      height: 32px;\n",
                            "      padding: 0 0 0 0;\n",
                            "      width: 32px;\n",
                            "    }\n",
                            "\n",
                            "    .colab-df-convert:hover {\n",
                            "      background-color: #E2EBFA;\n",
                            "      box-shadow: 0px 1px 2px rgba(60, 64, 67, 0.3), 0px 1px 3px 1px rgba(60, 64, 67, 0.15);\n",
                            "      fill: #174EA6;\n",
                            "    }\n",
                            "\n",
                            "    [theme=dark] .colab-df-convert {\n",
                            "      background-color: #3B4455;\n",
                            "      fill: #D2E3FC;\n",
                            "    }\n",
                            "\n",
                            "    [theme=dark] .colab-df-convert:hover {\n",
                            "      background-color: #434B5C;\n",
                            "      box-shadow: 0px 1px 3px 1px rgba(0, 0, 0, 0.15);\n",
                            "      filter: drop-shadow(0px 1px 2px rgba(0, 0, 0, 0.3));\n",
                            "      fill: #FFFFFF;\n",
                            "    }\n",
                            "  </style>\n",
                            "\n",
                            "      <script>\n",
                            "        const buttonEl =\n",
                            "          document.querySelector('#df-d434dc2d-2b23-4c2a-b850-69130d70ca08 button.colab-df-convert');\n",
                            "        buttonEl.style.display =\n",
                            "          google.colab.kernel.accessAllowed ? 'block' : 'none';\n",
                            "\n",
                            "        async function convertToInteractive(key) {\n",
                            "          const element = document.querySelector('#df-d434dc2d-2b23-4c2a-b850-69130d70ca08');\n",
                            "          const dataTable =\n",
                            "            await google.colab.kernel.invokeFunction('convertToInteractive',\n",
                            "                                                     [key], {});\n",
                            "          if (!dataTable) return;\n",
                            "\n",
                            "          const docLinkHtml = 'Like what you see? Visit the ' +\n",
                            "            '<a target=\"_blank\" href=https://colab.research.google.com/notebooks/data_table.ipynb>data table notebook</a>'\n",
                            "            + ' to learn more about interactive tables.';\n",
                            "          element.innerHTML = '';\n",
                            "          dataTable['output_type'] = 'display_data';\n",
                            "          await google.colab.output.renderOutput(dataTable, element);\n",
                            "          const docLink = document.createElement('div');\n",
                            "          docLink.innerHTML = docLinkHtml;\n",
                            "          element.appendChild(docLink);\n",
                            "        }\n",
                            "      </script>\n",
                            "    </div>\n",
                            "  </div>\n",
                            "  "
                        ],
                        "text/plain": [
                            "5-n summary   Age\n",
                            "Min          15.0\n",
                            "Q1           29.0\n",
                            "Median       46.0\n",
                            "Q3           59.0\n",
                            "Max          95.0"
                        ]
                    },
                    "execution_count": 12,
                    "metadata": {},
                    "output_type": "execute_result"
                }
            ],
            "source": [
                "# Create a dataframe and display the 5-n summary stats\n",
                "box = {\"5-n summary\": [\"Age\"],\n",
                "           \"Min\": [df.Age.min()],\n",
                "           \"Q1\": [df.Age.quantile(.25)],\n",
                "           \"Median\": [df.Age.quantile(.5)],\n",
                "           \"Q3\": [df.Age.quantile(.75)],\n",
                "           \"Max\": [df.Age.max()]\n",
                "}\n",
                "plot = pd.DataFrame(box, columns=[\"5-n summary\",\"Min\",\"Q1\",\"Median\",\"Q3\",\"Max\"])\n",
                "plot.set_index(\"5-n summary\", inplace=True)\n",
                "\n",
                "boxplot = plot.T\n",
                "boxplot"
            ]
        },
        {
            "cell_type": "code",
            "execution_count": null,
            "metadata": {
                "colab": {
                    "base_uri": "https://localhost:8080/",
                    "height": 368
                },
                "id": "PfrqoSF4bzjI",
                "outputId": "5418db43-4c4c-4ee5-fa49-525dfccb7afa"
            },
            "outputs": [
                {
                    "name": "stderr",
                    "output_type": "stream",
                    "text": [
                        "/usr/local/lib/python3.8/dist-packages/seaborn/_decorators.py:36: FutureWarning: Pass the following variable as a keyword arg: x. From version 0.12, the only valid positional argument will be `data`, and passing other arguments without an explicit keyword will result in an error or misinterpretation.\n",
                        "  warnings.warn(\n",
                        "/usr/local/lib/python3.8/dist-packages/seaborn/distributions.py:2619: FutureWarning: `distplot` is a deprecated function and will be removed in a future version. Please adapt your code to use either `displot` (a figure-level function with similar flexibility) or `histplot` (an axes-level function for histograms).\n",
                        "  warnings.warn(msg, FutureWarning)\n"
                    ]
                },
                {
                    "data": {
                        "image/png": "[encoded data removed]",
                        "text/plain": [
                            "<Figure size 432x288 with 2 Axes>"
                        ]
                    },
                    "metadata": {
                        "needs_background": "light"
                    },
                    "output_type": "display_data"
                }
            ],
            "source": [
                "# Histogram + boxplot\n",
                "age = df.Age\n",
                "f, (ax_box, ax_hist) = plt.subplots(2, sharex=True, gridspec_kw= {\"height_ratios\": (0.8, 1.2)})\n",
                "\n",
                "mean=np.array(age).mean()\n",
                "median=np.median(age)\n",
                "\n",
                "sns.boxplot(age, ax=ax_box)\n",
                "ax_box.axvline(mean, color='r', linestyle='--')\n",
                "ax_box.axvline(median, color='g', linestyle='-')\n",
                "\n",
                "sns.distplot(age, ax=ax_hist)\n",
                "ax_hist.axvline(mean, color='r', linestyle='--')\n",
                "ax_hist.axvline(median, color='g', linestyle='-')\n",
                "\n",
                "plt.legend({'Mean':mean,'Median':median})\n",
                "plt.title(\"'Age' histogram + boxplot\")\n",
                "\n",
                "ax_box.set(xlabel='')\n",
                "plt.show()\n"
            ]
        },
        {
            "cell_type": "markdown",
            "metadata": {
                "id": "l-O-r3Rrb_Ax"
            },
            "source": [
                "# **1.1. Mesures de tendance centrale**\n"
            ]
        },
        {
            "cell_type": "markdown",
            "metadata": {
                "id": "MNqIdLAVtjpc"
            },
            "source": [
                "### **Calculer la moyenne**\n"
            ]
        },
        {
            "attachments": {},
            "cell_type": "markdown",
            "metadata": {
                "id": "7OH66v8kOLS3"
            },
            "source": [
                "![image](https://user-images.githubusercontent.com/123748165/221905698-e171fc76-2322-4d23-9034-e05b60e060d2.png)\n"
            ]
        },
        {
            "cell_type": "markdown",
            "metadata": {
                "id": "BkaLgO6Hha_d"
            },
            "source": [
                "#### #FAIRE\n",
                "- Essayez de calculer la moyenne de l'\u00e2ge :\n"
            ]
        },
        {
            "cell_type": "code",
            "execution_count": null,
            "metadata": {
                "colab": {
                    "base_uri": "https://localhost:8080/"
                },
                "id": "Q-uMz7iocAnD",
                "outputId": "759fdbae-e08e-4484-c985-e784c3c770d9"
            },
            "outputs": [
                {
                    "data": {
                        "text/plain": [
                            "46.25423728813559"
                        ]
                    },
                    "execution_count": 15,
                    "metadata": {},
                    "output_type": "execute_result"
                }
            ],
            "source": [
                "# Mean\n",
                "#Fill_Here"
            ]
        },
        {
            "cell_type": "markdown",
            "metadata": {
                "id": "Q1rNNS21trDZ"
            },
            "source": [
                "### **Calculer la m\u00e9diane**\n"
            ]
        },
        {
            "attachments": {},
            "cell_type": "markdown",
            "metadata": {
                "id": "5febrBV1OW7K"
            },
            "source": [
                "![image](https://user-images.githubusercontent.com/123748165/221905755-da9797bf-b8f2-40ab-962a-7191dd8dad3e.png)\n"
            ]
        },
        {
            "cell_type": "markdown",
            "metadata": {
                "id": "wqK014S9htlK"
            },
            "source": [
                "#### #FAIRE\n",
                "- Essayez de calculer la m\u00e9diane de l'\u00e2ge :\n"
            ]
        },
        {
            "cell_type": "code",
            "execution_count": null,
            "metadata": {
                "colab": {
                    "base_uri": "https://localhost:8080/"
                },
                "id": "9FCjwb-ZcMYr",
                "outputId": "36558702-6556-470b-a781-019f3dda1f41"
            },
            "outputs": [
                {
                    "data": {
                        "text/plain": [
                            "46.0"
                        ]
                    },
                    "execution_count": 16,
                    "metadata": {},
                    "output_type": "execute_result"
                }
            ],
            "source": [
                "# Median\n",
                "#Fill_here"
            ]
        },
        {
            "cell_type": "markdown",
            "metadata": {
                "id": "flL0QN1FcVGA"
            },
            "source": [
                "**Quelle mesure est la plus robuste aux valeurs aberrantes\u00a0?**\n",
                "La moyenne est celle \u00e0 utiliser avec des donn\u00e9es distribu\u00e9es sym\u00e9triquement, sinon, utilisez la m\u00e9diane. Cependant, une propri\u00e9t\u00e9 importante de la moyenne est qu'elle inclut toutes les valeurs de votre ensemble de donn\u00e9es dans le cadre du calcul.\n",
                "\n",
                "# **1.2. Mesures de propagation**\n"
            ]
        },
        {
            "cell_type": "markdown",
            "metadata": {
                "id": "3GHlbJZ3tthZ"
            },
            "source": [
                "### **Calculer l'\u00e9cart type**\n"
            ]
        },
        {
            "attachments": {},
            "cell_type": "markdown",
            "metadata": {
                "id": "oxFLq-8DM5BS"
            },
            "source": [
                "![image](https://user-images.githubusercontent.com/123748165/221905840-affeefa8-bc48-4b43-8920-9471977b98b3.png)\n"
            ]
        },
        {
            "cell_type": "markdown",
            "metadata": {
                "id": "vcKuXO9ahzTX"
            },
            "source": [
                "#### #FAIRE\n",
                "- Essayez de calculer l'\u00e9cart type de Age :\n"
            ]
        },
        {
            "cell_type": "code",
            "execution_count": null,
            "metadata": {
                "colab": {
                    "base_uri": "https://localhost:8080/"
                },
                "id": "maunveSicYA0",
                "outputId": "395de9e2-efa3-4833-f9e9-fc40a859548a"
            },
            "outputs": [
                {
                    "data": {
                        "text/plain": [
                            "17.194307565620715"
                        ]
                    },
                    "execution_count": 17,
                    "metadata": {},
                    "output_type": "execute_result"
                }
            ],
            "source": [
                "# Standard deviation\n",
                "#Fill_Here"
            ]
        },
        {
            "cell_type": "markdown",
            "metadata": {
                "id": "M7Ve3dlhtxMQ"
            },
            "source": [
                "### **Calculer la variance**\n"
            ]
        },
        {
            "cell_type": "markdown",
            "metadata": {
                "id": "9DorryG5h-cC"
            },
            "source": [
                "#### #FAIRE\n",
                "- Essayez de calculer la variance de Age :\n"
            ]
        },
        {
            "cell_type": "code",
            "execution_count": null,
            "metadata": {
                "colab": {
                    "base_uri": "https://localhost:8080/"
                },
                "id": "UlXhcFGDcjXz",
                "outputId": "830bf7f8-c4e9-46b1-9939-9e8cbdb0e84b"
            },
            "outputs": [
                {
                    "data": {
                        "text/plain": [
                            "295.6442126611618"
                        ]
                    },
                    "execution_count": 18,
                    "metadata": {},
                    "output_type": "execute_result"
                }
            ],
            "source": [
                "# Variance\n",
                "#Fill_here"
            ]
        },
        {
            "cell_type": "markdown",
            "metadata": {
                "id": "X-7f3ZI-Odn0"
            },
            "source": [
                "### **Calculer les centiles**\n"
            ]
        },
        {
            "attachments": {},
            "cell_type": "markdown",
            "metadata": {
                "id": "XlEHQrGVOti8"
            },
            "source": [
                "![image](https://user-images.githubusercontent.com/123748165/221905929-009616fc-c2b1-4c0b-8f46-5b0448a70fbf.png)\n"
            ]
        },
        {
            "cell_type": "markdown",
            "metadata": {
                "id": "fcsqPtYUiQer"
            },
            "source": [
                "#### #FAIRE\n",
                "- Essayez de calculer le centile 25\u00a0% de l'\u00e2ge\u00a0:\n"
            ]
        },
        {
            "cell_type": "code",
            "execution_count": null,
            "metadata": {
                "colab": {
                    "base_uri": "https://localhost:8080/"
                },
                "id": "xxTeUfIscs-G",
                "outputId": "d38a6ef8-c647-47a8-d40d-11d3e2946dee"
            },
            "outputs": [
                {
                    "data": {
                        "text/plain": [
                            "29.0"
                        ]
                    },
                    "execution_count": 19,
                    "metadata": {},
                    "output_type": "execute_result"
                }
            ],
            "source": [
                "# Percentiles 25%\n",
                "#Fill_here"
            ]
        },
        {
            "cell_type": "markdown",
            "metadata": {
                "id": "ZiOed4mnibCQ"
            },
            "source": [
                "#### #FAIRE\n",
                "- Essayez de calculer le centile d'\u00e2ge \u00e0 75\u00a0%\u00a0:\n"
            ]
        },
        {
            "cell_type": "code",
            "execution_count": null,
            "metadata": {
                "colab": {
                    "base_uri": "https://localhost:8080/"
                },
                "id": "8HjRYfB0cwbF",
                "outputId": "35c3bc67-b8a8-4ffa-beb2-64497309b1ad"
            },
            "outputs": [
                {
                    "data": {
                        "text/plain": [
                            "59.0"
                        ]
                    },
                    "execution_count": 20,
                    "metadata": {},
                    "output_type": "execute_result"
                }
            ],
            "source": [
                "# Percentile 75%\n",
                "# Fill_here"
            ]
        },
        {
            "cell_type": "markdown",
            "metadata": {
                "id": "dQq5CjJLigGE"
            },
            "source": [
                "#### #FAIRE\n",
                "- Essayez de calculer les 25\u00a0% et 75\u00a0centiles d'\u00e2ge en une seule ligne de commande\u00a0:\n"
            ]
        },
        {
            "cell_type": "code",
            "execution_count": null,
            "metadata": {
                "colab": {
                    "base_uri": "https://localhost:8080/"
                },
                "id": "X3MwJQekc2L-",
                "outputId": "cf2e0673-4ecb-4040-9c6f-f7dd2f2d34c4"
            },
            "outputs": [
                {
                    "data": {
                        "text/plain": [
                            "0.25    29.0\n",
                            "0.75    59.0\n",
                            "Name: Age, dtype: float64"
                        ]
                    },
                    "execution_count": 21,
                    "metadata": {},
                    "output_type": "execute_result"
                }
            ],
            "source": [
                "# In one go\n",
                "#Fill_here"
            ]
        },
        {
            "cell_type": "markdown",
            "metadata": {
                "id": "MdKchbH9ivyP"
            },
            "source": [
                "#### #FAIRE\n",
                "- Essayez de calculer le max et le min d'Age :\n"
            ]
        },
        {
            "cell_type": "code",
            "execution_count": null,
            "metadata": {
                "colab": {
                    "base_uri": "https://localhost:8080/"
                },
                "id": "np6f9MR1c5ts",
                "outputId": "2ecd1450-90df-400c-d9f8-99da8f719047"
            },
            "outputs": [
                {
                    "data": {
                        "text/plain": [
                            "(15, 95)"
                        ]
                    },
                    "execution_count": 22,
                    "metadata": {},
                    "output_type": "execute_result"
                }
            ],
            "source": [
                "# Minimum and Maxim\n",
                "#fill_here"
            ]
        },
        {
            "cell_type": "markdown",
            "metadata": {
                "id": "IreALoiKdHPX"
            },
            "source": [
                "# **1.3. Autres**\n"
            ]
        },
        {
            "cell_type": "code",
            "execution_count": null,
            "metadata": {
                "colab": {
                    "base_uri": "https://localhost:8080/"
                },
                "id": "ji4jlqCgdNEs",
                "outputId": "4599dc81-7348-4303-e9e4-99b3524b6477"
            },
            "outputs": [
                {
                    "data": {
                        "text/plain": [
                            "118"
                        ]
                    },
                    "execution_count": 24,
                    "metadata": {},
                    "output_type": "execute_result"
                }
            ],
            "source": [
                "# Size (number of rows)\n",
                "df.Age.count()"
            ]
        },
        {
            "cell_type": "code",
            "execution_count": null,
            "metadata": {
                "colab": {
                    "base_uri": "https://localhost:8080/"
                },
                "id": "73h4-FCtdST2",
                "outputId": "503e18e7-38d6-4bd9-9ba4-67d77ea505d2"
            },
            "outputs": [
                {
                    "data": {
                        "text/plain": [
                            "44"
                        ]
                    },
                    "execution_count": 25,
                    "metadata": {},
                    "output_type": "execute_result"
                }
            ],
            "source": [
                "# Number of uniques (total distinct)\n",
                "df.Age.nunique()"
            ]
        },
        {
            "cell_type": "code",
            "execution_count": null,
            "metadata": {
                "colab": {
                    "base_uri": "https://localhost:8080/"
                },
                "id": "ZPN2hc_QdUpe",
                "outputId": "0b05e3fd-d581-412f-ea19-0d6f7df39d8c"
            },
            "outputs": [
                {
                    "data": {
                        "text/plain": [
                            "array([24, 59, 45, 69, 21, 65, 52, 46, 26, 35, 42, 23, 25, 62, 51, 22, 44,\n",
                            "       55, 53, 41, 48, 57, 58, 49, 56, 36, 15, 54, 28, 29, 61, 27, 75, 73,\n",
                            "       19, 85, 76, 38, 34, 67, 84, 68, 95, 64])"
                        ]
                    },
                    "execution_count": 26,
                    "metadata": {},
                    "output_type": "execute_result"
                }
            ],
            "source": [
                "# Uniques (distinct)\n",
                "df.Age.unique()"
            ]
        },
        {
            "cell_type": "markdown",
            "metadata": {
                "id": "JNoCPYQqdYmN"
            },
            "source": [
                "# **2. Variable cat\u00e9gorielle**\n"
            ]
        },
        {
            "attachments": {},
            "cell_type": "markdown",
            "metadata": {
                "id": "PU1gwkpaO6rm"
            },
            "source": [
                "![image](https://user-images.githubusercontent.com/123748165/222190254-d520fc23-0b9a-4c60-9524-3f89f9360394.png)\n"
            ]
        },
        {
            "cell_type": "markdown",
            "metadata": {
                "id": "5gR2gJzidgyk"
            },
            "source": [
                "La variable cat\u00e9gorielle que nous allons analyser est la ville. Tra\u00e7ons un graphique \u00e0 barres et obtenons une observation visuelle de la variable.\n"
            ]
        },
        {
            "cell_type": "code",
            "execution_count": null,
            "metadata": {
                "colab": {
                    "base_uri": "https://localhost:8080/",
                    "height": 341
                },
                "id": "3AQU01rmdaLE",
                "outputId": "3732fb91-b894-4426-d9dd-44ec590e0ba5"
            },
            "outputs": [
                {
                    "data": {
                        "image/png": "[encoded data removed]",
                        "text/plain": [
                            "<Figure size 432x288 with 1 Axes>"
                        ]
                    },
                    "metadata": {
                        "needs_background": "light"
                    },
                    "output_type": "display_data"
                }
            ],
            "source": [
                "# Bar plot\n",
                "df.City.value_counts().plot.bar()\n",
                "plt.xlabel(\"City\")\n",
                "plt.ylabel(\"Absolute Frequency\")\n",
                "plt.title(\"Categoric variable 'City'\")\n",
                "plt.show()"
            ]
        },
        {
            "cell_type": "markdown",
            "metadata": {
                "id": "Fu7VJQagdqGm"
            },
            "source": [
                "# **2.1. Mesures de tendance centrale**\n"
            ]
        },
        {
            "cell_type": "markdown",
            "metadata": {
                "id": "R0kwPugEjNj1"
            },
            "source": [
                "#### #FAIRE\n",
                "- Essayez de calculer le mode de City :\n"
            ]
        },
        {
            "cell_type": "code",
            "execution_count": null,
            "metadata": {
                "colab": {
                    "base_uri": "https://localhost:8080/",
                    "height": 35
                },
                "id": "xhfwOcOFdsFY",
                "outputId": "0a572a19-6824-4b02-d13b-90db2bae296d"
            },
            "outputs": [
                {
                    "data": {
                        "application/vnd.google.colaboratory.intrinsic+json": {
                            "type": "string"
                        },
                        "text/plain": [
                            "'Marseille'"
                        ]
                    },
                    "execution_count": 29,
                    "metadata": {},
                    "output_type": "execute_result"
                }
            ],
            "source": [
                "# Mode\n",
                "#fill_here"
            ]
        },
        {
            "cell_type": "markdown",
            "metadata": {
                "id": "mnvkublUehGO"
            },
            "source": [
                "# **2.2. Mesures de propagation**\n"
            ]
        },
        {
            "cell_type": "markdown",
            "metadata": {
                "id": "zxlJ5YIijYjw"
            },
            "source": [
                "#### #FAIRE\n",
                "- Essayez de calculer les mesures de propagation de la ville :\n"
            ]
        },
        {
            "cell_type": "code",
            "execution_count": null,
            "metadata": {
                "colab": {
                    "base_uri": "https://localhost:8080/"
                },
                "id": "bvEMJdsTdv0A",
                "outputId": "a802c460-1b53-47c2-f8ea-4233373846f7"
            },
            "outputs": [
                {
                    "data": {
                        "text/plain": [
                            "9"
                        ]
                    },
                    "execution_count": 30,
                    "metadata": {},
                    "output_type": "execute_result"
                }
            ],
            "source": [
                "# fill_here"
            ]
        },
        {
            "cell_type": "code",
            "execution_count": null,
            "metadata": {
                "colab": {
                    "base_uri": "https://localhost:8080/"
                },
                "id": "FvcMnSCYdzFi",
                "outputId": "a44af645-6c0b-4d26-e584-d16140d29287"
            },
            "outputs": [
                {
                    "data": {
                        "text/plain": [
                            "array(['Paris', 'Toulouse', 'Montpellier', 'Bordeaux', 'Dijon',\n",
                            "       'Marseille', 'Lille', 'Rennes', 'Grenoble'], dtype=object)"
                        ]
                    },
                    "execution_count": 31,
                    "metadata": {},
                    "output_type": "execute_result"
                }
            ],
            "source": [
                "# Uniques (distinct)\n",
                "#fill_here"
            ]
        },
        {
            "cell_type": "code",
            "execution_count": null,
            "metadata": {
                "colab": {
                    "base_uri": "https://localhost:8080/"
                },
                "id": "7bLsw6Byd2AA",
                "outputId": "c4ff59bf-5374-4492-e977-42ca24dc8707"
            },
            "outputs": [
                {
                    "data": {
                        "text/plain": [
                            "Marseille    22\n",
                            "Name: City, dtype: int64"
                        ]
                    },
                    "execution_count": 32,
                    "metadata": {},
                    "output_type": "execute_result"
                }
            ],
            "source": [
                "# Most frequent unique (value count)\n",
                "#fill_here"
            ]
        },
        {
            "cell_type": "markdown",
            "metadata": {
                "id": "p8M0E6VRd5yZ"
            },
            "source": [
                "# **2.3. Autres**\n"
            ]
        },
        {
            "cell_type": "code",
            "execution_count": null,
            "metadata": {
                "colab": {
                    "base_uri": "https://localhost:8080/"
                },
                "id": "oYxwDMoud8br",
                "outputId": "af7e5515-fde4-45b8-c827-98b2ce4aac76"
            },
            "outputs": [
                {
                    "data": {
                        "text/plain": [
                            "118"
                        ]
                    },
                    "execution_count": 33,
                    "metadata": {},
                    "output_type": "execute_result"
                }
            ],
            "source": [
                "# Size (number of rows)\n",
                "df.City.count()"
            ]
        },
        {
            "cell_type": "code",
            "execution_count": null,
            "metadata": {
                "colab": {
                    "base_uri": "https://localhost:8080/"
                },
                "id": "cWUt6Xvad_1V",
                "outputId": "14b880c8-d0ca-47a0-ad69-e649fc5704db"
            },
            "outputs": [
                {
                    "name": "stdout",
                    "output_type": "stream",
                    "text": [
                        "18.6%\n"
                    ]
                }
            ],
            "source": [
                "# % of the highest unique (fraction of the \n",
                "# most common unique in regards to all the others)\n",
                "p = df.City.value_counts(normalize=True)[0]\n",
                "print(f\"{p:.1%}\")"
            ]
        },
        {
            "cell_type": "markdown",
            "metadata": {
                "id": "-983rs-qeD6Q"
            },
            "source": [
                "La m\u00e9thode **describe()** affiche les statistiques descriptives rassembl\u00e9es dans un tableau. Par d\u00e9faut, statistiques pour les donn\u00e9es num\u00e9riques. Le r\u00e9sultat est repr\u00e9sent\u00e9 sous la forme d'une trame de donn\u00e9es pandas.\n"
            ]
        },
        {
            "cell_type": "code",
            "execution_count": null,
            "metadata": {
                "colab": {
                    "base_uri": "https://localhost:8080/",
                    "height": 300
                },
                "id": "9fa41GUkeIm_",
                "outputId": "85195d36-4c0d-40f0-96e5-f9f17a9d2c64"
            },
            "outputs": [
                {
                    "data": {
                        "text/html": [
                            "\n",
                            "  <div id=\"df-c5a27d3a-323a-41db-9287-e047bb7cfefa\">\n",
                            "    <div class=\"colab-df-container\">\n",
                            "      <div>\n",
                            "<style scoped>\n",
                            "    .dataframe tbody tr th:only-of-type {\n",
                            "        vertical-align: middle;\n",
                            "    }\n",
                            "\n",
                            "    .dataframe tbody tr th {\n",
                            "        vertical-align: top;\n",
                            "    }\n",
                            "\n",
                            "    .dataframe thead th {\n",
                            "        text-align: right;\n",
                            "    }\n",
                            "</style>\n",
                            "<table border=\"1\" class=\"dataframe\">\n",
                            "  <thead>\n",
                            "    <tr style=\"text-align: right;\">\n",
                            "      <th></th>\n",
                            "      <th>Age</th>\n",
                            "    </tr>\n",
                            "  </thead>\n",
                            "  <tbody>\n",
                            "    <tr>\n",
                            "      <th>count</th>\n",
                            "      <td>118.000000</td>\n",
                            "    </tr>\n",
                            "    <tr>\n",
                            "      <th>mean</th>\n",
                            "      <td>46.254237</td>\n",
                            "    </tr>\n",
                            "    <tr>\n",
                            "      <th>std</th>\n",
                            "      <td>17.194308</td>\n",
                            "    </tr>\n",
                            "    <tr>\n",
                            "      <th>min</th>\n",
                            "      <td>15.000000</td>\n",
                            "    </tr>\n",
                            "    <tr>\n",
                            "      <th>25%</th>\n",
                            "      <td>29.000000</td>\n",
                            "    </tr>\n",
                            "    <tr>\n",
                            "      <th>50%</th>\n",
                            "      <td>46.000000</td>\n",
                            "    </tr>\n",
                            "    <tr>\n",
                            "      <th>75%</th>\n",
                            "      <td>59.000000</td>\n",
                            "    </tr>\n",
                            "    <tr>\n",
                            "      <th>max</th>\n",
                            "      <td>95.000000</td>\n",
                            "    </tr>\n",
                            "  </tbody>\n",
                            "</table>\n",
                            "</div>\n",
                            "      <button class=\"colab-df-convert\" onclick=\"convertToInteractive('df-c5a27d3a-323a-41db-9287-e047bb7cfefa')\"\n",
                            "              title=\"Convert this dataframe to an interactive table.\"\n",
                            "              style=\"display:none;\">\n",
                            "        \n",
                            "  <svg xmlns=\"http://www.w3.org/2000/svg\" height=\"24px\"viewBox=\"0 0 24 24\"\n",
                            "       width=\"24px\">\n",
                            "    <path d=\"M0 0h24v24H0V0z\" fill=\"none\"/>\n",
                            "    <path d=\"M18.56 5.44l.94 2.06.94-2.06 2.06-.94-2.06-.94-.94-2.06-.94 2.06-2.06.94zm-11 1L8.5 8.5l.94-2.06 2.06-.94-2.06-.94L8.5 2.5l-.94 2.06-2.06.94zm10 10l.94 2.06.94-2.06 2.06-.94-2.06-.94-.94-2.06-.94 2.06-2.06.94z\"/><path d=\"M17.41 7.96l-1.37-1.37c-.4-.4-.92-.59-1.43-.59-.52 0-1.04.2-1.43.59L10.3 9.45l-7.72 7.72c-.78.78-.78 2.05 0 2.83L4 21.41c.39.39.9.59 1.41.59.51 0 1.02-.2 1.41-.59l7.78-7.78 2.81-2.81c.8-.78.8-2.07 0-2.86zM5.41 20L4 18.59l7.72-7.72 1.47 1.35L5.41 20z\"/>\n",
                            "  </svg>\n",
                            "      </button>\n",
                            "      \n",
                            "  <style>\n",
                            "    .colab-df-container {\n",
                            "      display:flex;\n",
                            "      flex-wrap:wrap;\n",
                            "      gap: 12px;\n",
                            "    }\n",
                            "\n",
                            "    .colab-df-convert {\n",
                            "      background-color: #E8F0FE;\n",
                            "      border: none;\n",
                            "      border-radius: 50%;\n",
                            "      cursor: pointer;\n",
                            "      display: none;\n",
                            "      fill: #1967D2;\n",
                            "      height: 32px;\n",
                            "      padding: 0 0 0 0;\n",
                            "      width: 32px;\n",
                            "    }\n",
                            "\n",
                            "    .colab-df-convert:hover {\n",
                            "      background-color: #E2EBFA;\n",
                            "      box-shadow: 0px 1px 2px rgba(60, 64, 67, 0.3), 0px 1px 3px 1px rgba(60, 64, 67, 0.15);\n",
                            "      fill: #174EA6;\n",
                            "    }\n",
                            "\n",
                            "    [theme=dark] .colab-df-convert {\n",
                            "      background-color: #3B4455;\n",
                            "      fill: #D2E3FC;\n",
                            "    }\n",
                            "\n",
                            "    [theme=dark] .colab-df-convert:hover {\n",
                            "      background-color: #434B5C;\n",
                            "      box-shadow: 0px 1px 3px 1px rgba(0, 0, 0, 0.15);\n",
                            "      filter: drop-shadow(0px 1px 2px rgba(0, 0, 0, 0.3));\n",
                            "      fill: #FFFFFF;\n",
                            "    }\n",
                            "  </style>\n",
                            "\n",
                            "      <script>\n",
                            "        const buttonEl =\n",
                            "          document.querySelector('#df-c5a27d3a-323a-41db-9287-e047bb7cfefa button.colab-df-convert');\n",
                            "        buttonEl.style.display =\n",
                            "          google.colab.kernel.accessAllowed ? 'block' : 'none';\n",
                            "\n",
                            "        async function convertToInteractive(key) {\n",
                            "          const element = document.querySelector('#df-c5a27d3a-323a-41db-9287-e047bb7cfefa');\n",
                            "          const dataTable =\n",
                            "            await google.colab.kernel.invokeFunction('convertToInteractive',\n",
                            "                                                     [key], {});\n",
                            "          if (!dataTable) return;\n",
                            "\n",
                            "          const docLinkHtml = 'Like what you see? Visit the ' +\n",
                            "            '<a target=\"_blank\" href=https://colab.research.google.com/notebooks/data_table.ipynb>data table notebook</a>'\n",
                            "            + ' to learn more about interactive tables.';\n",
                            "          element.innerHTML = '';\n",
                            "          dataTable['output_type'] = 'display_data';\n",
                            "          await google.colab.output.renderOutput(dataTable, element);\n",
                            "          const docLink = document.createElement('div');\n",
                            "          docLink.innerHTML = docLinkHtml;\n",
                            "          element.appendChild(docLink);\n",
                            "        }\n",
                            "      </script>\n",
                            "    </div>\n",
                            "  </div>\n",
                            "  "
                        ],
                        "text/plain": [
                            "              Age\n",
                            "count  118.000000\n",
                            "mean    46.254237\n",
                            "std     17.194308\n",
                            "min     15.000000\n",
                            "25%     29.000000\n",
                            "50%     46.000000\n",
                            "75%     59.000000\n",
                            "max     95.000000"
                        ]
                    },
                    "execution_count": 35,
                    "metadata": {},
                    "output_type": "execute_result"
                }
            ],
            "source": [
                "# Numeric stats\n",
                "df.describe()"
            ]
        },
        {
            "cell_type": "code",
            "execution_count": null,
            "metadata": {
                "colab": {
                    "base_uri": "https://localhost:8080/",
                    "height": 386
                },
                "id": "t7QfLYzxeMsB",
                "outputId": "4fde41a8-3238-4d4c-a398-1e2477eb1205"
            },
            "outputs": [
                {
                    "name": "stderr",
                    "output_type": "stream",
                    "text": [
                        "<ipython-input-36-8d98d71136a3>:4: FutureWarning: Dropping of nuisance columns in DataFrame reductions (with 'numeric_only=None') is deprecated; in a future version this will raise TypeError.  Select only valid columns before calling the reduction.\n",
                        "  describe_var.append(pd.Series(df.var(), name='variance'))\n"
                    ]
                },
                {
                    "data": {
                        "text/html": [
                            "\n",
                            "  <div id=\"df-84587d66-a9ae-4b90-a4a1-34cc2413bcb4\">\n",
                            "    <div class=\"colab-df-container\">\n",
                            "      <div>\n",
                            "<style scoped>\n",
                            "    .dataframe tbody tr th:only-of-type {\n",
                            "        vertical-align: middle;\n",
                            "    }\n",
                            "\n",
                            "    .dataframe tbody tr th {\n",
                            "        vertical-align: top;\n",
                            "    }\n",
                            "\n",
                            "    .dataframe thead th {\n",
                            "        text-align: right;\n",
                            "    }\n",
                            "</style>\n",
                            "<table border=\"1\" class=\"dataframe\">\n",
                            "  <thead>\n",
                            "    <tr style=\"text-align: right;\">\n",
                            "      <th></th>\n",
                            "      <th>Age</th>\n",
                            "    </tr>\n",
                            "  </thead>\n",
                            "  <tbody>\n",
                            "    <tr>\n",
                            "      <th>count</th>\n",
                            "      <td>118.000000</td>\n",
                            "    </tr>\n",
                            "    <tr>\n",
                            "      <th>mean</th>\n",
                            "      <td>46.254237</td>\n",
                            "    </tr>\n",
                            "    <tr>\n",
                            "      <th>std</th>\n",
                            "      <td>17.194308</td>\n",
                            "    </tr>\n",
                            "    <tr>\n",
                            "      <th>min</th>\n",
                            "      <td>15.000000</td>\n",
                            "    </tr>\n",
                            "    <tr>\n",
                            "      <th>25%</th>\n",
                            "      <td>29.000000</td>\n",
                            "    </tr>\n",
                            "    <tr>\n",
                            "      <th>50%</th>\n",
                            "      <td>46.000000</td>\n",
                            "    </tr>\n",
                            "    <tr>\n",
                            "      <th>75%</th>\n",
                            "      <td>59.000000</td>\n",
                            "    </tr>\n",
                            "    <tr>\n",
                            "      <th>max</th>\n",
                            "      <td>95.000000</td>\n",
                            "    </tr>\n",
                            "    <tr>\n",
                            "      <th>variance</th>\n",
                            "      <td>295.644213</td>\n",
                            "    </tr>\n",
                            "  </tbody>\n",
                            "</table>\n",
                            "</div>\n",
                            "      <button class=\"colab-df-convert\" onclick=\"convertToInteractive('df-84587d66-a9ae-4b90-a4a1-34cc2413bcb4')\"\n",
                            "              title=\"Convert this dataframe to an interactive table.\"\n",
                            "              style=\"display:none;\">\n",
                            "        \n",
                            "  <svg xmlns=\"http://www.w3.org/2000/svg\" height=\"24px\"viewBox=\"0 0 24 24\"\n",
                            "       width=\"24px\">\n",
                            "    <path d=\"M0 0h24v24H0V0z\" fill=\"none\"/>\n",
                            "    <path d=\"M18.56 5.44l.94 2.06.94-2.06 2.06-.94-2.06-.94-.94-2.06-.94 2.06-2.06.94zm-11 1L8.5 8.5l.94-2.06 2.06-.94-2.06-.94L8.5 2.5l-.94 2.06-2.06.94zm10 10l.94 2.06.94-2.06 2.06-.94-2.06-.94-.94-2.06-.94 2.06-2.06.94z\"/><path d=\"M17.41 7.96l-1.37-1.37c-.4-.4-.92-.59-1.43-.59-.52 0-1.04.2-1.43.59L10.3 9.45l-7.72 7.72c-.78.78-.78 2.05 0 2.83L4 21.41c.39.39.9.59 1.41.59.51 0 1.02-.2 1.41-.59l7.78-7.78 2.81-2.81c.8-.78.8-2.07 0-2.86zM5.41 20L4 18.59l7.72-7.72 1.47 1.35L5.41 20z\"/>\n",
                            "  </svg>\n",
                            "      </button>\n",
                            "      \n",
                            "  <style>\n",
                            "    .colab-df-container {\n",
                            "      display:flex;\n",
                            "      flex-wrap:wrap;\n",
                            "      gap: 12px;\n",
                            "    }\n",
                            "\n",
                            "    .colab-df-convert {\n",
                            "      background-color: #E8F0FE;\n",
                            "      border: none;\n",
                            "      border-radius: 50%;\n",
                            "      cursor: pointer;\n",
                            "      display: none;\n",
                            "      fill: #1967D2;\n",
                            "      height: 32px;\n",
                            "      padding: 0 0 0 0;\n",
                            "      width: 32px;\n",
                            "    }\n",
                            "\n",
                            "    .colab-df-convert:hover {\n",
                            "      background-color: #E2EBFA;\n",
                            "      box-shadow: 0px 1px 2px rgba(60, 64, 67, 0.3), 0px 1px 3px 1px rgba(60, 64, 67, 0.15);\n",
                            "      fill: #174EA6;\n",
                            "    }\n",
                            "\n",
                            "    [theme=dark] .colab-df-convert {\n",
                            "      background-color: #3B4455;\n",
                            "      fill: #D2E3FC;\n",
                            "    }\n",
                            "\n",
                            "    [theme=dark] .colab-df-convert:hover {\n",
                            "      background-color: #434B5C;\n",
                            "      box-shadow: 0px 1px 3px 1px rgba(0, 0, 0, 0.15);\n",
                            "      filter: drop-shadow(0px 1px 2px rgba(0, 0, 0, 0.3));\n",
                            "      fill: #FFFFFF;\n",
                            "    }\n",
                            "  </style>\n",
                            "\n",
                            "      <script>\n",
                            "        const buttonEl =\n",
                            "          document.querySelector('#df-84587d66-a9ae-4b90-a4a1-34cc2413bcb4 button.colab-df-convert');\n",
                            "        buttonEl.style.display =\n",
                            "          google.colab.kernel.accessAllowed ? 'block' : 'none';\n",
                            "\n",
                            "        async function convertToInteractive(key) {\n",
                            "          const element = document.querySelector('#df-84587d66-a9ae-4b90-a4a1-34cc2413bcb4');\n",
                            "          const dataTable =\n",
                            "            await google.colab.kernel.invokeFunction('convertToInteractive',\n",
                            "                                                     [key], {});\n",
                            "          if (!dataTable) return;\n",
                            "\n",
                            "          const docLinkHtml = 'Like what you see? Visit the ' +\n",
                            "            '<a target=\"_blank\" href=https://colab.research.google.com/notebooks/data_table.ipynb>data table notebook</a>'\n",
                            "            + ' to learn more about interactive tables.';\n",
                            "          element.innerHTML = '';\n",
                            "          dataTable['output_type'] = 'display_data';\n",
                            "          await google.colab.output.renderOutput(dataTable, element);\n",
                            "          const docLink = document.createElement('div');\n",
                            "          docLink.innerHTML = docLinkHtml;\n",
                            "          element.appendChild(docLink);\n",
                            "        }\n",
                            "      </script>\n",
                            "    </div>\n",
                            "  </div>\n",
                            "  "
                        ],
                        "text/plain": [
                            "                 Age\n",
                            "count     118.000000\n",
                            "mean       46.254237\n",
                            "std        17.194308\n",
                            "min        15.000000\n",
                            "25%        29.000000\n",
                            "50%        46.000000\n",
                            "75%        59.000000\n",
                            "max        95.000000\n",
                            "variance  295.644213"
                        ]
                    },
                    "execution_count": 36,
                    "metadata": {},
                    "output_type": "execute_result"
                }
            ],
            "source": [
                "# Adding other non-standard values \n",
                "# for instance, the 'variance'\n",
                "describe_var = df.describe()\n",
                "describe_var.append(pd.Series(df.var(), name='variance'))"
            ]
        },
        {
            "cell_type": "code",
            "execution_count": null,
            "metadata": {
                "colab": {
                    "base_uri": "https://localhost:8080/",
                    "height": 175
                },
                "id": "oAM2rUAweQvJ",
                "outputId": "790ccd26-f9ad-4db5-93fc-8b443b9612a5"
            },
            "outputs": [
                {
                    "data": {
                        "text/html": [
                            "\n",
                            "  <div id=\"df-72783786-3a52-49c6-80cf-3c9d979fdab9\">\n",
                            "    <div class=\"colab-df-container\">\n",
                            "      <div>\n",
                            "<style scoped>\n",
                            "    .dataframe tbody tr th:only-of-type {\n",
                            "        vertical-align: middle;\n",
                            "    }\n",
                            "\n",
                            "    .dataframe tbody tr th {\n",
                            "        vertical-align: top;\n",
                            "    }\n",
                            "\n",
                            "    .dataframe thead th {\n",
                            "        text-align: right;\n",
                            "    }\n",
                            "</style>\n",
                            "<table border=\"1\" class=\"dataframe\">\n",
                            "  <thead>\n",
                            "    <tr style=\"text-align: right;\">\n",
                            "      <th></th>\n",
                            "      <th>City</th>\n",
                            "    </tr>\n",
                            "  </thead>\n",
                            "  <tbody>\n",
                            "    <tr>\n",
                            "      <th>count</th>\n",
                            "      <td>118</td>\n",
                            "    </tr>\n",
                            "    <tr>\n",
                            "      <th>unique</th>\n",
                            "      <td>9</td>\n",
                            "    </tr>\n",
                            "    <tr>\n",
                            "      <th>top</th>\n",
                            "      <td>Marseille</td>\n",
                            "    </tr>\n",
                            "    <tr>\n",
                            "      <th>freq</th>\n",
                            "      <td>22</td>\n",
                            "    </tr>\n",
                            "  </tbody>\n",
                            "</table>\n",
                            "</div>\n",
                            "      <button class=\"colab-df-convert\" onclick=\"convertToInteractive('df-72783786-3a52-49c6-80cf-3c9d979fdab9')\"\n",
                            "              title=\"Convert this dataframe to an interactive table.\"\n",
                            "              style=\"display:none;\">\n",
                            "        \n",
                            "  <svg xmlns=\"http://www.w3.org/2000/svg\" height=\"24px\"viewBox=\"0 0 24 24\"\n",
                            "       width=\"24px\">\n",
                            "    <path d=\"M0 0h24v24H0V0z\" fill=\"none\"/>\n",
                            "    <path d=\"M18.56 5.44l.94 2.06.94-2.06 2.06-.94-2.06-.94-.94-2.06-.94 2.06-2.06.94zm-11 1L8.5 8.5l.94-2.06 2.06-.94-2.06-.94L8.5 2.5l-.94 2.06-2.06.94zm10 10l.94 2.06.94-2.06 2.06-.94-2.06-.94-.94-2.06-.94 2.06-2.06.94z\"/><path d=\"M17.41 7.96l-1.37-1.37c-.4-.4-.92-.59-1.43-.59-.52 0-1.04.2-1.43.59L10.3 9.45l-7.72 7.72c-.78.78-.78 2.05 0 2.83L4 21.41c.39.39.9.59 1.41.59.51 0 1.02-.2 1.41-.59l7.78-7.78 2.81-2.81c.8-.78.8-2.07 0-2.86zM5.41 20L4 18.59l7.72-7.72 1.47 1.35L5.41 20z\"/>\n",
                            "  </svg>\n",
                            "      </button>\n",
                            "      \n",
                            "  <style>\n",
                            "    .colab-df-container {\n",
                            "      display:flex;\n",
                            "      flex-wrap:wrap;\n",
                            "      gap: 12px;\n",
                            "    }\n",
                            "\n",
                            "    .colab-df-convert {\n",
                            "      background-color: #E8F0FE;\n",
                            "      border: none;\n",
                            "      border-radius: 50%;\n",
                            "      cursor: pointer;\n",
                            "      display: none;\n",
                            "      fill: #1967D2;\n",
                            "      height: 32px;\n",
                            "      padding: 0 0 0 0;\n",
                            "      width: 32px;\n",
                            "    }\n",
                            "\n",
                            "    .colab-df-convert:hover {\n",
                            "      background-color: #E2EBFA;\n",
                            "      box-shadow: 0px 1px 2px rgba(60, 64, 67, 0.3), 0px 1px 3px 1px rgba(60, 64, 67, 0.15);\n",
                            "      fill: #174EA6;\n",
                            "    }\n",
                            "\n",
                            "    [theme=dark] .colab-df-convert {\n",
                            "      background-color: #3B4455;\n",
                            "      fill: #D2E3FC;\n",
                            "    }\n",
                            "\n",
                            "    [theme=dark] .colab-df-convert:hover {\n",
                            "      background-color: #434B5C;\n",
                            "      box-shadow: 0px 1px 3px 1px rgba(0, 0, 0, 0.15);\n",
                            "      filter: drop-shadow(0px 1px 2px rgba(0, 0, 0, 0.3));\n",
                            "      fill: #FFFFFF;\n",
                            "    }\n",
                            "  </style>\n",
                            "\n",
                            "      <script>\n",
                            "        const buttonEl =\n",
                            "          document.querySelector('#df-72783786-3a52-49c6-80cf-3c9d979fdab9 button.colab-df-convert');\n",
                            "        buttonEl.style.display =\n",
                            "          google.colab.kernel.accessAllowed ? 'block' : 'none';\n",
                            "\n",
                            "        async function convertToInteractive(key) {\n",
                            "          const element = document.querySelector('#df-72783786-3a52-49c6-80cf-3c9d979fdab9');\n",
                            "          const dataTable =\n",
                            "            await google.colab.kernel.invokeFunction('convertToInteractive',\n",
                            "                                                     [key], {});\n",
                            "          if (!dataTable) return;\n",
                            "\n",
                            "          const docLinkHtml = 'Like what you see? Visit the ' +\n",
                            "            '<a target=\"_blank\" href=https://colab.research.google.com/notebooks/data_table.ipynb>data table notebook</a>'\n",
                            "            + ' to learn more about interactive tables.';\n",
                            "          element.innerHTML = '';\n",
                            "          dataTable['output_type'] = 'display_data';\n",
                            "          await google.colab.output.renderOutput(dataTable, element);\n",
                            "          const docLink = document.createElement('div');\n",
                            "          docLink.innerHTML = docLinkHtml;\n",
                            "          element.appendChild(docLink);\n",
                            "        }\n",
                            "      </script>\n",
                            "    </div>\n",
                            "  </div>\n",
                            "  "
                        ],
                        "text/plain": [
                            "             City\n",
                            "count         118\n",
                            "unique          9\n",
                            "top     Marseille\n",
                            "freq           22"
                        ]
                    },
                    "execution_count": 37,
                    "metadata": {},
                    "output_type": "execute_result"
                }
            ],
            "source": [
                "# Displaying categorical data\n",
                "df.describe(include=\"O\")\n",
                "\n",
                "# The same as:\n",
                "# df.describe(exclude=['float64','int64'])\n",
                "# df.describe(include=[np.object])"
            ]
        },
        {
            "cell_type": "code",
            "execution_count": null,
            "metadata": {
                "colab": {
                    "base_uri": "https://localhost:8080/",
                    "height": 394
                },
                "id": "4TwVPvWYeZp9",
                "outputId": "2275f7cc-5db3-4c6e-b45a-9165bb0ad4ea"
            },
            "outputs": [
                {
                    "data": {
                        "text/html": [
                            "\n",
                            "  <div id=\"df-a9f224c7-e348-449a-9710-dc2f96883172\">\n",
                            "    <div class=\"colab-df-container\">\n",
                            "      <div>\n",
                            "<style scoped>\n",
                            "    .dataframe tbody tr th:only-of-type {\n",
                            "        vertical-align: middle;\n",
                            "    }\n",
                            "\n",
                            "    .dataframe tbody tr th {\n",
                            "        vertical-align: top;\n",
                            "    }\n",
                            "\n",
                            "    .dataframe thead th {\n",
                            "        text-align: right;\n",
                            "    }\n",
                            "</style>\n",
                            "<table border=\"1\" class=\"dataframe\">\n",
                            "  <thead>\n",
                            "    <tr style=\"text-align: right;\">\n",
                            "      <th></th>\n",
                            "      <th>Age</th>\n",
                            "      <th>City</th>\n",
                            "    </tr>\n",
                            "  </thead>\n",
                            "  <tbody>\n",
                            "    <tr>\n",
                            "      <th>count</th>\n",
                            "      <td>118.000000</td>\n",
                            "      <td>118</td>\n",
                            "    </tr>\n",
                            "    <tr>\n",
                            "      <th>unique</th>\n",
                            "      <td>NaN</td>\n",
                            "      <td>9</td>\n",
                            "    </tr>\n",
                            "    <tr>\n",
                            "      <th>top</th>\n",
                            "      <td>NaN</td>\n",
                            "      <td>Marseille</td>\n",
                            "    </tr>\n",
                            "    <tr>\n",
                            "      <th>freq</th>\n",
                            "      <td>NaN</td>\n",
                            "      <td>22</td>\n",
                            "    </tr>\n",
                            "    <tr>\n",
                            "      <th>mean</th>\n",
                            "      <td>46.254237</td>\n",
                            "      <td>NaN</td>\n",
                            "    </tr>\n",
                            "    <tr>\n",
                            "      <th>std</th>\n",
                            "      <td>17.194308</td>\n",
                            "      <td>NaN</td>\n",
                            "    </tr>\n",
                            "    <tr>\n",
                            "      <th>min</th>\n",
                            "      <td>15.000000</td>\n",
                            "      <td>NaN</td>\n",
                            "    </tr>\n",
                            "    <tr>\n",
                            "      <th>25%</th>\n",
                            "      <td>29.000000</td>\n",
                            "      <td>NaN</td>\n",
                            "    </tr>\n",
                            "    <tr>\n",
                            "      <th>50%</th>\n",
                            "      <td>46.000000</td>\n",
                            "      <td>NaN</td>\n",
                            "    </tr>\n",
                            "    <tr>\n",
                            "      <th>75%</th>\n",
                            "      <td>59.000000</td>\n",
                            "      <td>NaN</td>\n",
                            "    </tr>\n",
                            "    <tr>\n",
                            "      <th>max</th>\n",
                            "      <td>95.000000</td>\n",
                            "      <td>NaN</td>\n",
                            "    </tr>\n",
                            "  </tbody>\n",
                            "</table>\n",
                            "</div>\n",
                            "      <button class=\"colab-df-convert\" onclick=\"convertToInteractive('df-a9f224c7-e348-449a-9710-dc2f96883172')\"\n",
                            "              title=\"Convert this dataframe to an interactive table.\"\n",
                            "              style=\"display:none;\">\n",
                            "        \n",
                            "  <svg xmlns=\"http://www.w3.org/2000/svg\" height=\"24px\"viewBox=\"0 0 24 24\"\n",
                            "       width=\"24px\">\n",
                            "    <path d=\"M0 0h24v24H0V0z\" fill=\"none\"/>\n",
                            "    <path d=\"M18.56 5.44l.94 2.06.94-2.06 2.06-.94-2.06-.94-.94-2.06-.94 2.06-2.06.94zm-11 1L8.5 8.5l.94-2.06 2.06-.94-2.06-.94L8.5 2.5l-.94 2.06-2.06.94zm10 10l.94 2.06.94-2.06 2.06-.94-2.06-.94-.94-2.06-.94 2.06-2.06.94z\"/><path d=\"M17.41 7.96l-1.37-1.37c-.4-.4-.92-.59-1.43-.59-.52 0-1.04.2-1.43.59L10.3 9.45l-7.72 7.72c-.78.78-.78 2.05 0 2.83L4 21.41c.39.39.9.59 1.41.59.51 0 1.02-.2 1.41-.59l7.78-7.78 2.81-2.81c.8-.78.8-2.07 0-2.86zM5.41 20L4 18.59l7.72-7.72 1.47 1.35L5.41 20z\"/>\n",
                            "  </svg>\n",
                            "      </button>\n",
                            "      \n",
                            "  <style>\n",
                            "    .colab-df-container {\n",
                            "      display:flex;\n",
                            "      flex-wrap:wrap;\n",
                            "      gap: 12px;\n",
                            "    }\n",
                            "\n",
                            "    .colab-df-convert {\n",
                            "      background-color: #E8F0FE;\n",
                            "      border: none;\n",
                            "      border-radius: 50%;\n",
                            "      cursor: pointer;\n",
                            "      display: none;\n",
                            "      fill: #1967D2;\n",
                            "      height: 32px;\n",
                            "      padding: 0 0 0 0;\n",
                            "      width: 32px;\n",
                            "    }\n",
                            "\n",
                            "    .colab-df-convert:hover {\n",
                            "      background-color: #E2EBFA;\n",
                            "      box-shadow: 0px 1px 2px rgba(60, 64, 67, 0.3), 0px 1px 3px 1px rgba(60, 64, 67, 0.15);\n",
                            "      fill: #174EA6;\n",
                            "    }\n",
                            "\n",
                            "    [theme=dark] .colab-df-convert {\n",
                            "      background-color: #3B4455;\n",
                            "      fill: #D2E3FC;\n",
                            "    }\n",
                            "\n",
                            "    [theme=dark] .colab-df-convert:hover {\n",
                            "      background-color: #434B5C;\n",
                            "      box-shadow: 0px 1px 3px 1px rgba(0, 0, 0, 0.15);\n",
                            "      filter: drop-shadow(0px 1px 2px rgba(0, 0, 0, 0.3));\n",
                            "      fill: #FFFFFF;\n",
                            "    }\n",
                            "  </style>\n",
                            "\n",
                            "      <script>\n",
                            "        const buttonEl =\n",
                            "          document.querySelector('#df-a9f224c7-e348-449a-9710-dc2f96883172 button.colab-df-convert');\n",
                            "        buttonEl.style.display =\n",
                            "          google.colab.kernel.accessAllowed ? 'block' : 'none';\n",
                            "\n",
                            "        async function convertToInteractive(key) {\n",
                            "          const element = document.querySelector('#df-a9f224c7-e348-449a-9710-dc2f96883172');\n",
                            "          const dataTable =\n",
                            "            await google.colab.kernel.invokeFunction('convertToInteractive',\n",
                            "                                                     [key], {});\n",
                            "          if (!dataTable) return;\n",
                            "\n",
                            "          const docLinkHtml = 'Like what you see? Visit the ' +\n",
                            "            '<a target=\"_blank\" href=https://colab.research.google.com/notebooks/data_table.ipynb>data table notebook</a>'\n",
                            "            + ' to learn more about interactive tables.';\n",
                            "          element.innerHTML = '';\n",
                            "          dataTable['output_type'] = 'display_data';\n",
                            "          await google.colab.output.renderOutput(dataTable, element);\n",
                            "          const docLink = document.createElement('div');\n",
                            "          docLink.innerHTML = docLinkHtml;\n",
                            "          element.appendChild(docLink);\n",
                            "        }\n",
                            "      </script>\n",
                            "    </div>\n",
                            "  </div>\n",
                            "  "
                        ],
                        "text/plain": [
                            "               Age       City\n",
                            "count   118.000000        118\n",
                            "unique         NaN          9\n",
                            "top            NaN  Marseille\n",
                            "freq           NaN         22\n",
                            "mean     46.254237        NaN\n",
                            "std      17.194308        NaN\n",
                            "min      15.000000        NaN\n",
                            "25%      29.000000        NaN\n",
                            "50%      46.000000        NaN\n",
                            "75%      59.000000        NaN\n",
                            "max      95.000000        NaN"
                        ]
                    },
                    "execution_count": 38,
                    "metadata": {},
                    "output_type": "execute_result"
                }
            ],
            "source": [
                "# By passing the parameter include='all'\n",
                "# displays both numeric and categoric \n",
                "# variables at once\n",
                "df.describe(include=\"all\")"
            ]
        }
    ],
    "metadata": {
        "kernelspec": {
            "display_name": "Python 3",
            "language": "python",
            "name": "python3"
        },
        "language_info": {
            "name": "python",
            "version": "3.11.0"
        },
        "vscode": {
            "interpreter": {
                "hash": "9fedf123aa532497912d939029aac71791b23fba076af1a3c1eebd0e739bf47a"
            }
        }
    },
    "nbformat": 4,
    "nbformat_minor": 0
}