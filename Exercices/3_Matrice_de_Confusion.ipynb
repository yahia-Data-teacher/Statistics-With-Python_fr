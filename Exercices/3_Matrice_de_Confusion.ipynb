{
    "cells": [
        {
            "cell_type": "markdown",
            "metadata": {
                "colab_type": "text",
                "id": "view-in-github"
            },
            "source": [
                "<a href=\"https://colab.research.google.com/github/yahia-kplr/Statistics-With-Python_fr/blob/main/Exercices/3_Matrice_de_Confusion.ipynb\" target=\"_blank\"><img src=\"https://colab.research.google.com/assets/colab-badge.svg\" alt=\"Open In Colab\"/></a>"
            ]
        },
        {
            "cell_type": "markdown",
            "metadata": {
                "id": "6vtBflVbQnl4"
            },
            "source": [
                "# **Matrice de confusion - Pas si confuse !**\n",
                "- Vous êtes-vous déjà retrouvé dans une situation où vous vous attendiez à ce que votre modèle d'apprentissage machine soit très performant, mais où il s'est avéré peu précis ?\n",
                "- Vous avez fait tout le travail nécessaire - alors où le modèle de classification s'est-il trompé ? Comment pouvez-vous corriger cela ?\n",
                "\n",
                "- Il existe de nombreuses façons (les fameuses métriques) d'évaluer les performances de votre modèle de classification, mais aucune n'a résisté à l'épreuve du temps comme la matrice de confusion.\n",
                "-  Elle nous aide à évaluer les performances de notre modèle, à déterminer où il a mal fonctionné et nous offre des conseils pour corriger notre modèle ou ses hyperparamaètres.\n",
                "\n",
                "- Dans cet article, nous allons voir comment une matrice de confusion donne une vue globale des performances d'un modèle.\n",
                "- Et contrairement à son nom, vous réaliserez qu'une matrice de confusion est un concept assez simple mais puissant.\n",
                "- Alors, dévoilons le mystère qui entoure la matrice de confusion !\n"
            ]
        },
        {
            "attachments": {},
            "cell_type": "markdown",
            "metadata": {
                "id": "9sR2F4PjQr_g"
            },
            "source": [
                "**1.Qu'est-ce qu'une matrice de confusion ?\n",
                "Oui, qu'est-ce qu'une matrice de confusion, après tout ?**\n",
                "\n",
                "- Une matrice de confusion est une matrice N x N utilisée pour évaluer la performance d'un modèle de classification, où N est le nombre de classes cibles (les fameuses \"targets\").\n",
                "- La matrice compare les valeurs cibles réelles avec celles prédites par le modèle d'apprentissage machine. Cela nous donne une vue d'ensemble des performances de notre modèle de classification et des types d'erreurs qu'il commet.\n",
                "\n",
                "- Pour un problème de classification binaire, nous avons donc une matrice 2 x 2 comme indiqué ci-dessous avec 4 valeurs :\n",
                " ![image](https://user-images.githubusercontent.com/123748165/222210203-85926237-b4be-46ac-99e4-0f2bb289cecc.png)\n",
                "\n",
                "- Déchiffrons cette matrice :\n",
                "\n",
                "- La variable cible a deux valeurs : 0 ou 1 (ou vrai/faux ou Oui/Non ou Positive/Négative...)\n",
                "- Les lignes (Actual) représentent les valeurs réelles de la variable cible\n",
                "- Les colonnes (Predicted) représentent les valeurs prédites de la variable cible\n",
                "- Mais qu'est-ce que TP, FP, FN et TN ici ? C'est la partie cruciale d'une matrice de confusion. Comprenons chaque terme ci-dessous.\n"
            ]
        },
        {
            "cell_type": "markdown",
            "metadata": {
                "id": "V4G__yhqRVQb"
            },
            "source": [
                "**Comprendre le vrai positif, le vrai négatif, le faux positif et le faux négatif dans une matrice de confusion**\n",
                "\n",
                "- Vrai positif (TP comme True Positive)\n",
                "\n",
                "La valeur prévue correspond à la valeur réelle La valeur réelle est 1 (ou positive) et le modèle prévoit une valeur de 1 (ou positive)\n",
                "\n",
                "- Vrai négatif (TN comme True Negative)\n",
                "\n",
                "La valeur prévue correspond à la valeur réelle La valeur réelle est 0 (ou négative) et le modèle prévoit une valeur 0 (ou négative)\n",
                "\n",
                "- Faux positif (FP comme False Positive) - Fausse alarme\n",
                "\n",
                "La valeur prédite est fausse La valeur réelle est 0 (ou negative), mais le modèle prédit une valeur 1 (ou positive) Également connue sous le nom d'erreur de type 1\n",
                "\n",
                "- Faux négatif (FN comme False Negative)\n",
                "\n",
                "- La valeur prédite est fausse La valeur réelle est 1 (ou positive), mais le modèle prédit une valeur 0 (ou négative) Également connue sous le nom d'erreur de type 2\n",
                "\n"
            ]
        },
        {
            "attachments": {},
            "cell_type": "markdown",
            "metadata": {
                "id": "IIxCMsy3SARr"
            },
            "source": [
                "- Avant de répondre à cette question, réfléchissons à un hypothétique problème de classification.\n",
                "\n",
                "- Supposons que vous vouliez prédire combien de personnes sont infectées par un virus contagieux avant qu'elles ne présentent les symptômes, et les isoler de la population saine (ça vous dit quelque chose ? 😷).\n",
                "- Les deux valeurs de notre variable cible seraient Malade et Non Malade.\n",
                "\n",
                "- Maintenant, vous devez vous demander pourquoi nous avons besoin d'une matrice de confusion alors que nous avons un une métrique très répandue qui est l'exactitude. Voyons où celle-ci s'arrête.\n",
                "\n",
                "- Notre ensemble de données est un exemple d'un ensemble de données déséquilibré. Il y a 960 points de données pour la classe négative et 40 points de données pour la classe positive.\n",
                "- Voici comment nous allons calculer l'exactitude  :\n",
                "\n",
                "![image](https://user-images.githubusercontent.com/123748165/222210709-4981dcd3-2d3f-4f15-9d02-dac84a805334.png)\n",
                "\n",
                "\n",
                "- Les valeurs totales des résultats sont :\n",
                "\n",
                "TP = 30, TN = 930, FP = 30, FN = 10\n",
                "\n",
                "- Ainsi, la précision de notre modèle s'avère être :\n",
                "\n",
                "![image](https://user-images.githubusercontent.com/123748165/222210506-f7c6e536-7c38-4dee-8339-1fc08fcba13d.png)\n",
                "\n",
                "96% ! Pas mal non ?\n",
                "\n",
                "- Mais cela donne une mauvaise idée du résultat.\n",
                "\n",
                "- Notre modèle dit : \"Je peux prédire les personnes malades 96% du temps\". Mais il fait le contraire.\n",
                "- Il prédit les personnes qui ne tomberont pas malades avec 96% de précision alors que les malades propagent le virus !\n",
                "\n",
                "- Pensez-vous que ce soit une mesure correcte pour notre modèle étant donné la gravité du problème ?\n",
                "- Ne devrions-nous pas mesurer le nombre de cas positifs que nous pouvons prédire correctement pour arrêter la propagation du virus contagieux ? Ou peut-être, parmi les cas correctement prédits, combien de cas positifs pour vérifier la fiabilité de notre modèle ?\n",
                "\n",
                "- C'est là que nous rencontrons le double concept de Précision et de Rappel.\n"
            ]
        },
        {
            "attachments": {},
            "cell_type": "markdown",
            "metadata": {
                "id": "h1rfmJc1TFHO"
            },
            "source": [
                "# **Précision ou rappel**\n",
                "- **La précision** nous indique combien de cas correctement prévus se sont avérés positifs.\n",
                "\n",
                "Voici comment calculer la Précision :\n",
                "![image](https://user-images.githubusercontent.com/123748165/222210961-b017ca1a-04ba-422a-8bbc-445f594fd77e.png)\n",
                "\n",
                "\n",
                "Cela permet de déterminer si notre modèle est fiable ou non.\n",
                "\n",
                "- **Le rappel** nous indique combien de cas positifs réels nous avons pu prévoir correctement avec notre modèle.\n",
                "\n",
                "Et voici comment nous pouvons calculer le Rappel :\n",
                "![image](https://user-images.githubusercontent.com/123748165/222211071-038b45c2-530a-405e-8350-70cb59a5cfa8.png)\n",
                "\n"
            ]
        },
        {
            "attachments": {},
            "cell_type": "markdown",
            "metadata": {
                "id": "agPJ1LN9Tg31"
            },
            "source": [
                "# **La F-mesure ou F-Score**\n",
                "En pratique, lorsque nous essayons d'augmenter la précision de notre modèle, le rappel diminue, et vice-versa. La F-Mesure saisit les deux tendances en une seule valeur :\n",
                "\n",
                "![image](https://user-images.githubusercontent.com/123748165/222211147-a56cf845-d00e-462f-a7b9-6b86ba68406e.png)\n",
                "\n",
                "\n",
                "\n",
                "Le F-Mesure est une moyenne harmonique de la précision et du rappel, et elle donne donc une idée combinée de ces deux mesures. Elle est maximale lorsque la Précision est égale au Rappel.\n"
            ]
        },
        {
            "cell_type": "markdown",
            "metadata": {
                "id": "-mj-ILNXTpK7"
            },
            "source": [
                "# **Matrice de confusion en utilisant Scikit-Learn en Python**\n"
            ]
        },
        {
            "cell_type": "code",
            "execution_count": null,
            "metadata": {
                "id": "wLpXAigTQcBN"
            },
            "outputs": [],
            "source": [
                "# confusion matrix in sklearn\n",
                "from sklearn.metrics import confusion_matrix\n",
                "from sklearn.metrics import classification_report\n",
                "import matplotlib.pyplot as plt\n",
                "import numpy as np\n",
                "import itertools"
            ]
        },
        {
            "cell_type": "code",
            "execution_count": null,
            "metadata": {
                "id": "Xw7TmXlCTwS-"
            },
            "outputs": [],
            "source": [
                "# actual values\n",
                "actual = [1,0,0,1,0,0,1,0,0,1]\n",
                "# predicted values\n",
                "predicted = [1,0,0,1,0,0,0,1,0,0]"
            ]
        },
        {
            "cell_type": "markdown",
            "metadata": {
                "id": "U5EIvUN-Pelp"
            },
            "source": [
                "### #FAIRE\n",
                "- Essayer de définir la matrice de confusion de nos tableaux réels et prédits :\n"
            ]
        },
        {
            "cell_type": "code",
            "execution_count": null,
            "metadata": {
                "id": "AAdYhh4IT4mI"
            },
            "outputs": [],
            "source": [
                "# confusion matrix\n",
                "#cnf_matrix=fill_here"
            ]
        },
        {
            "cell_type": "code",
            "execution_count": null,
            "metadata": {
                "colab": {
                    "base_uri": "https://localhost:8080/",
                    "height": 296
                },
                "id": "MCI4w2AjT_01",
                "outputId": "cbb1570f-6b12-44db-afa9-3e129dc4d188"
            },
            "outputs": [
                {
                    "data": {
                        "image/png": "[encoded data removed]",
                        "text/plain": [
                            "<Figure size 432x288 with 2 Axes>"
                        ]
                    },
                    "metadata": {
                        "needs_background": "light"
                    },
                    "output_type": "display_data"
                }
            ],
            "source": [
                "classes = range(0,2)\n",
                "plt.figure()\n",
                "\n",
                "plt.imshow(cnf_matrix, interpolation='nearest',cmap='Blues')\n",
                "plt.title(\"Matrice de confusion\")\n",
                "plt.colorbar()\n",
                "tick_marks = np.arange(len(classes))\n",
                "plt.xticks(tick_marks, classes)\n",
                "plt.yticks(tick_marks, classes)\n",
                "for i, j in itertools.product(range(cnf_matrix.shape[0]), range(cnf_matrix.shape[1])):\n",
                "    plt.text(j, i, cnf_matrix[i, j],\n",
                "             horizontalalignment=\"center\",\n",
                "             color=\"white\" if cnf_matrix[i, j] > ( cnf_matrix.max() / 2) else \"black\")\n",
                "\n",
                "plt.ylabel('Vrais labels')\n",
                "plt.xlabel('Labels prédits')\n",
                "plt.show()"
            ]
        },
        {
            "cell_type": "code",
            "execution_count": null,
            "metadata": {
                "colab": {
                    "base_uri": "https://localhost:8080/"
                },
                "id": "0WajVJkhUJZI",
                "outputId": "ed3cd8c1-6611-475c-8597-5ede74a30971"
            },
            "outputs": [
                {
                    "name": "stdout",
                    "output_type": "stream",
                    "text": [
                        "Valeurs de TN, FP, FN, TP : \n",
                        " 5 1 2 2\n"
                    ]
                }
            ],
            "source": [
                "# outcome values order in sklearn\n",
                "tn, fp, fn ,tp = confusion_matrix(actual,predicted).reshape(-1)\n",
                "print('Valeurs de TN, FP, FN, TP : \\n',tn, fp, fn, tp)"
            ]
        },
        {
            "cell_type": "markdown",
            "metadata": {
                "id": "OhlKeuOWP5lG"
            },
            "source": [
                "### #FAIRE\n",
                "- Essayez d'imprimer le rapport de classement avec la méthode classification_report() :\n"
            ]
        },
        {
            "cell_type": "code",
            "execution_count": null,
            "metadata": {
                "colab": {
                    "base_uri": "https://localhost:8080/"
                },
                "id": "gZi0-2GkULlo",
                "outputId": "b76bb52d-674a-4317-bdda-b1771bfb0df0"
            },
            "outputs": [
                {
                    "name": "stdout",
                    "output_type": "stream",
                    "text": [
                        "Rapport de Classification  : \n",
                        "               precision    recall  f1-score   support\n",
                        "\n",
                        "           0       0.71      0.83      0.77         6\n",
                        "           1       0.67      0.50      0.57         4\n",
                        "\n",
                        "    accuracy                           0.70        10\n",
                        "   macro avg       0.69      0.67      0.67        10\n",
                        "weighted avg       0.70      0.70      0.69        10\n",
                        "\n"
                    ]
                }
            ],
            "source": [
                "# classification report for precision, recall f1-score and accuracy\n",
                "#fill_here"
            ]
        }
    ],
    "metadata": {
        "kernelspec": {
            "display_name": "env",
            "language": "python",
            "name": "python3"
        },
        "language_info": {
            "name": "python",
            "version": "3.11.0"
        },
        "vscode": {
            "interpreter": {
                "hash": "a535573ec38c0444cce32f4c997696b55d67f9e32ebf0e7a06a46f3ea7917ee8"
            }
        }
    },
    "nbformat": 4,
    "nbformat_minor": 0
}
