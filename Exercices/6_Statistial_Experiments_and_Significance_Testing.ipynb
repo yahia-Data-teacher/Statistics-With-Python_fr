{
    "nbformat": 4,
    "nbformat_minor": 0,
    "metadata": {
        "kernelspec": {
            "name": "python3",
            "display_name": "Python 3"
        },
        "language_info": {
            "name": "python"
        }
    },
    "cells": [
        {
            "cell_type": "markdown",
            "metadata": {
                "id": "view-in-github",
                "colab_type": "text"
            },
            "source": [
                "<a href=\"https://colab.research.google.com/github/yahia-kplr/Statistics-With-Python_fr/blob/main/Exercices/6_Statistial_Experiments_and_Significance_Testing.ipynb\" target=\"_blank\"><img src=\"https://colab.research.google.com/assets/colab-badge.svg\" alt=\"Open In Colab\"/></a>"
            ]
        },
        {
            "cell_type": "markdown",
            "source": [
                "# **Exp\u00e9riences statistiques et tests de signification**\n"
            ],
            "metadata": {
                "id": "cTW_bJ7KeYNt"
            }
        },
        {
            "cell_type": "markdown",
            "source": [
                "# **Exemple\u00a0: adh\u00e9rence du Web**\n",
                "- Une entreprise vendant un service \u00e0 valeur relativement \u00e9lev\u00e9e veut tester lequel des deux sites Web pr\u00e9sentations fait un meilleur travail de vente.\n",
                "- En raison de la valeur \u00e9lev\u00e9e du service \u00e9tant\n",
                "vendues, les ventes sont peu fr\u00e9quentes et le cycle de vente est long ; il faudrait trop de temps pour\n",
                "accumulez suffisamment de ventes pour savoir quelle pr\u00e9sentation est la meilleure.\n",
                "- Alors la soci\u00e9t\u00e9\n",
                "d\u00e9cide de mesurer les r\u00e9sultats avec une variable proxy, en utilisant l'int\u00e9rieur d\u00e9taill\u00e9 page qui d\u00e9crit le service.\n",
                "- Une variable indirecte potentielle pour notre entreprise est le nombre de clics sur le page de destination d\u00e9taill\u00e9e. Un meilleur est le temps que les gens passent sur la page.\n",
                "- Il est raisonnable de penser qu'une pr\u00e9sentation web (page) qui retient l'attention des gens\n",
                "plus longtemps conduira \u00e0 plus de ventes.\n",
                "\n",
                "- Par cons\u00e9quent, notre m\u00e9trique est le temps de session moyen,\n",
                "comparant la page A \u00e0 la page B.\n"
            ],
            "metadata": {
                "id": "hqEoPsqqnQrm"
            }
        },
        {
            "cell_type": "markdown",
            "source": [
                "**Importer les packages Python requis**\n"
            ],
            "metadata": {
                "id": "Fy8_AAvnf_mk"
            }
        },
        {
            "cell_type": "code",
            "execution_count": null,
            "metadata": {
                "id": "WypabglmeNtL"
            },
            "outputs": [],
            "source": [
                "%matplotlib inline\n",
                "\n",
                "from pathlib import Path\n",
                "import random\n",
                "\n",
                "import pandas as pd\n",
                "import numpy as np\n",
                "\n",
                "from scipy import stats\n",
                "import statsmodels.api as sm\n",
                "import statsmodels.formula.api as smf\n",
                "from statsmodels.stats import power\n",
                "\n",
                "import matplotlib.pylab as plt"
            ]
        },
        {
            "cell_type": "code",
            "source": [
                "WEB_PAGE_DATA_CSV = 'https://raw.githubusercontent.com/gedeck/practical-statistics-for-data-scientists/master/data/web_page_data.csv'\n",
                "FOUR_SESSIONS_CSV ='https://raw.githubusercontent.com/gedeck/practical-statistics-for-data-scientists/master/data/four_sessions.csv'\n",
                "CLICK_RATE_CSV = 'https://raw.githubusercontent.com/gedeck/practical-statistics-for-data-scientists/master/data/click_rates.csv'\n",
                "IMANISHI_CSV = 'https://raw.githubusercontent.com/gedeck/practical-statistics-for-data-scientists/master/data/imanishi_data.csv'"
            ],
            "metadata": {
                "id": "66jIC3c-gJl9"
            },
            "execution_count": null,
            "outputs": []
        },
        {
            "cell_type": "markdown",
            "source": [
                "**R\u00e9\u00e9chantillonnage**\n"
            ],
            "metadata": {
                "id": "47BchGWEgLl4"
            }
        },
        {
            "cell_type": "code",
            "source": [
                "session_times = pd.read_csv(WEB_PAGE_DATA_CSV)\n",
                "session_times.Time = 100 * session_times.Time"
            ],
            "metadata": {
                "id": "1QCUOPE9gNFC"
            },
            "execution_count": null,
            "outputs": []
        },
        {
            "cell_type": "markdown",
            "source": [
                "- \u00c9tant donn\u00e9 qu'il s'agit d'une page int\u00e9rieure \u00e0 usage sp\u00e9cial, elle ne re\u00e7oit pas de grand nombre de visiteurs.\n",
                "- Notez \u00e9galement que Google Analytics, qui nous permet de\n",
                "mesurer le temps de session, ne peut pas mesurer le temps de session pour la derni\u00e8re session d'une personne visites.\n",
                "- Au lieu de supprimer cette session des donn\u00e9es, GA l'enregistre en tant que\n",
                "z\u00e9ro, les donn\u00e9es n\u00e9cessitent donc un traitement suppl\u00e9mentaire pour supprimer ces sessions.\n",
                "- Le r\u00e9sultat est un total de 36 sessions pour les deux pr\u00e9sentations diff\u00e9rentes, 21 pour la page A et 15 pour la page B.\n",
                "\n",
                "- **En utilisant boxplot, nous pouvons comparer visuellement les temps de session en utilisant des bo\u00eetes \u00e0 moustaches c\u00f4te \u00e0 c\u00f4te\u00a0:**\n"
            ],
            "metadata": {
                "id": "Zm09TDg3n_mO"
            }
        },
        {
            "cell_type": "code",
            "source": [
                "ax = session_times.boxplot(by='Page', column='Time',\n",
                "                           figsize=(4, 4))\n",
                "ax.set_xlabel('')\n",
                "ax.set_ylabel('Time (in seconds)')\n",
                "plt.suptitle('')\n",
                "\n",
                "plt.tight_layout()\n",
                "plt.show()"
            ],
            "metadata": {
                "colab": {
                    "base_uri": "https://localhost:8080/",
                    "height": 352
                },
                "id": "wqYihJg6gQPQ",
                "outputId": "2441c61d-06ff-4393-9e12-a0c10fd66516"
            },
            "execution_count": null,
            "outputs": [
                {
                    "output_type": "stream",
                    "name": "stderr",
                    "text": [
                        "/usr/local/lib/python3.8/dist-packages/matplotlib/cbook/__init__.py:1376: VisibleDeprecationWarning: Creating an ndarray from ragged nested sequences (which is a list-or-tuple of lists-or-tuples-or ndarrays with different lengths or shapes) is deprecated. If you meant to do this, you must specify 'dtype=object' when creating the ndarray.\n",
                        "  X = np.atleast_1d(X.T if isinstance(X, np.ndarray) else np.asarray(X))\n"
                    ]
                },
                {
                    "output_type": "display_data",
                    "data": {
                        "text/plain": [
                            "<Figure size 288x288 with 1 Axes>"
                        ],
                        "image/png": "[encoded data removed]"
                    },
                    "metadata": {
                        "needs_background": "light"
                    }
                }
            ]
        },
        {
            "cell_type": "markdown",
            "source": [
                "- Le boxplot, indique que la page B m\u00e8ne \u00e0 des sessions plus longues\n",
                "que la page A. Les moyennes pour chaque groupe peuvent \u00eatre calcul\u00e9es comme suit :\n"
            ],
            "metadata": {
                "id": "SrB9MfGlol0M"
            }
        },
        {
            "cell_type": "markdown",
            "source": [
                "## FAIRE\n",
                "- Essaie de de calculer les moyennes de temps de sessions pour chaque page (page A et page B )\n"
            ],
            "metadata": {
                "id": "206g6abUaypJ"
            }
        },
        {
            "cell_type": "code",
            "source": [
                "mean_a = #fill_here\n",
                "mean_b = #fill_here\n",
                "print(mean_b - mean_a)"
            ],
            "metadata": {
                "colab": {
                    "base_uri": "https://localhost:8080/"
                },
                "id": "LuWhHlj1gTNw",
                "outputId": "8687aa50-d426-41d7-bceb-09b5b1a5422a"
            },
            "execution_count": null,
            "outputs": [
                {
                    "output_type": "stream",
                    "name": "stdout",
                    "text": [
                        "35.66666666666667\n"
                    ]
                }
            ]
        },
        {
            "cell_type": "markdown",
            "source": [
                "- La page B a des dur\u00e9es de session sup\u00e9rieures, en moyenne, de 35.66 secondes par rapport \u00e0 la page A.\n",
                "- la question est de savoir si cette diff\u00e9rence se situe dans la fourchette de ce qu'est le hasard pourrait produire ou, alternativement, est statistiquement significatif.\n",
                "- Une fa\u00e7on de r\u00e9pondre \u00e0 \u00e7a est d'appliquer un test de permutation - combiner tous les temps de session ensemble, puis m\u00e9langez-les \u00e0 plusieurs reprises et divisez-les en groupes de 21 (rappelez-vous que n = 21 pour la page\n",
                "A) et 15 (n = 15 pour B).\n",
                "- Pour appliquer un test de permutation, nous avons besoin d'une fonction pour assigner al\u00e9atoirement la 36 session fois \u00e0 un groupe de 21 (page A) et un groupe de 15 (page B) :\n"
            ],
            "metadata": {
                "id": "ZxadvjmjozK9"
            }
        },
        {
            "cell_type": "code",
            "source": [
                "# Permutation test example with stickiness\n",
                "def perm_fun(x, nA, nB):\n",
                "    n = nA + nB\n",
                "    idx_B = set(random.sample(range(n), nB))\n",
                "    idx_A = set(range(n)) - idx_B\n",
                "    return x.loc[list(idx_B)].mean() - x.loc[list(idx_A)].mean()\n",
                "    \n",
                "nA = session_times[session_times.Page == 'Page A'].shape[0]\n",
                "nB = session_times[session_times.Page == 'Page B'].shape[0]\n",
                "print(perm_fun(session_times.Time, nA, nB))"
            ],
            "metadata": {
                "colab": {
                    "base_uri": "https://localhost:8080/"
                },
                "id": "hO0TqlcygZXx",
                "outputId": "67786bbc-b711-4fcb-9df2-a885f727aa4a"
            },
            "execution_count": null,
            "outputs": [
                {
                    "output_type": "stream",
                    "name": "stdout",
                    "text": [
                        "-13.590476190476181\n"
                    ]
                }
            ]
        },
        {
            "cell_type": "markdown",
            "source": [
                "- cette fonction fonctionne en \u00e9chantillonnant sans remise n2 indices et en affectant les au groupe B; les n1 indices restants sont affect\u00e9s au groupe A.\n",
                "- Les diff\u00e9rence entre les deux moyennes est renvoy\u00e9e.\n",
                "- Appel de cette fonction R = 1 000 fois et en sp\u00e9cifiant n2  et n1  conduit \u00e0 une distribution des diff\u00e9rences dans les temps de session qui peuvent \u00eatre trac\u00e9s sous forme d'histogramme.\n"
            ],
            "metadata": {
                "id": "pAg-6BTcpuiF"
            }
        },
        {
            "cell_type": "code",
            "source": [
                "random.seed(1)\n",
                "perm_diffs = [perm_fun(session_times.Time, nA, nB) for _ in range(1000)]\n",
                "\n",
                "fig, ax = plt.subplots(figsize=(5, 5))\n",
                "ax.hist(perm_diffs, bins=11, rwidth=0.9)\n",
                "ax.axvline(x = mean_b - mean_a, color='black', lw=2)\n",
                "ax.text(50, 190, 'Observed\\ndifference', bbox={'facecolor':'white'})\n",
                "ax.set_xlabel('Session time differences (in seconds)')\n",
                "ax.set_ylabel('Frequency')\n",
                "\n",
                "plt.tight_layout()\n",
                "plt.show()"
            ],
            "metadata": {
                "colab": {
                    "base_uri": "https://localhost:8080/",
                    "height": 369
                },
                "id": "8TpvrVCEgd9u",
                "outputId": "d4e21f82-57d0-474b-eddb-89836e0527a9"
            },
            "execution_count": null,
            "outputs": [
                {
                    "output_type": "display_data",
                    "data": {
                        "text/plain": [
                            "<Figure size 360x360 with 1 Axes>"
                        ],
                        "image/png": "[encoded data removed]"
                    },
                    "metadata": {
                        "needs_background": "light"
                    }
                }
            ]
        },
        {
            "cell_type": "markdown",
            "source": [
                "- L'histogramme montre que la diff\u00e9rence moyenne des\n",
                "permutations d\u00e9passe souvent la diff\u00e9rence observ\u00e9e dans les temps de session (la ligne verticale).\n",
                "- Cela sugg\u00e8re que la diff\u00e9rence de temps de session observ\u00e9e entre la page A\n",
                "et la page B est bien dans la plage de variation al\u00e9atoire, donc n'est pas statistiquement important.\n"
            ],
            "metadata": {
                "id": "r7M7I7YqqArT"
            }
        },
        {
            "cell_type": "markdown",
            "source": [
                "##FAIRE\n"
            ],
            "metadata": {
                "id": "sLFxvTGAkK-h"
            }
        },
        {
            "cell_type": "code",
            "source": [
                "#to_do\n",
                "# convert perm_diffs to numpy array to avoid problems with some Python installations\n",
                "perm_diffs = #fill_here\n",
                "#print the mean of data where perm_diffs>mean_b-mean_a\n",
                "#fill_here"
            ],
            "metadata": {
                "colab": {
                    "base_uri": "https://localhost:8080/"
                },
                "id": "nSZyCJvkggyd",
                "outputId": "d33bab7a-cd8b-466c-9d30-930dc7a8811b"
            },
            "execution_count": null,
            "outputs": [
                {
                    "output_type": "stream",
                    "name": "stdout",
                    "text": [
                        "0.121\n"
                    ]
                }
            ]
        },
        {
            "cell_type": "markdown",
            "source": [
                "**\u00a0Signification statistique et valeurs\u00a0P**\n"
            ],
            "metadata": {
                "id": "ccyl2kmogi0S"
            }
        },
        {
            "cell_type": "markdown",
            "source": [
                "- La signification statistique est la fa\u00e7on dont les statisticiens mesurent si une exp\u00e9rience (ou\n",
                "m\u00eame une \u00e9tude des donn\u00e9es existantes) donne un r\u00e9sultat plus extr\u00eame que ce que le hasard pourrait produire.\n",
                "- Si le r\u00e9sultat est au-del\u00e0 du domaine de la variation al\u00e9atoire, on dit qu'il est statistiquement significatif.\n"
            ],
            "metadata": {
                "id": "qzwa2gCSqsyZ"
            }
        },
        {
            "cell_type": "markdown",
            "source": [
                "![image.png](data:image/png;base64,iVBORw0KGgoAAAANSUhEUgAAANsAAABrCAYAAAD+Sfc1AAAAAXNSR0IArs4c6QAAAARnQU1BAACxjwv8YQUAAAAJcEhZcwAADsMAAA7DAcdvqGQAACgfSURBVHhe7Z0HXJNXF8afhClBWQIiKspUxIFaFyLiAheIq66qiBNRHHVXpa66tyJu67ZVUdFq3RP3QFSGW2QKsgmQ5Hw3ISouFKsp/X7338bwvvcddz33nHuTvEdADHA4nC9GwFD+WSyEyncOh/Od4WLjcFQEFxuHoyK42DgcFcHFxuGoiA9WIzds2KD8i8PhfAwfH5+vWo3kS/8cTjHhS/8cTgmHi43DURFcbByOiuBi43BUBBcbh6Mivnw1MvsJTu/ejpAL9/AsRQxhaVNYO7ZAl96eqG2kpjyI83Wk4tLmVTj2TKrcFkCgpgGRoTmqNmiB5o5m0FKmfAzpo+0YNjAIaR2XYNNwxyKP/Vryri3DoJnH8UqjLvzWTUMrPWXCl5B6CZtXHcPb4gmgpiGCoXlVNGjRHI5mRZYOj7YPw8CgNHRcsgnDHb9F6WR4Ffo7Ao8/Z1dXwvIkVNdGGZMqqO3SGk5WpT9pib52NRJysX2O/AfbqF81XVIr60zjdt+gZy8T6MHZ1dSnWinSKOdK08++Uh75JeRQ8ot4Ss9XbnIYEkp/doNWdylPbNgijXq+ tHbtYhrfwZq0hSKy6bGBIoqor6w9vchIKCBR60B6IVXu/KZk0ZHBVqStISAI9clzUzwV6zaSdHp2YzV1Ka/GBnYNque7ltYuHk8drLVJKLKhHhsi6NPFy6I9vYxIKBBR68AXxbtvEUhSn9K11V2ovBoIGvXId91mWrfQj5xN1EigYUZtlocXkScSyGSyNuw1nb1+ZS83pZyKRnnyp5E8plVueqywWuQ0N5J1i7dkHhlEFmoCUrfypWMZyp2fIfWvwVRFqy5ND+dqexcxn fSrohCblscmUlTnq23UWZ91cLXy5HMoR3HUR5Ek0s2QYLr4LFe54xuTupf6NRxAU/tbsPwJSLf1KnpW3F4vPkl+VeRi0yKPTQWd5dW2zqQvAKmV96Gii3eTQoIv0rcunvikH1WRi03LgwqylEunR1iRunzA+2Em3S3c2b8AJrpI9haglNYHfHbOJn22FztOpUOmboOmrpYo7DCKnFxRXxeQPP4Dvx/PQNLJpfh51EiMHD0NuyMkkNzchAny7VETsflWGu4fmA/fsb/jieQF/p4/FrP3P1GYcWn8BawZ3wcerVqgVVsv/DRhF6IU9j0L9/dMx4BObmjZqh1+HLEUp14UGH7J3e2Yorj2OATuP4Y1k/rBs3UrdBq1FbcenMLqCX3QoUVLeI3YhLBsdoLsFa5vmog+Hq3QorUXBs75C08likuVXEqZwlSPNZE0GTFPr2HH1NEYNXIkxsw5iKeZUdgXwOps+Dz8PmU2Nh07hT0HLiNNfp40HhfWjC8oa6u28PppAnYpKpS5T9c3YWIfD7Rq0RpeA+fgry+ohOSQXYhs0g8/9+2IKuqErLM7sPvxGwfsqyllaoqC4sXg6bUdmDp6FEaOHIM5B58iM2ofAlg+h89bhimzN+HYqT04cFlRuk/3l3/cxgSxOJf9K4SepRXKFXN2xLxLW/Y2jQnuNBNetYK9hVBIsgjEh30KTK1mc1r+vo+ Se5pGWLHaZ65B/Vn3SJJ7g6bU1mAjsTkN/EussIoLnTUJgjLUbVcyxVxbSl4mQoJ6NRq87Sxde5zOhrdj5G/P3AndhjTlfDKJY/dQ/6Z+dFwspcS9faiiujpZDz1CLx+uoFalhaRTdxpdVYxwqbTFqzQJoE62PZfT3n2LqbMFGzkFmlS930q2vZS6VmZ5Y/f2+v0lPd3gScZCTWowM4weLm9BpYRlqPXKx4pilAw+tGzS2CByF8ktW2UadkJMufdmUUMNZgnMXKmTSyUqZ1mBjJstotQtXlSaW QhN12UUI31Fx/ztmfupSw2nnKdkcSzt6d+U/I6LSfp0A3kaC0mzwUwKe7icWpQSUpnWK+lxUSO4NJbWeDSmyVeZJ5IbSuOqyetUk+pNv1OUm/UhH1g2KcUGuZNIbtkqD6MT4ly6N6shaUCNzFw7kUulcmRZwZiaLbqtbGdNcl0WQ9Ii+ktx2/iNZdOoSX3mLqS5k7pTLf0yZO0+mUJiimnW3oOJLZu9pillpuCzlo1y85CnWEJRhzqzr+/C9inVn5fLRgShJjQKjwYCDWi8OUcb5g62KKvB5pYCHZjXaoS6lUsjad8ybLifC53mgzHSyRBaZu3gP9ETVurpOLolGDFSLdRwcoJRJWc0slZD9u0d2HE1j11PA5rya7EimDf0gmfHQfixoS5zcoCyNdsptrs7lYGQcpAYG4n9247iJQxhZ2cKXTNz6CEDl89eUeSspCF7fg7rlkzH0B8DcDy7FGx7zMBoFy2oaWuxUrP0DBnqLLyJmKjzCOxjBw1NDbyZsSftw7IN95Gr0xyDRzrBUMsM7fwnwtNKiPiD23D0JWBoZwdTXTOY6wEZl8/iSq7y3I8gfbobf7xsjvZVMpGabYP27dn9KA+3d2/Hza/yDGR4fm4dlkwfih8DjiO7lC16zBgNFy01aGspSocMWR0svBmDqPOB6GOnp2znAj7ZX4TxOPjVbawGDe1S0DVxQNMGZREfuh3zZ27DgyLq5XMwK1eKvY1ngrMr2PMFYhOamMJIfhRlIj1dobq3UDrSs9g+gRBGJiafv9gHSPAk+hHEJIRxJQuIFPu0UNO9JSojETFxOSCBFkQ6TLGC0igjP4C5SM9jPtbKQgjVhIpOR+w/OWpqSuVTPGLiJcyKp+Pcor7otz4Jjm7uaFbVsCC9pCHNRx7rKg695mHf5Sjc3tIbloUGMYFmBdhXN2Tls0Bn77bKvQVInkTjkZg5QsaVYFFQodCq6Y6WlQWIiYkHG6+Rfm4R+vZbjyRHN7g3q8q65 6eQImrnn4jKuoBJXTuhU6eumHZVAAM1AfIj/sS2i1/XG6X5bLDUc0CveftwOeo2tvQuPD1hNqyCPaobqkHNojO82xor98spor8IYr6+jYUV4dx/KHz9J2PZ3tXopf8MZ4J8kf1SrDzg65ALjr2ClJuf14dmLRc4mbKqkD5CRMS7lSuLj0R0kowZMDYiNP0asQkgEumwd+Yr52QrJaJEIIKoFJMOySCRytgOZmHz5fu1mfiKeSc2yOjIryXQR/NfgnH48GHFKzigpfKAkoWwcnP4jvTH8MG90f4Hc+YTfDkCkQiKGhXnIPvdCmX1Vor9K4B+818QrKyDw8EBaCk/4WNIwrB9vxZG7juGkydPFryO74Z/XWZJJY+wd+spNqsuLkJUbu6Lkf7DMbh3e/xgXqzSFdlfvkkba5aDWVkhfg2YgJrFytsncWFepWLR5PO9VuSOMWObsdEvEYc27MYzeb9XkI3rG7bicr46LHpOwqDqcuvD3MYCPweJ8ekFh72DGoSKO0ogH9zk29bNmqIKm+YlnT+Gy5nyfUqExqhf35q5TdlIiHsFmSQGz+OYsEV10LCOpvKgL0RogUb1zdlsIAk3Lt3DP/AOSjxq1s3QtAqb2CWdx7F3KlQNVo3rw5xNm5JuXMK9L6iE3MtbcVC3AzpaFDKrarbo0vkHaAqkeHGAuaUFaxYqooj+omaFxt+gjaXPzuB8tAQ9evZW7vnnMLH1eP3H55Gm0OXAAdSkkiFZOPei4WPH0GCv2mRqZEdtxu2myDfLtrl09df6bLIuIKGeJTl17EPudhokYBNqm87rKSw3gfb2tyQtgTqZOLpT518OUnJ+Mp2d3Y4sdTVI39aFPLw8qX3nGXQqk902/jCNbViWdKq0pv5dHclAZEley26S/Hb54Rupq60mmzirkXnLxXTp/k7qa6el2C7vOotOhe2m/mwiLd82c5lOJ8KDyb9+ WdLQKEvVm3uSl6cX+f0uX6ktCeTSlUAfamEjY vmVL4D8QJ36jqWt9wotQeTfpa3DmpAZm9ALtGyozYj1dE2+UJRzmVZ62JCmfKHB3JWmHYml5LOzqZ2lLmno25KLhxd5tu9MMxQVGkPB/vWprIYGla3enDxZXXv5/U6RH1kLkDzcToPrliW9qm7ksyJUUedy8u9tpZHutqQrZIZFqEtVvVYqU4og9woF+rQgG/lij7w9fuhEfcdupXeLt5WGNTFTfLSgZdOGRqy/xmpFXryV5GGjbGfXaXQkNunT/SXmS9tYSonHfqO+za0VCzQQGpFtI2dq6vwD2ZoaUuV6Xsrjvg1s3qZYui3m79nESIyKwKOkbAjLlIdNtcow+GDRRIz4u7fxjCrC3r48WKO8RzZi74ThaZ4hrB1sYaz8QoAs8wXu332KDG1TWNlZwfiNBc9G3L1wPErTRPmqDqjy4Q2LgRgJEXfwMFUDJpa2sDb5lP/0f4AsEy/u38XTDG2YWtnB6m2FQpwQgTsPU6FhYglbaxOF2/lf49P9pbhtLIOUzU/yJflsuiKAho4IWoUM+beCycyd/3iUw1ENvxZ/TYPD4XwVXGwcjgpgDmQodyM5nO8Mk5hMKJR/CszhcL43D+T/cLFxON8ZgUCwQ/HO3UgO57tyhomtmfyPD8TGH9LK4RRgYGAADw+Pt9+xLSZMWjnsrS6br92Xb3PLxuF8B5isxMyizWWvNz8m5WLjcL4xTFJn2duQ1xbtNVxsHM43gkkpSr4YUtiaFYaLjcMpPkImG3f23oi95Pq5yAT2N3sVqSUuNg6nmDBRyX+jXGz452wcjorgYuNwVAQXG4ejIrjYOBwVwcXG4agILjYOR0VwsXE4KoKLjcNREVxsHI6K4GLjcFRE8b6ulRmFI9t24MiNGGSz0/LzAV0zKzi07IkBzS0KPa+ 9JCFB7IVg3NRzQzuH0sp9JRRJPG4dPYFLUTFIlYhgVt0F7d1q4HVgV/HDQ1i+6iCi0wQwatAHo3wawUQ5XBaVVuKQpSJs/ 2nkNu+IH15HMJW8wJm1K7DzRjLyoQWLFgMwvFst6AsliL91FCcuRSEmVQKRWXW4tHdDjX8x2u3Xfl1L/k3lLyInLJA62ViSW8BBinhV8AhdaVYMXdk+lJx776QsxZ4SiOQe/dZQh8x8Qt481bekIo0PJK8mfrT52GW6EXqAfutQhSq0D6T7+SwtYR95V2tIky+kklQcSWs6WlPDX6+SWH5eEWklCym9uvU7jWpZmURaLrT46esQZGIKnVSLjJvNpTusI0kTD9NgOxNqF/SYJNJ4CvRqQn6bj9HlG6F04LcOVKVCewqUV8q/hFI6xUd5ftHk36aZ9XWpQp+9lKzc9Yb8G7Rs8eES3ZGlWa8oteT1vA9JP0t/Hop5E8o2//IEqq5dkyZfE9PDRS6k57rkTcTPnL8Hk4VZH9qXISkirWC7xJBzi/ZuOEg3z06luqJCYssPp+l1S1HdgDBlzLccOtDPlHQ7bqEMSqezfx6imLeVQhOqa1PNydeKFx/uG6KUTrH5Ikcj78Z2bL9ZGq26un0YXkjdEcNHtimItCKOQvAsX/QfMBgD+vTDqBVnESeVIPLAPEz+eQrW7P0D84d3g3uLdvBZcgEp+ZEI/m0CRo36GVPm/4k7WYD0+WmsmTkRY6cF4Vx8Ou5sn4wBffujX69+GLf5liKypvjuHsyd9DMCdl1F2N45GPLjNBzNTsCZJcPh3X8gu3dv+K67zRxIGRIvbsLsGTOwcO9dti1GVPAs +PYfgMED+qDfqBU4GyeFJPIA5k1meVizF3/MH45u7i3QzmcJLqS8iSKiGko7o3Nb87eNoqEOdVYG1vlw6cItiCytYaxM1LSvDsu0yzgfllZEmiJ6SclBuxa8vNvDQf+9bic0hKmxJjLS0lhp5eTgVWou9E2MoYHScO7cFuZvK0URJ1D2X/yxilKsRfJqQ3vS1mhAsyOKisaYQgcHWJNt//0ULx+FMm/STGdTqj/9BuWLT9FwqzLkOvMchT98S Nc29KTKpZxoXrSEJPfnUGNRRfI59HoYllD0wo7Ua0scJe75iSzshtCRZClJY7dQl/LW5Hs8kx0jplPDrahMXW+av2YLze05jNZu70MVms6nB/IsZp6iWXOOKK2tmA4PMCcz7wMUe3AAWdv2p/0FGaSbM53JtP50upGvvJ7rTDoX/pAeXttAPSuXIqd50e/EEFctUopf1470bf3pTNZDmt+kFNmOOqcINqEgcwt56RhQj133Pp32Z8n0N/LDAt61bIys26uoS10n6jNlDs0c1Y7qNvKjPU8/rH1p/Dpqp29L/mf+PVdFKZ1i894Q8zFkyMnOgUygDW3tIuaFaUeweY8YLsz6mcqvKqqJ/j86IHzbNlxRDLDqMLGtg+qWlqjbrS0c1ZOQkCiFmm0/DG6djX1r9yBePqxJbmHLaXP09hLh+I4QkGtnNDMUQmjaCs2rx+L0sbvyiylQt24D34G9Me73pfDITkbai9sIjc5k926GSePd3otrloW/N++B2KUr3AoyiJr9f4RD+DZsK8gg1E1sUae6JSzrdkNbR3UkJSQqYn7/K2SGYtHqp+g6fyKaaMkDPxAEhR/zKZCH35Kw/bmfTstXsWX +avLw/MZFPNevA6e6tVG7zg+okHMdF8JfKi3dazIRumg1nnadj4lNlBFZ/kN8gdiE0DMpCx16hZQi3CppwjO8EBvAxPj1KpEQBuVMoRX/HM/fDxQqEMj/Z1aV/S00RWffbtA7vg5boqXIPrMFYY7eaKmdhBfx2ci8GoQRQ4ZgiO9UnNdqgOrywIzvo6YGk07jMbFqKHxrVYRdyyFYcSHp3YaSpeL5CzEMmGvyJocG5WCqFY/nH2ZQvuKkzOC/QG4ENg6bjpcj/sRyD1MIBXrQ0xUgL0ceXF1JXjZypLrQK61fRNoXNG9JIC0YAeNOo8aYeRjk6YZ2vadgubc2gsYvxfU3TZOLiI3DMP3lCPy53KNgQP+P8UVZ1m7cAo11HuLSxdj3Rho5u Qg7fR6JOiKUEuRCnPv2CIk4B9JSIog+cxdRsyHoZ3cDG9cdx/6dCWjetzbUBaVQSosJ1skPy1evxurVQdh28CR2j6qrPOs9DJwxMSQKz8J2Ylj5C5jUbRxCCgfLk0csLSVArjj3bRkkYtYpS0H0uQyqEFnqJSwaOA2PemzEmp/soBi/hQawszHBq4QEyIOvypHEvECCwBJ29iafTqsqj0xZ8pEmPMKTTAM2b3sdDkwIY/Ny0Hz+AI/kTgcbKC8tGohpj3pg45qfYPffM2oKvqiXCc174pcR1XBt2UwcTnhPbpI72LPlHFLKNoKTbSLCw16b/lzcun4X6vWcUPdzgULVHeAz2BXxmwZhbr4nuldmtkdohDqOFoi7eAYRn53ny5B8aBsOJgL6dm4YsdAPjTNjEZtVKK8CfTRwskVieBheKnfn3rqOu+r1mOtSzEim3wlp7GFM6jsfWT/NZhZagMS4OMTFxSMlWwMN2YhvGBaK64owzzK8OH0OT2q1R7vKOkWk/XufRRUHNTMbWJZ+iZgXr+OFShH7JAa5lWxgpRaLw5P6Yn7WT5jtWwuCRHmdxCE+JfvtoPlfQTnn+zzSeDq9oDe5OHnSsFmraNPvm2j1gsnk07I62XgF0ROJlJJPTiXXOu40evFaWjWtO9Wv052CwjMp+sAYamqkQ44+Gyg0Pp5C13tTTW1jcp0QQg9fz4HTD5KPhXwB5O0ndtKYvTTM0YQqNupOw8aMIf8RU2jn/XzKubeHRjc1Ip3a/Whx8B3KICnFrfagau6jaUHQGprn40x1vXfSM6mYIg8to8EN9KhMvQG0aPsmmuRah9xHL6a1q6ZR9/p1qHtQOGVGH6Ax8us5+tCG0HiKD11P3jW1ydh1AoW8yeD3RkoJga2JyV7uDRZ6aZLL4qcklcbS/hFNqWm/2RS4eCS1qtuOFlyRLxbJTy0irSSReYt2z/+VJvR3IlONCtR8yCSasWg /S8ilu2t7UJ363WnaqvW0Z p4vuTo0ptEH4yg/IZBaa75fJyBNl8VUaH1FpbD7fxXFf+CPPKJlRASevcqHRhlDmFa0QkX9QtFAxQm4f+ch0jTLo5pDZeh98eAqQ2JENAS2dm+WsBXI73fvLp6Jy8DCzhblS3/qgnlIeXwfUbFZ0DC1Qw1rI3zcXomRcP8OHsojmVZzQOUvz2AJQIrUJ2GISNRG5ZrVUO6dFaCi0v4bSDOe4d7d58hQLwtrBzuYlNAyfO03SPjTtTicYvK1Yis5KwMczv85XGwcjorgYuNwVAQXG4ejIrjYOBwV8cFq5Pnz55V/cTicj+Hs7Pxtlv7Tc/61r95yOP8J9HTU+dI/h1OS4WLjcFQEFxuHoyK42DgcFcHFxuGoCC42DkdFcLFxOCqCi43DURFcbByOiuBi43BUBBcbh6MiuNg4HBXBxcbhqAguNg5HRXzBT2ykeHYsCLuvp7C/1FHRdTC6NzBQqFSWHIqdm04iRv4QVS0buA/uhpoixUn/h0gQFxqMsDJucKv+nYIqSuIRduwkrkbHIE0qQrlqTeHeqgYM1YC88J2Yt+4YnmZIIRRqo3y9bvDu1xyVtFg7xJ7Axi2hbx4+y5oVIoeuGNqhMiJ2z8SGE0+QIRVCqG2Oul0GoU8zC8WTlrOjD2L9ukOIzJRBs2wD/DisHxqYfL9H+0nib+HE6ct48CIVEh0zVHNuhxYORlBjdZtw+yhOX4lGbJoEOuXs0aSNG6p/LOBhXhQOr7uFij7dUENeCPFDHA0MxF8P0iAwbIAew/uj/usokNIEXN0WiF2hz5Et0IFR1fYYPMwNFf5hEb/ jT2zUUKnVAHTVOYN1KxdihPdY/JVY0KpCo0boPsARcWcSUG9gl/9joTGk0dgx0RvDV5yF4sHD3wFZ8n7MXXAJOg7N0KJxJcSv84JTtyBESYCcm4dxv+pELFm7Cavm/ATh9q7oOPEE5E9Ylzw/jj8OXkPE/XuIVL6i49LZ4JiDW0fuwW5cIFavW4/Zv YTY0cMdv5zKhPTJRvi0GY9IpylYsnIJBhrvgXenGbj2+qHE3xwZUg7OxKIrOrBv2hqNK8Vhfdc66LE2AhJZMkJ+m4drOg5wbtkEleLXoEfDTlgf+X4MBjFuLuqPgZO34GYO25QlIsTfE/PSOuHX5SswrMpfGNxtFm7IyyCLRbBvS4wMdcCwxeux4rfeKHXjDGL+xZ9rfuGPR2VIWtsJI9I6QBQ0DBebbMXJ9V1QTi7V3NOY0PUwPP+ch0Yl4yne3w1Zdioy1PSh972eNZ9xDvsvWKKDe0GMNsnVSXBq/Rfan7iKiQbhiNCvCQcDeYoU939rDJfdrjh8eQ5q3vwFI873wsox1d4LtSzB49v3oF+jJgpOu4u5LvXxp8sxbDEcB5ftTXHo8mzUkz9jNysYgxz8IFweidXtv8+omXFhD0Ire6G1ItiaBNem1EHbo544enEccg6eQ2XPtiivSLqCgAau+LvDWZwNqMv8qQIyLwVgcMBRXL9aFpMeHkSvV0vQoVEIOlz7G0MrsBPFxzCyljdy5kdgmdFUNOrxHOOv78KPyqf+ZqWkQM3Q8L3oRsVHJT8eFRh1xKz5PSDcMxrjdz//+LPWxVEImTsMvkOHwM/HGxMCzyL+E6OJ5MUprB7ng6G+g+HbtzsG/fYXCoymGA8OzMbowQPhP7QvhoxbiQvyoIVRB7Bk2ljMXL8X+xaPQF+PVugyZCkuJd1HyPyJmDCOpS3+E3flQRVjTmPjnEn4ZcYaXIyXITN8B6YP7acIMTVk0u8IK4iqiP0LJ2PyzN24fmcvFg3vjtnHspF4binGDvLBcHbvgf7rcUfCBptLm7Hgt5lYsV8eVJGdGh2M+f4+8PMbiEEDRyPofBykkkgcXvQLJv+6Fgf2LsDY3m3RwWsAVoWmfNlz6Us7w1MpNAVvgiEC6lVqK4UmR4rMjCyoGRkrXMxPo44qtZRCkyPNQGaWGoyMDZCa/ AooYwCD191GuxqqWqQi7HqUonzfg 9JOnZVCK0CjIKohCKXR2EspNAUfCXiYehLzVuTCe0wTiJR5zrlyEXdEVWBZVnmipj2qVknDtYvXcTXkCGLtm8LZ6O39RN9AaP+Etzn5IoQw9ZiHeb20cGjCSGx/+r6KXuHI6A6Y+tgNAStXY8Uyfxjt6Y6e825+2ICZpzDF0xunbMZhyaogrAoajcrPw/GK1e+rwyPQ9ZdHaDk9CEsDV8HX6A/0/fE33LV0Q93M/Vj9RwTKuY1EQEAv6J+ejKlbNdDawwDXN/yB+GruqM4GZrUKzmiqE4kE646orxGM0Z1n4FWnRVgRNB+uTyej77QTyNKuDvcfMnFo+QKsP5EC8yrqSIk5gCn9g1FxwhosZ/fuY56MBIkQxg27wzF5NzafeATJqxCM9ZqIJ61mY9mKtVjsVxb7enfCgnArtKiXgUOrdiGyXBv4zpiBH/VO4dfJG/C42O4Lc7tu3cLzis3ZvEY5tjN3K/ryKRzZPAVzzlTEiKneKIidQciIPoYd61YhaM1m7D//ABmF1C1LjsSVMyHYEjADZyv8jMl9bGBtXxXaz+7i3utIP2qG0GdT0eT4eCZlFcDKcvv2U1RwbY3qr02XElnyTdx+VgkubL6qSJIl4eisNdD2m4ympV+PDlIkxSUgT1QGZV73YqE+DPSBl3HP8fhhDDT1Jbi1cQYm+ vlg2Ojp2HX9Cwe970QxxcYQGsN95lL00j2MKf7r8LBwy6QdxfZgMZp0coNijiqqiZ+6OODezu24/l4kmoyja7Aj2RV9eynDImnXRb+RXiivlobj2/ZC7NwFLZRBCx36dIP93e3YfU0ZtNDYFrXsLVGlTle0qq2OlwmJgE1f9G+ZjZCNe6EItCO5hV1ny6ObhwlyTuzCUWoGj6aGEApN4epSHXFnj+P+6zypW6HVoAH4cfRmzG2XjZS0F7hzOZrNh0RwHjcOLd8bDtOPbcGB3Kbo2MpUUYGiGt7oZB+O3TuvQHFJdWNY166OKlXqwsvdE eovE/CyuD04MxQr1j1Fx9kT0Oi128rmKFGXQ3H9XhrKVDREfvJLRZgo9Sqe6OZsCiPrGrA3Z+7ZrFZo1H2NYq6nOC0pAlcuXcX99DKoYJiHlGQpynYJwJQGV/CLR0+MHT8KY3+ehaNPJZDJpIrIFd+bzMuLseFZF8z8uUlB+78hE1eWBeF5p7kY01ieIkN88DTsNBmL0Q11Cw5RIsmXgOSBH5Xb8oUhoVAIiSQXOXmswlNfQVCjG4b9EgBv61uY5tkb64s/6n0zii82htCoLQIW+8CAWZVRax69GS2kic8QKzaAcdnXvo0Q+qYm0Ep4jph3TJsUCU+eI6esOcq9meepobytNUpLExDzQgx948JBC01hohWPF+9ehFEoaCETkcegrihzcj12PpAi+9xWhNfqB1eRFC9j45GddQ0bxwzFyOHDMOuiFurZm6JwsM4C1KBm4oVRY6viqr8j7Gu2xsjAC4VW+eSwEfX5C4j1TfC2mAYwNdFCYkzMBxZcnj8B677F6sC5Edg6ciaSfXdjfvsCQStQr4Z2IyZh8tzVWOlfHgcH+2BVhBRCk/rw7PUj2jRzhnM7HwSsGIpyxxZi/SXl4FTVE37jf8XsFesx3CwYvoOWIlKjBgZsv4Oz26ag/6DxmDbLD42M1FGGuVpf1SmKQW7kJoyZ/RJDti9D23eiGuYi6nc/zE0eji2LPBQDtvTZNvy61wJ+A6tCmpWF7DwmMJIhPycHWrq6EOTlIPdN5eYhJ0cKEXOP9XS1ITSrDdf6dqhQriLq9feGq/pZHD7xUnms6vnqejVoNQuLB5ZD6KxfcCC5oDcKRMqAiHlve6ckV/yRgIgCiHRKsRlrBrLeH2gEutD5IGghG6mkpaCjU3R2RU0Ho6ftDWzdeByH/khA0961mRsiQCltLeZhNMagRYFYsjwQSzftR8jWkXB8z30pwACNxx7Ajahb2DDYDJemdceUw+ 9EVVTkXcDK9baYEojFUmiLdP5xR5UHQ 1zhG4An3dZjWU+l1WdIJfJw/G/RqVEDVpL7uBuRDxlLK1yNaqblUFaQgpSX+WyUf+csODjYQBIZhkhF5EQ16FWohmpW5aArCcf9xyzd0f4T0X++BTKkMos2fMYjdAkKQnfbQjZNloqrywZh9uPuWLWyN2wUSTK8PLoTBw4GwM2iLCzKl4V1+5V4lHMM46pZISCpMoxTE5H4NgokYhMFqGxbHfb2Vsh98RxJr4svKA1d1uXyWL/6t/gHfUMPLlNXYhCbVCdmFAwtQpOGaGiTiPt33gZEvHPzLtTrOKH2Oy3I5kBOTWCXcApHb2Qp9ykRmqB+I1u8vHcHSg0jN+w67qvXQ0PHz3QDdQf08XFF4tYhWJLviS4WctMjhKFjbVSMD8X5yPd82Y8gSz6EXYcUURXRctgCDGqYifi4wnkUomyDxrBOuovwt1EVceueOhwb1f1HHVUeDPHXgQuR1XMWBtQQsDlJHLu3PBgim1eOH41DhbKRd+8+HgttYGcL3F04BkGP3sot9+5dPNKoido2f2HSuP14e1oeIiIeQmhtD8vYEARfzFDulyEueCtO6XbBT25s0vNdkCLuyGQMWZKF7tOHooYgkZWNlS8+Bdn5sfibzT+XZvXG1EEFAQ/laQkpYhgPPIQXaTl4qXzF/u0PKx03LH6SgA1jOqGFQRiu3Cz4MEYWewahT2vB3d0a1Tp2gkPUcRyPU7ZR+mM8S63ABpNyBdv/Al/4ofYqrFm5AocEHdF/4ED4trV+4+JlXpyIdv75mHNhARppskn9menoM /EqavboBMu0E9h+GPhp3UZ427/rmbMJHi4v6ImBq2NRrVUz2JSRQazVEAOm9oBt+inM6TkO12v1hodVKs5sDQH6bsLyZo8we4gP1md6YsGSmWiNwwgY7ocjhv4IDJwBtyosVxkh8Ks3Blqrb2Khq07BrWQvcHCMJ0aGaMOlfSOYqedDp8EQjG9PODzNFyPWpaNNwFQM9/ZE1cw16NlmP yz7dYSt7Ap2/inDwF0rUCtc/lnNVPwp7YLJE3xgc3Mypl+rje4drZF2ajP+Qn8EBbriyYyBGLo2A+0Xr8BUN+Do1KEY85cRfIPWIKCNZUF+Por845V2qOZ/7E243gI04DQ3DKOiu2FWamu0r18ZpcUPcGrfWWj2WIWVfnWQuNgdPc44oEtLW+iJo1naBYj6rcHyPvGY7DwVaS074geLMsh5dBz7z2mi+7J1GCiYD4+fY9G0kyNKp4Qi+G8xPBevh199PeV9vzFsvrne0wKjT7xbOmg0xawz3XDCxQ8n309qshA3j/ijYiGTkHdpHBq1vw//BwfRR5/N50JGw3tpOlp2q4Wk/dvwsNVKbPL/gc22s3EnqD9Gh5jA06sqXh3dhDMVJ2PLPE+Y/UP342uX/r/PQ1rFCYgMf4h0zfKwrV50QETJq8e4FxUPqV4lWNuY422sQzESI+7gcZomylV1gMUXBy1knTYyGgIbO7xeES5AhswX9xARI0bpinawLl/6zYDxPnkpjxEZHYtsDVPYOFjD8BPmSpzA3LjHadA0qwZ7C71PXu/bkIuUJ9F4mpCGXDUDVK5WFeXe +OYSpD6LxOO4VJZmiCr2djB97XLnJuPJgydIShczV9oSVe3MlC69/HpReByfDplOBdZOFsUIXFmykKY+QXhkIrQtasLuvSiQkpSHuBOdBA1zB9hX0P3Hbr6ckiU2Duf/GP5EZA6nhMPFxuGoCC42DkdFcLFxOCqCi43DURFcbByOivhg6Z9HHuVwiuabRR7lcDhFI1B8+734cDeSw1ERXGwcjorgYuNwVAQXG4ejIrjYOBwVwcXG4agILjYORyUA/wNrwKzHcQJ38gAAAABJRU5ErkJggg==)\n"
            ],
            "metadata": {
                "id": "i2XD2tWrrxjH"
            }
        },
        {
            "cell_type": "markdown",
            "source": [
                "- Le prix A convertit presque 5 % mieux que le prix B (0,8425 % contre 0,8057 %\n",
                "une diff\u00e9rence de 0,0368 point de pourcentage), suffisamment important pour \u00eatre significatif dans une entreprise \u00e0 volume \u00e9lev\u00e9.\n",
                "- Nous avons plus de 45 000 points de donn\u00e9es ici, et il est tentant de\n",
                "consid\u00e9rez cela comme du \"big data\", ne n\u00e9cessitant pas de tests de signification statistique (n\u00e9cessaire principalement pour tenir compte de la variabilit\u00e9 d'\u00e9chantillonnage dans les petits \u00e9chantillons).\n",
                "- Cependant, le les taux de conversion sont si faibles (moins de 1 %) que les valeurs significatives r\u00e9elles \u2014les conversions - ne sont que dans les centaines, et la taille de l'\u00e9chantillon n\u00e9cessaire est vraiment\n",
                "d\u00e9termin\u00e9e par ces conversions.\n",
                "- Nous pouvons tester si la diff\u00e9rence de\n",
                "les conversions entre les prix A et B se situent dans la plage de variation al\u00e9atoire, en utilisant une proc\u00e9dure de r\u00e9\u00e9chantillonnage.\n",
                "- Par \u00ab variation al\u00e9atoire \u00bb, nous entendons la variation al\u00e9atoire\n",
                "produit par un mod\u00e8le de probabilit\u00e9 qui incarne l'hypoth\u00e8se nulle qu'il n'y a pas diff\u00e9rence entre les taux\n"
            ],
            "metadata": {
                "id": "t_yi5V30r7J_"
            }
        },
        {
            "cell_type": "markdown",
            "source": [
                "En r\u00e9utilisant la fonction **perm_fun** , nous pouvons\n",
                "cr\u00e9ez un histogramme des diff\u00e9rences permut\u00e9es de mani\u00e8re al\u00e9atoire dans le taux de conversion\u00a0:\n"
            ],
            "metadata": {
                "id": "v8p59vxOt9Rn"
            }
        },
        {
            "cell_type": "code",
            "source": [
                "random.seed(1)\n",
                "obs_pct_diff = 100 * (200 / 23739 - 182 / 22588)\n",
                "print(f'Observed difference: {obs_pct_diff:.4f}%')\n",
                "conversion = [0] * 45945\n",
                "conversion.extend([1] * 382)\n",
                "conversion = pd.Series(conversion)\n",
                "\n",
                "perm_diffs = [100 * perm_fun(conversion, 23739, 22588) \n",
                "              for _ in range(1000)]\n",
                "\n",
                "fig, ax = plt.subplots(figsize=(5, 5))\n",
                "ax.hist(perm_diffs, bins=11, rwidth=0.9)\n",
                "ax.axvline(x=obs_pct_diff, color='black', lw=2)\n",
                "ax.text(0.06, 200, 'Observed\\ndifference', bbox={'facecolor':'white'})\n",
                "ax.set_xlabel('Conversion rate (percent)')\n",
                "ax.set_ylabel('Frequency')\n",
                "\n",
                "plt.tight_layout()\n",
                "plt.show()"
            ],
            "metadata": {
                "colab": {
                    "base_uri": "https://localhost:8080/",
                    "height": 386
                },
                "id": "Q-BPC3I9gkb2",
                "outputId": "9bcd534b-e04b-400e-f5f8-a6bf2aea95f6"
            },
            "execution_count": null,
            "outputs": [
                {
                    "output_type": "stream",
                    "name": "stdout",
                    "text": [
                        "Observed difference: 0.0368%\n"
                    ]
                },
                {
                    "output_type": "display_data",
                    "data": {
                        "text/plain": [
                            "<Figure size 360x360 with 1 Axes>"
                        ],
                        "image/png": "[encoded data removed]"
                    },
                    "metadata": {
                        "needs_background": "light"
                    }
                }
            ]
        },
        {
            "cell_type": "markdown",
            "source": [
                "la diff\u00e9rence observ\u00e9e de 0,0368\u00a0% est bien dans la fourchette du hasard\n",
                "variation.\n"
            ],
            "metadata": {
                "id": "ZfilOi5luNcE"
            }
        },
        {
            "cell_type": "markdown",
            "source": [
                "**Valeur P**\n"
            ],
            "metadata": {
                "id": "3E3kFXaVgols"
            }
        },
        {
            "cell_type": "markdown",
            "source": [
                "- Le simple fait de regarder le graphique n'est pas un moyen tr\u00e8s pr\u00e9cis de mesurer les statistiques signification, donc la valeur p est plus int\u00e9ressante.\n",
                "- C'est la fr\u00e9quence avec laquelle\n",
                "le mod\u00e8le al\u00e9atoire produit un r\u00e9sultat plus extr\u00eame que le r\u00e9sultat observ\u00e9.\n",
                "\n",
                "- Nous pouvons estimer une valeur p \u00e0 partir de notre test de permutation en prenant la proportion de fois que le test de permutation produit une diff\u00e9rence \u00e9gale ou sup\u00e9rieure \u00e0 la valeur observ\u00e9e diff\u00e9rence:\n"
            ],
            "metadata": {
                "id": "8RYadzFFub64"
            }
        },
        {
            "cell_type": "markdown",
            "source": [
                "Si np.mean est appliqu\u00e9 \u00e0 une liste de bool\u00e9ens, il donne le pourcentage de la fr\u00e9quence \u00e0 laquelle True a \u00e9t\u00e9 trouv\u00e9 dans la liste (#True / #Total).\n"
            ],
            "metadata": {
                "id": "xzhNY7nXgrsk"
            }
        },
        {
            "cell_type": "code",
            "source": [
                "print(np.mean([diff > obs_pct_diff for diff in perm_diffs]))"
            ],
            "metadata": {
                "colab": {
                    "base_uri": "https://localhost:8080/"
                },
                "id": "U7S_P0Aogsjc",
                "outputId": "33f7c50b-e274-4c1c-d130-246721cbcbb7"
            },
            "execution_count": null,
            "outputs": [
                {
                    "output_type": "stream",
                    "name": "stdout",
                    "text": [
                        "0.332\n"
                    ]
                }
            ]
        },
        {
            "cell_type": "code",
            "source": [
                "survivors = np.array([[200, 23739 - 200], [182, 22588 - 182]])\n",
                "chi2, p_value, df, _ = stats.chi2_contingency(survivors)\n",
                "\n",
                "print(f'p-value for single sided test: {p_value / 2:.4f}')"
            ],
            "metadata": {
                "colab": {
                    "base_uri": "https://localhost:8080/"
                },
                "id": "JFwLyAjfgvkQ",
                "outputId": "b8b13dd3-364a-4595-e119-45e4c73d6a6c"
            },
            "execution_count": null,
            "outputs": [
                {
                    "output_type": "stream",
                    "name": "stdout",
                    "text": [
                        "p-value for single sided test: 0.3498\n"
                    ]
                }
            ]
        },
        {
            "cell_type": "markdown",
            "source": [
                "L'approximation normale donne une valeur de p de 0,3498, ce qui\n",
                "est proche de la valeur de p obtenue \u00e0 partir du test de permutation.\n"
            ],
            "metadata": {
                "id": "ZE5ezcSgvNvK"
            }
        },
        {
            "cell_type": "markdown",
            "source": [
                "**Tests-t**\n"
            ],
            "metadata": {
                "id": "snTKkBEsgxsW"
            }
        },
        {
            "cell_type": "markdown",
            "source": [
                "- Il existe de nombreux types de tests de signification, selon que les donn\u00e9es\n",
                "comprend les donn\u00e9es de comptage ou les donn\u00e9es mesur\u00e9es, le nombre d'\u00e9chantillons et ce qui est\n",
                "\u00e9tant mesur\u00e9.\n",
                "- Un tr\u00e8s courant est le test t, nomm\u00e9 d'apr\u00e8s la distribution t de Student, d\u00e9velopp\u00e9 \u00e0 l'origine par W. S.\n",
                "- Gossett pour approximer la distribution\n",
                "moyenne d'un seul \u00e9chantillon\n"
            ],
            "metadata": {
                "id": "5x4uxL5oAU8c"
            }
        },
        {
            "cell_type": "markdown",
            "source": [
                "- Tous les tests de signification n\u00e9cessitent que vous sp\u00e9cifiez une statistique de test pour mesurer l'effet qui vous int\u00e9resse et vous aide \u00e0 d\u00e9terminer si cet effet observ\u00e9 se situe dans la plage de variation normale du hasard.\n",
                "- Dans un test de r\u00e9\u00e9chantillonnage , l'\u00e9chelle des donn\u00e9es n'a pas d'importance.\n",
                "- Vous cr\u00e9ez la distribution de r\u00e9f\u00e9rence (hypoth\u00e8se nulle) \u00e0 partir des donn\u00e9es elles-m\u00eames,\n",
                "et utilisez la statistique de test telle quelle.\n",
                "- Dans les ann\u00e9es 1920 et 1930, lorsque les tests d'hypoth\u00e8ses statistiques \u00e9taient en cours de d\u00e9veloppement, il n'\u00e9tait pas possible de m\u00e9langer al\u00e9atoirement des donn\u00e9es des milliers de fois pour faire un r\u00e9\u00e9chantillonnage\n",
                "test.\n",
                "- Les statisticiens ont d\u00e9couvert qu'une bonne approximation de la permutation (m\u00e9lang\u00e9e) distribution \u00e9tait le test t, bas\u00e9 sur la distribution t de Gossett. Il est utilis\u00e9 pour le tr\u00e8s comparaison commune \u00e0 deux \u00e9chantillons \u2014 test A/B \u2014 dans laquelle les donn\u00e9es sont num\u00e9riques.\n",
                "- Mais pour que la distribution t soit utilis\u00e9e sans tenir compte de l'\u00e9chelle, une forme de la statistique de test doit \u00eatre utilis\u00e9e.\n",
                "- Un texte de statistique classique montrerait \u00e0 ce stade diverses formules qui int\u00e8grent la distribution de Gossett et montrez comment normaliser vos donn\u00e9es pour les comparer \u00e0 la distribution t standard.\n",
                "- Ces formules ne sont pas pr\u00e9sent\u00e9es ici car tous les logiciels statistiques, ainsi que R et Python, incluent des commandes qui incarnent le formule.\n",
                "- Dans Python, la fonction est stats.ttest_ind\u00a0:\n"
            ],
            "metadata": {
                "id": "3JNeXRLdAwYa"
            }
        },
        {
            "cell_type": "code",
            "source": [
                "res = stats.ttest_ind(session_times[session_times.Page == 'Page A'].Time, \n",
                "                      session_times[session_times.Page == 'Page B'].Time,\n",
                "                      equal_var=False)\n",
                "print(f'p-value for single sided test: {res.pvalue / 2:.4f}')"
            ],
            "metadata": {
                "colab": {
                    "base_uri": "https://localhost:8080/"
                },
                "id": "0gmGMHDNg0Mc",
                "outputId": "357a816e-36c3-48b0-a6d3-092621ef4527"
            },
            "execution_count": null,
            "outputs": [
                {
                    "output_type": "stream",
                    "name": "stdout",
                    "text": [
                        "p-value for single sided test: 0.1408\n"
                    ]
                }
            ]
        },
        {
            "cell_type": "markdown",
            "source": [
                "- L'hypoth\u00e8se alternative est que le temps de session moyen pour la page A est inf\u00e9rieur \u00e0 celui pour la page B.\n",
                "- La valeur p de 0,1408 est assez proche des valeurs p du test de permutation de\n",
                "0,121 et 0,126 .\n",
                "- Dans un mode de r\u00e9\u00e9chantillonnage, nous structurons la solution pour refl\u00e9ter les donn\u00e9es observ\u00e9es et les hypoth\u00e8se \u00e0 tester, sans se soucier de savoir si les donn\u00e9es sont num\u00e9riques ou binaires,que les tailles d'\u00e9chantillon soient \u00e9quilibr\u00e9es ou non, les variances d'\u00e9chantillon ou une vari\u00e9t\u00e9 d'autres facteurs\n",
                "teurs. Dans le monde des formules, de nombreuses variations se pr\u00e9sentent, et elles peuvent \u00eatreTests t | 111\n",
                "d\u00e9concertant.\n",
                "- Les statisticiens doivent naviguer dans ce monde et apprendre sa carte, mais la science des donn\u00e9es les entistes ne le font pas - ils ne sont g\u00e9n\u00e9ralement pas charg\u00e9s de transpirer les d\u00e9tails de tests d'hypoth\u00e8ses et intervalles de confiance comme un chercheur pr\u00e9parant un article pour pr\u00e9sentation pourrait.\n"
            ],
            "metadata": {
                "id": "8oNZrD2YOI0j"
            }
        },
        {
            "cell_type": "code",
            "source": [
                "tstat, pvalue, df = sm.stats.ttest_ind(\n",
                "    session_times[session_times.Page == 'Page A'].Time, \n",
                "    session_times[session_times.Page == 'Page B'].Time,\n",
                "    usevar='unequal', alternative='smaller')\n",
                "print(f'p-value: {pvalue:.4f}')"
            ],
            "metadata": {
                "colab": {
                    "base_uri": "https://localhost:8080/"
                },
                "id": "kFdoJ6bPg29T",
                "outputId": "ec567af5-14b1-45fa-a08a-c8aa530cc7cc"
            },
            "execution_count": null,
            "outputs": [
                {
                    "output_type": "stream",
                    "name": "stdout",
                    "text": [
                        "p-value: 0.1408\n"
                    ]
                }
            ]
        },
        {
            "cell_type": "markdown",
            "source": [
                "**ANOVA**\n"
            ],
            "metadata": {
                "id": "hX0EqCC9g7WL"
            }
        },
        {
            "cell_type": "markdown",
            "source": [
                "- Supposons qu'au lieu d'un test A/B, nous ayons une comparaison de plusieurs groupes, disons A/B/C/D, chacun avec des donn\u00e9es num\u00e9riques.\n",
                "- La proc\u00e9dure statistique qui teste une statistique diff\u00e9rence significative entre les groupes est appel\u00e9e analyse de variance, ou ANOVA.\n",
                "![image.png](data:image/png;base64,iVBORw0KGgoAAAANSUhEUgAAAOYAAAC9CAYAAACnIwGPAAAAAXNSR0IArs4c6QAAAARnQU1BAACxjwv8YQUAAAAJcEhZcwAADsMAAA7DAcdvqGQAACkrSURBVHhe7Z0JWBPX/v5fkkCQRVBRqa17xQ0VCiIiIkuVaqlFDLba2lu3Vq/SYqt43Zc+/f9REavWWpda9bYuFUFRiqC2LnUDXHBhEVBELIgoIEsgJJnfmTAokqgBTDK3ns/zHCfznTM5xzPzzjkzzHljxBBAofxDqMw6ir1njDBwtA/eNOOCKiqRdXQvzhgNxGifN/HUJh5ChUmh8BABt6RQKDyCCpNC4SFUmBQKD6HCpFB4CBUmhcJDND6VNTIy4j5RKJTG0pQ/eNAek0LhIVSYFAoPocKkUHgIFSaFwkOoMLXATLILRYpqVEplqMg5hiVeLV5SwwnQ0uFjhEaeRuIvk9FFyIVfiBkku4qgqK6EVFaBnGNL4NXiZdSoBXwW7cf51Eykn/sVwa4N+H+aSbCrSIHqSilkFTk4tsQLL6VKFl5YGncR6TeuIH7tB+gq4uIvRFdtxCHsiem/JeLE//OGmAu9VNinsvVhwzQ9SWaBu5ii0n3MOMt2zLg9d5mKU7OYrkLNeRuUTP2YzdcuMEcT7jKVCQuYXlp/pxkTuKuIKd03jrFsN47Zc7eCOTWrq4Z8DU0mTL9RU5jR7/gzCw/nM+ V/hTDdta2TWSCzq6iU2TfOkmk3bg9zt+IUM6urUHPehiThm4ynvzfjOX4Lk1aVy2x+R6w5n1rSVRuxScC0kvyXyZZWMQ9+DWBMNebRKC2teYmXkFcAxT1cTL4DtLSBjekAzIm5itt5d5EWsxBDWpKmNLXHlB1JyEyNxZ79CTi+zB0moo4IWHUUabdv4MSa0ehQt1esPIzpbw1E8KE8KLlQQ1Hcu4iaKtliwJwYXL2dh7tpMVg4pKVqu 6n9FOxIykRq7B7sTziOZe4mEHUMwKqjabh94wTWjO6AJ1WSITlqM/YdjsZPh67D6LU3YKt1L16LAvcuJuMOWsLG1lW7NoIIHQNW4Wjabdw4sQaj6zaSIhPH9/+Bk39cQm51NWQyLt4AnrSRDUwGzEHM1dvIu5uGmIVDUFOlhrQRwaQvgmbZ4/KRLPK/1RGcQJ+CDdP0JKl6zPJjzIIRE5ktV8uYW5uGM5aClkx3h+5Mu+4TmX35pUzc1HZM208imcL78cz8wDlMTIGMyVrrybw2ZhdzN30jM8otmDl8P41ZNcik3veLGPtFSUxFI3rM8mMLmBETtzBXy24xm4Y3Z1p2d2C6t+vOTNyXz5TGTWUgaMt8ElnI3I+fzwTOiWEKZFnMWs/XmDG77jLpG0cxbsGHmftpq5hBJvW/35IZ+XMuU3RwEmMrqL/tGUnVY5YzxxaMYCZuucqU3drEDG+uXRuJW41hdt1NZzaOcmOCD99n0lYNYkwef7eAaf/BeubsnSImY3sg017b+mhsI0tG0LI749C9HdN94j4mvzSOmdrOtoFtJGBsP97LpEdPY0aHpzEFtMc0MGIXTFs5BW2OzYD/7FiUKsuh6BCIZSum4C1zMdq+/gZ6uziiWcJv2BC5F3+my6FQCNB3yEC0VLSG20h7NJN3QM+eFtwXNh2xyzSsnNIGx2b4Y3bsI5QrOiBw2QpMecsc4ravA8a94eLYDAm/bUDk3j+RLldAIeiLIQNbQtHaDSPtm0HeoSfqV0nU63N85V+F336IQH6DunIxXKatxJQ2xzDDfzZiH2nTRgoYOwzBwJYKtHYbCftmcnTo2RNPqqTEo5Q47Np3CWYjQzDZhcigATzdRqVQlivQIXAZVkx5C+bitnj9DfuGtRE5D4K /7oW4tZF4KDCCkdAY4gaPKl4MFaa2SOMxu/9AjAzehuQScnzclmH/tpEo/TUMkRlyCIyEaGYqJuMmcrKRC2bNSx9GMDMjJ1JVKR4Up uHgqvn4KaFC9XUvA2n8bPQfOBLB25JRInbDsv3bMLL0V4RFZkBOThoYNUNNlciAi1SopkpmqKnSAxSmHcSq+T/hqSqJ+yB4fQja7fsKC+PIf7RBSBE/uz8GjgzGNtJI2rURWyUzmKIKpQ8KkXZwFeb/lIC6VSq5Go21s4Kx+aY9JP79uKh2PNVG5MLhtmw/to0sxa9hkciQC4iwGtZGoj5+GNG7F4KO5OOPL+1g88F/8fvXb9ZsfIlQYTYSi9590LkkCTFHHsLYkjSjkQIp19LBOPnjI/chcO7CPj6UI/VqGqotqnBlezjC1m3AoSuVNV/wsrHojT6dS5AUcwQPjS3JgSXCrE7BtXQGTv4fwX2IM2qqlIqradWwqLqC7eFhWLfhEJ5UyRLui3/G/NcPYen3qbDu0g5WTThDtGsjtppXkVZtgaor2xEetg4bDl3Bkyq9hvYtTWDW1Q1vvVGNvNx8bkNjsEDvPp1RkhSDIw+NUVOl1Aa1kTxpAfqakJ7SSIxBq9Jxf+eH8FmRWbPxJUKF2UiKj+5FrGgCoq6GwlVZDXEzE9zesRSrUvtiwU+foZtCCbmsEje3LkBo1jDsvlWE4pzd+Pg1HTV58VHsjRVhQtRVhLoqUS1uRrqB29ixdBVS+y7AT591g0Iph6zyJrYuCEXWsN24VVSMnN0f43GVzPwQ/MVbsO42Ab9cSkf69Z8x1obb1gi0ayMZlFlbsSA0C8N230JRcQ52f/za4xNTPGAejv8tRSn5jm6n5mHOz7e5LY2hGEf3xkI0IQpXQ12hrBajmcmdhrWRvuDuNZ+ CDdOkRRKZMxZiDXETdyY8vYL5M7gDexOvionMrRhzUb18Lz2JGHMLzX9OMHEPZ9Ir/mSCOwi4GMlrZc6QDuKpfC89NaCN2LxW5iK1vAJTa8ba/CX86YVLInMLhoxe1eIvu42aAhXmS0zCTpOYLfEHmAOnbjKP/o5kPu1Ye4ANlYRMp0lbmPgDB5hTNx8xf 0d+ynTU+qmmbtKr1EZNgU77eplYdcdQvyHkPuUeLsTHIClPzm0wHFbdh8JvSBeI7l1AfEwSDF6lV6iNNEhLa6gwKRQd0RRh6vuWlkKhaAEVJoXCQ6jhM4XCQ2iPSaHwECpMCoWHUGFSKDyEClMrynHjwFJ86CXBmmtP/shVkbIH8yReGLMuhYsAiqwtGO8VgrgqLqArym/gwNIP4SVZo1qVJYbCz9kRjo5scob/qmQSTMWOaf54x9cXH3+XgDJVTt1RfuMAln7oBcmaa2yFEOrnzNXHEc7+q0gOOZLDR8FZFRuAmYd09N5wLfXaSGP58mSEj+LqOWAmdF0lbaHC1AJ5yi/4/ihgVpqJvPKaeVCK7O2YMGEPbGbuws6gXqoYUIqja7biRE4OinU2g5ZFjpRfvsdRmKE0M08VMekfggPnE5GYeBzLnIAWXbugLPpbrKyejIio2bDaugJRxaqsukGegl9qGgmZeeVshRBy4DypTyKO11SIZKpCalIh3tl0lsTPIMyvYVO4GoZ6G2ksvyoVSYXvYNNZ0nZnwqDTKjUAKkwtYOcnrl3zL9g3r33xohInV68HE7QBwYNsUTNHgog1cyu2FHlguI2um1WEXp+vxZp/2eNxlcihFApFEEmPI+qyA0YPtVS9IC6XV0MBIYQmYp3MG3yMqBc+X7sG/7Jvzs5rUSEQCiESSXE86jIcRg8lDZSDm/m2sLMzJXFSJy6fbtDQRhrKV+TcRL6tHexMSduR+vIFKszGIEtG3EkpSuKn4m1nd3y2O5sES3FkdRy6TvaFpcJwf4EqjotAsrME3uaAtf8cTMidDx+fBcidOB/+llwmfVIch4hkZ0jYCimKoBTfQriHG8atPgtdduAa0VC+okgJ8a1weLiNw+qzeq/RM6HCbAzyO8jJt4LX3L2I3+6Lq8s3QnFjCzbcex /TBoi5TIbgIWIjUuAq8VT9YrL8TjKSjQdhzLBWuBUdjxsGeC31YWwEUlwl8GQrZ OKGBbFJuHhkHsw3TUdYkp4rpKF8E7cFiE26iCPzzLFpehj0XaVnQYXZGARimFq0R5eOZPjTuTs6leTgzp+nkZWxBR8M+Ry7049h6cQfkKLng6y8fwj7MtwROJi9UarCqe+/g3TscoQsXo+Jis3YfLoRTlZNQXkfh/ZlwD1wMOreugnaeMPXoQDpmXquD4d6+QK08faFQ0E6DFQlNagwG4OxPfp1ysKlazIo8rKRZ/MmOn0egWvJiTh3aiM+7O6DxVv/jV61N596QYmC6EhkewbCjeu0pZWVUFTLyRYhud8jFxM9d+bKgmhEZnsisLZCtVRcQVJGB/TtbcIF9IyG8iuuJCGjQ18Yqkr1ocJsDMKO+GS+Ly7M8IFHQATsQiZzGwyIMg9Rkbnwlrig5twSw2dGEAQbAzDKfxwi3piNqf31edYpkRcViVxvCVy4YqtOLsYwDx94uk/HdclKBPXR65VLQ/kKnFw8DB4+nnCffh2SlUHQc5WeCX1XtinIK1CuMIO5IW8rX4SyEqUVAlha8KMrkJcWQSpuAUsDVUe9fDlKi6QQt7DkLmj8gAqTQuEhdChLofAQKkwKhYdQYVIoPIQKk0LhIVSYFAoPocKkUHgIFSaFwkOoMCkUHkKFSaHwECpMrahnLaLJNqPyPMLHeMHFyRnDZ+1Hjk4dDAhqthkVuPbTFAwbPAQjgnYiSzWzRbMliq54ylqEUHHtJ0wZNhhDRgRhJ1uhytMIDfDEAOdBGLs2kdROx6i1EUsFUvbMg8RrDNbVTv+pSMGeeRJ4jVmn9xlBz4IKUwvUrEU02WaYdEHAiv04e2oLXP5aiDXndDl/SN02Q3l7G0I2N8eCgxGYWBKKBREPNVqi6Iz61iLK29gWshnNFxxExMQShC6IIG1kjylb4nHmwESUh4UiqqG/i9sgNFmLKJC9fQIm7LHBzF07EcRO/1FkY/uECdhjMxO7dgbpeUbQs6HC1AJ1axHScPVtMwSt0amTFYRmP dCvmwwPCnUpBHXbDFlyErK6DoSzdWt4D+6Iy2euaKy3zqhvLSJLRlJWVwx0tkZr78HoePkMaSMrtGppAqFpMzQzs4C5TkWgwVqk8iRWr2cQtCEYg2xrCq88uRrrmSBsCB4ELsQLqDCbQl3bjFpkl3E+tT0c+hpzAf0gaNUCJvm5uK9UorxSiooyXXvivQBBK7QwyUfufSWU5ZWQVrD1UeJe7CL4eYYC/1mE9+o0mz6QJcfhpLQE8VPfhrP7Z9idLUVy3ElIS+Ix9W1nuH+2G9m6vgXREirMJvCUbYYKcuJFrUN8t0kY21G/xk4mrlMQZL0N/r4SfLkzC9Zt23BbDISJK6YEWWObvy8kX5J7Xuu2JCiAtWMgvpzuhKzv1+NEaU1WfSG/k4N8Ky/M3RuP7b5XsXxjIu7k5MPKay72xm+H79Xl2HiBHzeZVJiNRYNthvJ+DBaGFWPy0jFoq++WFfbAZ/suIjHmJ3zSoyX6D+rNbTAUQvT4bB8uJsbgp096oGX/Qaqo2LYPhn62HJPbxCAyUdfmu08jEJvCon0XdBSJ0Ll7J5Tk5kFsaoH2XTqS25LO6N6pBLl3qTD/p1GzzVDmYd/X36Bw6jpMtTOcDWLJ2VCEZ4/C9GF6Hic+i5KzCA3Pxqjpw7gAoTobt++Re08b/ baTsX0/dMq6hGsyBfKy82DTpRvs+3VC1qVrkCnykJ1ngy5d+HGjSYXZKDTYZpz4FnN+y8Ll1e/DoY8jAn9Ir9mgL+RXsE7iiuErBJi1Yy4cDT4dX44r6yRwHb4Cglk7MJdUSHbuW/gN9oaX2yScHboE0+z1KwJhx08w3/cCZvh4ICDCDiGTHdDxk/nwvTADPh4BiLALwWSeeItQB4N/DDKUlSphZmnKm6utrKwUSjNLmNapkKKiGGWC5rCqG9Qz8opyKMzM8cQRRo6KcgXMeOQRQ4VJofAQOpSlUHgIFSaFwkOoMCkUHkKFSaHwECpMCoWHUGFSKDyECpNC4 SFUmBQKD6HC1IoXOxjIEkPh51yz7ujoDP9Vydy+rw5PORhocnmon0fXaOtgAAWytoyHV0gc9Pta/bOhwtQCbRwMTPqH4MD5RBI7jppQF27vV4T6DgaaXB7q59EpWjoYsJQexZqtJ5CTU0xy8AMqTC3QysGANKVQKIJIehxRlx0weqhlTcZXhfoOBgS1NtKQR3do52DAijVz6xYUeQyHDY/UQIXZFDQ4GBTHRSDZWYK6pgavNJpcHgyEuoMB6R9Lj2B1XFdM9rWEgkdvjVNhNgF1B4OHiI1IgavEkwygKCzqbWQ41B0MEnBjywbce38aBvDsx4epMBuLRgeDQ9iX4Y7AwbWRVxwNbWRI1BwMcq7gz9NZyNjyAYZ8vhvpx5Zi4g8p5O7U8FBhNhI1BwMoURAdiWzPQDwOveKot5FhUXMweNMVn0dcQ3LiOZza+CG6+yzG1n/3InenhocKs1GoOxiw1iJRkbnwlrjw6rf8DYeGNjIw6g4Gfbgt/INOlKa8cqg7GPAPKkwKhYfQoSyFwkOoMCkUHkKFSaHwECpMCoWHUGFSKDyECpNC4SFUmBQKD6HCpFB4CBUmhcJDqDC1op61CEGeHI5RnJXIgJmHVDHNthU6grPN2LLzDBcwPJpsQypS9mCexAtj1qUAlacRGuCJAc6DMHZtImlVHVPPWkSj/YsyDwfnvosBLsMwK+oudPkD/Q2BClML1KxFCFWpSSh8ZxPOJibiTJgfiTzDtkInPLHN+HFFNBczMBpsQxTZ2zFhwh7YzNyFnUG9ABN7TNkSjzMHJqI8LBRRJapsOkLdWkST/UtF/FIsSh+N33YHIG3xtzhWqcpqcKgwtUDdWkSBnJv5sLWzg6lIBCH7+6sabSt0hQbbDEOjZhtSiZOr14MJ2oDgQbY1U6kEVmjV0gRC02ZoZmYBc502k6Y2qm//IsalI2fw2rB30b7TO/CxScBxbkRkaKgwG4UCRUoxboV7wG3capwtfoZthV7hy yCMQ5aMuJNSlMRPxdvO7vhsdzYJKnEvdhH8PEOB/yzCewZyG3li/6JE/j0pbNpaQSBog7atinHvHhXm/zAmcFsQi6SLRzDPfBOmhyVpsK24wOXVE8pC7gNPkN9BTr4VvObuRfx2X1xdvpEEBbB2DMSX052Q9f16nCityapf6tq/KCGvVhJR1mxhl0qeXN+oMJsCucp6+zqgID1T3bYi9y6XST9UnfgGWXd0etPWMARimFq0R5eOZOjYuTs6leSqwmLbPhj62XJMbhODyET9u7g+bf8iRKtWJigpkpINpSh6ZInWbfghCSrMJlGBK0kZ6NC3t7ptRRc9+8pKK7E7LpVb4QHG9ujXKQuXrsmgyMtGnk2d9qjOxu171mhtw96c65P69i9iOA7sjczTZ1D66CwSC97CoN78sFugwmwMVSexeJgHfDzdMf26BCuD+hjctkLsMwPNY77Azdu3uYiBEXbEJ/N9cWGGDzwCImAXMhmyc9/Cb7A3vNwm4ezQJZhmr2d3HQ32L61GzcKYm7MwwH0piicEw9eC22BgqINBY5GToY9UjBaWT19hDWtboUR1VTWMxTwyzZBXoFxhBnOuSoqKYpQJmsPKlE99ggwVlUKYmeq7B382VJgUCg+hQ1kKhYdQYVIoPIQKk0LhIVSYFAoPocKkUHgIFSaFwkOoMCkUHkKFSaHwECpMrVB3MKi49hOmDBuMISOCsDOLjcmRHD4KzqrZ8QMw85COZ9y+cHZ+EhJD/VT1Wbp0qSqPrnnKwUCWiFA/Z64+jnD2X8Xl0r/LQ20b1VCvfFkqdkzzxzu+vvj4uwSUcbkMDvvmD+X5VF//kQmasYSZ4NSPmXOuimEU2cz64QOYr04UMQV7xzN9PtxFcpUxu8a6M/MTpEx1tZyR1+yqI6qZ6z8GMTOWTGCc +s3hYgpGLq8mZRcz0ZOcmE+jHpEQqUc1iRVHM9kpt7h8OqL6OvNj0AxmyQQnpt+cc6qQQi4n9almiqMnM U6fRpGInLm1bQzjMmoV81detSqP7tDURurll+79iLGfdJApLT/C/LvPaGZHkSpscGiPqQVqDgayZCRldcVAZ2u09h6MjpfPAIoc3My3hZ2dKUQiIXT71qU2s/MtSYjUQySC9HgUtp/X8ZQwNQcDtnghaQspjkddhsPooYZ3edBQvlwmA7mgQUGOmNBEDDFPXpelwmwMglZoYZKP3PtKKMsrIa0gAyBFEZTiWwj3cMO41WdRzGXVN09m53MBUpO4iGT8bduNW9czxXGISHaGhFTI0C4Pmsq39p+DCbnz4eOzALkT58OfXM/4ABVmYzBxxZQga2zz94Xky53Ism5LYm5YEJuEi0fmwXzTdIQlGcKiou7sfI6HsYhIcYXE83FErzyMjUCKqwRs8YZ2edBUvvxOMpKNB2HMsFa4FR2PG4Y4bBqgwmwUQvT4bB8uJsbgp096oGX/QVycNGgbb/g6FCA9U8ZF9MfTs/NVEdw/tA8Z7oF4HNInyvs4tC8D7oGDwRZvaJcH9fKzcer77yAduxwhi9djomIzNp/W/3HTBBVmUyg5i9DwbIyaPowLECquICmjA/rqfSZ8/dn5bKgA0ZHZ8Ax009P80Mc3vCqUBdGIzPZEIFchQ7s8qJffGdLKSiiq5aT1hOSeWAxTnkxlpcJsFHJcWSeB6/AVEMzagbmOJqg6uRjDPHzg6T4d1yUrEdTH8LPzlXlRiMz1hsRFXxeJusJUIi8qErneEtQWb2iXB/XyneAzIwiCjQEY5T8OEW/MxtT++r6gaoZOlG4ksrJSKM0sUXcivry0CFJxC9QzNaDUw7AuDxrKV1aitEIASwv+HDgqTAqFh9ChLIXCQ6gwKRQeQoVJofAQKkwKhYdQYVIoPIQKk0LhIVSYFAoPocKkUHhIw4RZVYT8glLw5AV8CuUfSwOEqUTBjo9h5xCMwzz5nXr9Uc9aRJNtRuV5hI/xgouTM4bP2o8cXU81VLPNkCF1xzT4v+ML34+/Q wLrkSFPRvgorp4DZkLXbieakEqlcHJy4q21SOX5cIzxcoGT83DM2p8Dff8O+LNogDBlSEyqQt9OmUhMe7X6THnKL/j+KGBWmom8ciVg0h8hB84jMTERx5c5AS26klgXBKzYj7OntsDlr4VYc06X04fkSPnlexyFGUoz82pCZdH4dmU1JkdEYbbVVqyIKiYjnFQkFb6DTWcTkXgmDH4GmPrVrFkznP5lXk0bkdM+e/sETNhjg5m7diKoly5f9NfQRhrKN+kSgBX7z+LUFhf8tXANdHrYGoD2wpSnIuFGG7w3VICL5wuhVObhl8n+WM5OCC47iJnvLcXpskzs/MIP7q7e+CIiB9UFO/H52GDMCRyBhccuYv04TwwaMBABK8+pTI+qUn/GpEEOGPjxp/hgdJiqGFnmTnzh5w5X7y8QofNuRzvUrEUIarYZgtbo1MkKQrMe6NdNhgeFuvzNcA22GXIZZHI5qkmTCYUmEIuFUOTcRL6tHexMRRCR+hqKStOevLUWEbTuhE5WQpj16IdusgfQ6WFrAFoLU3n/HC4Y9cO7/bvhLukpZIJWsGudgyN/3UXlpT9x0rgj2hxahHX4Cod2vo+05T/goqIMOQejcXvoN/hiSF9M2noUpw5NBX5Yi8Nl9xGxOAzlMw4j2l+OM5kPSSkPELloHfDVIex8Pw3Lf0iqKZyv1LHNeIzsMs6ntodDX2MuoCes/TFnQi7m+/ hgQe5EzPe3hKJICfGtcHi4jcPqs4YyOyFV69wLk97mp7VILbLL55Ha3gH6PmzPQmthViYkILtVc5SKbWB2OQHX5SboO6Q/ChLPISvhClq4D0Tu2Qsouf07lm9MxMO7GchUCCC08cb4T5zQWmSE4ovbsHjeLlwvKUTBw+tIvN4RXm/bomXfPuhsTKoiu46zF0pw+/fl2Jj4EHczMrnS+Uld24walLgXtQ7x3SZhbEc991DyO0hONsagMcPQ6lY04m/IYeK2ALFJF3Fknjk2T Q+DQdxOOFzIMJqP1iIqlPcQtS4e3SaNhb4P27PQUphyXDuXDHlJErbuyYSsIBEJ95UwdfVEr5unsTNJATevNyCrVMDW+X1IxszExt9XYngzwMjEGGIylJBfC8dHX1+A48yZGPE6KZaRQlolYI3cVLVQjTZIrFJhC+f3JRgzcyN+XzmcjfKTerYZNaEYLAwrxuSlY9BW60vey6Hq1Pf4TjoWy0MWY/1EBTZvPs1tEaCNty8cCtJhALeTx6gOM++sRdjylbgfsxBhxZOxdExb7XsqHaNdPcgV5fxFEQKXb8TmLZsx0/UWEhIrgeYeGNziOA7c64MhvZqhe+/OKCyQo6eTE5wcuqBlnW+vunIe2T3fxYgOlSh6pAQj6o7e7IOk86UoS89ALjuqMCaxzqQ3lfdUPclz6NKyZmceUt82g3UQ2Pf1Nyicug5T7Qxw2ZVWkotaNeTkHklIrnbiOh4ZFVeSkNGhL/TudlIPE9cPeWYt0oUctn34+ptCTF03FYY4bM9CO2FKzyHhjj36d2dvmC3g0v81XDmfQvZuC8+Bpihs6w4XsQCdxi9EQOqX8Hh7BPzmHEBRzd4qTN3ew1tnQjBs7M+4YSIjvWV7fDR3NDJDvDB6SxqE7MMJQSeMXxiA1C898PYIP8w5UPcb+IS6bUbViW8x57csXF79Phz6OCLwh/SaDXpC7DMDQYKNCBjlj3ERb2D21L44uXgYPHw84T79OiQrg6Bvt5P6CGy8eGYtYocT387Bb1mXsfp9B/RxDMQP6fx44KgDBwMlqsoqYGRh8dh75jGycpTDHOb1NsjOhcBl3mu4/MfMmoCyCmUVRrDgkdXD/wZKVJZWQGBZ2/ZylBZJIW5hqX4sDAjvrEV4iAGtRZT4+/AG7EirQuHvPyMt4AAOTdXv0IZC4SsG9fwpTT+CAyduQ9TDByM9Oj8xKaZQXnGoGReFwkP48nSYQqHUgQqTQuEhVJgUCg+hwqRQeAgVJoXCQxosTHnJX WRlP0DT5tyWI/3EH0gp4ckcGwqFZ2gvTFkmfpvhjt5uH+LzScHYmtqEV5cUeTiwaC72ZFNhUnRIPQcDWWIo/JxrXCccHZ3hvyoZladDEeA5AM6DxmJtYrkqXw0yJIb6wZlzqXB09seqZDnkyeEYxX3HgJmHuLw6gP075ouRM+nhXkzX9zczmVVcqCnIM5jlHi7MosvVXIBCedlUM9d/DGJmLJnAOPWbw8UUjFxezVRXFzPRk5yYT6MeMYriQuZBlZzJ3fIe0z7gv0wxl1OFQs7Iq0n+4mhmktOnDMnOlO0ay7jPT2CkJC6Xc/l0gHY9puIW9kflw++r8ej6+KVLJQp2fo6xwXMQOGIhjl1cj3GegzBgYABWniuD8v4uTA38N4LHuMHR5V/YdoP0sBWXsX6sCxy8QhB3/+neUn6t3v55v2Cy/3LVHMKygzPx3tLT9dwNqp9bPlCF1J8nYZDDQHz86QcYHXZZ1evXdVjgx+vKFN2gwcGADBCFQhFE0uOIuuyA0UMtIbBqhZYmQpg2awYzC3OyVx0EQghFIkiPR+Gyw2gMtVQg52Y+bO3sYEriujSF0E6Y8kxk3u2Enj1FKM48j5MnTuFqnhLCshwcjL6Nod98gSF9J2Hr0VOoMSg4jEpBGW4fuQibhXH4wZMI8tcruPfbMpXDQeyu0Wj16OkXjkQ96u3fyg6tc47gr7uVuPTnSRh3bFPP3eDic8svux+BxWHlmHE4Gv7yM8h8WI0HkU87LCTxxN+Fol+K4yKQ7CyBynhCeQ+xi/zgGQr8Z9F7qONFwVGMuIhkOEu8yTYFipRi3Ar3gNu41dClKYR2wmSUUCpkkMkUKLgUgx9nf4g5B4sgIFcUG+/x+MSpNURGxbi4bTHm7bqOksICPIIRhC3s8ZadOTp1tMWjBwVIu5iKLp4+eM22P5y61Lvc1N9f1BdD+ hcg8VwWEq60gPvAXDV3g+eV//B6Iq539MLbti3Rt09nGAsUuF7fYaGaK 5vyCvEQsREpcJV41rybLbCGY+CXmO6Uhe/Xn0CpKk8dHsYiIsUVEpVNhQncFsQi6eIRzDPfhOlhurO+0U6Yog7o0PYusm4CdoEL8KV37UxvI5gYi8m/clwL/whfX3DEzJkjwBoUqLYaGamcCciCwKCyqhoiY9ZUhWR4PLxg0bS/KVw9e+Hm6Z1IUrjB6w2ZBneDZ5fPSKWoEpChC8klUBXGQKrBYYHyaqG8fwj7MtwROLjWd0IM2z5D8dnyyWgTE4nEKi6sQon7h/Yhwz0Qj7OzCNrA29cBBem6s77hJPQCRD3w/ojmiPlhH+5ovDGrwpXz2ej57gh0qCzCIyVDZFAfId7s1h63rl5FZUU6Mp76Is37N/cYjBbHD+BenyHo1ex57gbq+4u690anzEScLy1DekYuGYSInuuwQHkVUKIgOhLZnoGoNZ6opTr7Nu5Zt4YNuZKXpJPR1gMlyV6A6MhseAa61Zu7WYErSRno0Lc3t/7y0fLUFKHf7M2YY/Id3nZ0x9Q9hbCwrHubbAq3997CmZBhGPvzDZjIpJCqKVOIzuNmYMDxyRjsvw13iK5klbUPgDTvL2jriYGmhWjr7gLxc90N1Pevav8R5o7ORIjXaGxJIzfxQuPnOixQXgGUeYiKzIW3xIWbOC7DuW/9MNjbC26TzmLokmmwFz3E/v+8i+DdeSR7FCJzvSF5bFNxEouHecDH0x3Tr0uwMkh3DgwNnvalrCpDORmdW4rVNS0rLwfMzZ8/W17BetOYwlRDJq32f467geb9SeOHuGDeawfwx8yOZP05DguUVxAFKorLIGhuBdPaU1pWBZmJWPP5IS9FkVSMFpa6PXv+ufMxlX/j8IYdSKsqxO8/pyHgwAFMrf/AiULhKf/ gidKlSD9yACdui9DDZyQ8OlN/BMr/DtTBgELhIfS5JIXCQ6gwKRQeonEo20XPDtl8ol27dvj777+5NcOjVCrZiQY1htgGYsqUKZg7dy639nI4ffo0x o8fz601DbZ9FAoFRCIDO1rXQSKRYMWKFdxaw9EozJs3b3KfXj0EAoFKDHyCrQ9bL0NhbW2Nli1f7s9VVFRUID8/n1trOqwwDXnxqo+VlRVatWrFrTUc+vCHQuEh9B6TQuEhVJgUCg+hwqRQeAgVJoXCQ6gwKRQeQoVJoVAo/0solcrOJI0kKYH9s9rLhHxnMFcMRQNPGXxQ+AU5f9m/mDcny+ZkacklCy6xxijsdmMjIyMRycN6trCvvtRPbB52yW5nP9eu126rXa/9/BpJ7dgl+V6dTckh9f1YIBD8yq1S6kGFqWPICWhNEvuOY3uSXieJPenbkGRDEvtqiBVJrHNFbWJn4Ko+E2H8k+dyDyX/v6PcZ0o9qDBfAmRYNpQsRpNUKzY2tWATOfnUHRFfcciFijV86kt6zJSaCKU+VJiNhIhxMVmMJakbER99iNYAiDDTiCh7cqsUDdATqoEQQdqR9CcR4xKSulNRNgpqtf0C6EnVAIggF5LFJSJGz5oIpZGc55aUZ0CFqSVElN3J4j9ElNQ8qOnEcUvKM6D3mFrCDV9pT9lE6P2ldtAeUwvIycTeT1JRvhxSuSXlOdAeUwtIb5lOhGnHrVIaCbnA5ZN27EpSBReiPAPaY2rHm9yS0gSIIOOoKLWDCvMFkN7Sl5xMtJ2aCOktc0g7fsqtUl4APeFeADmZBnIfKY2EiJLtJYfVrFG0gQrzBZCTit6HN50VAoEgnftM0QIqzBdzhltSGgG5sK0lolzKrVK0hPYGWkBOLmrx2UBIk8nIbcD/J2kJF6I0ANpjagE5yW5wHylaQNrrMll4U1E2HipM7djNLSnPgQgyj6RpZOjqSNJpLkxpBHQoqyVKpfIE6QE8uFVKHYgYC8giiqSZRJBSVZDSJKgwtYQIsxdZXCDiNK2JvNqwvSNZXCfpNyLGzaog5aVBhdkAyMm4hCR2hglr/fFKQP6/lWTB/voP+xNouSTlkPQdEeNdsqToCCrMBkJ6T nuyWK+vYS0RRhVZsImdXMyKhF3WxuQksTYd9RP7c2W129hl3XUFqbuCfG/dfdnPdfMfJ4k1/LpKBEgffBkAKsxGQgS6jCw+JCd5t5rIsyEiYN98KSbpIZcekFRIEntvxg4J2d6ojKRSbllCvpf9zC7pn2peQagwmwgRnZAkX/LRrSaietLNCo0d6t0h6RbpdVghUihaAvwfsaEK0zJoqPsAAAAASUVORK5CYII=)\n"
            ],
            "metadata": {
                "id": "c4_w25N0PFxC"
            }
        },
        {
            "cell_type": "markdown",
            "source": [
                "- Ce tableau montre la viscosit\u00e9 de quatre pages Web, d\u00e9finie comme le nombre de secondes par visiteur pass\u00e9 sur la page.\n",
                "- Les quatre pages sont d\u00e9sactiv\u00e9es afin que chaque visiteur du site\n",
                "en re\u00e7oit un au hasard.\n",
                "- Il y a un total de cinq visiteurs pour chaque page, et dans ce Table , chaque colonne est un ensemble de donn\u00e9es ind\u00e9pendant.\n",
                "- Le premier spectateur de la page 1 a pas de connexion au premier visualiseur pour la page 2.\n",
                "- Notez que dans un test web comme celui\u2010ci, nous pouvons\u2010\n",
                "ne met pas pleinement en \u0153uvre le plan d'\u00e9chantillonnage al\u00e9atoire classique dans lequel chaque visiteur est choisis au hasard parmi une immense population.\n",
                "- Il faut prendre les visiteurs comme ils viens.\n",
                "- Les visiteurs peuvent syst\u00e9matiquement diff\u00e9rer selon l'heure de la journ\u00e9e, la p\u00e9riode de la semaine, la mer.\n",
                "- fils de l'ann\u00e9e, les conditions de leur connexion Internet, l'appareil qu'ils utilisent, etc.\n",
                "\n",
                "- Ces facteurs doivent \u00eatre consid\u00e9r\u00e9s comme un biais potentiel lorsque les r\u00e9sultats de l'exp\u00e9rience sont\n",
                "revu.\n"
            ],
            "metadata": {
                "id": "LUxE_iOjRN13"
            }
        },
        {
            "cell_type": "markdown",
            "source": [
                "- Nous avons maintenant une \u00e9nigme (voir Figure 3-6). Lorsque nous comparions seulement deux groupes, c'\u00e9tait simple; nous avons simplement regard\u00e9 la diff\u00e9rence entre les moyens\n",
                "de chaque groupe.\n",
                "- Avec quatre moyennes, il y a six comparaisons possibles entre les groupes :\n",
                "\n",
                "- Page 1 par rapport \u00e0 la page 2\n",
                "\n",
                "- Page 1 par rapport \u00e0 la page 3\n",
                "\n",
                "- Page 1 par rapport \u00e0 la page 4\n",
                "\n",
                "- Page 2 par rapport \u00e0 la page 3\n",
                "\n",
                "- Page 2 par rapport \u00e0 la page 4\n",
                "\n",
                "- Page 3 par rapport \u00e0 la page 4\n",
                "\n",
                "- Plus nous faisons de telles comparaisons par paires, plus le potentiel d'\u00eatre\n",
                "tromp\u00e9 par hasard.\n",
                "- Au lieu de s'inqui\u00e9ter sur toutes les diff\u00e9rentes comparaisons entre les pages individuelles que nous pourrions \u00e9ventuellement faire, nous pouvons faire un seul test global qui r\u00e9pond \u00e0 la question, \"Toutes les pages pourraient-elles avoir la m\u00eame adh\u00e9rence sous-jacente, et les diff\u00e9rences entre elles sont dues \u00e0 la fa\u00e7on dont un ensemble commun de temps de session a \u00e9t\u00e9 r\u00e9parti entre les quatre pages\u00a0?\u00a0\u00bb\n"
            ],
            "metadata": {
                "id": "k4RtAVLjRlvs"
            }
        },
        {
            "cell_type": "code",
            "source": [
                "four_sessions = pd.read_csv(FOUR_SESSIONS_CSV)\n",
                "\n",
                "ax = four_sessions.boxplot(by='Page', column='Time',\n",
                "                           figsize=(4, 4))\n",
                "ax.set_xlabel('Page')\n",
                "ax.set_ylabel('Time (in seconds)')\n",
                "plt.suptitle('')\n",
                "plt.title('')\n",
                "\n",
                "plt.tight_layout()\n",
                "plt.show()"
            ],
            "metadata": {
                "colab": {
                    "base_uri": "https://localhost:8080/",
                    "height": 297
                },
                "id": "u0tI518yg9AA",
                "outputId": "d09e5b09-a56d-4a3c-8e76-d79125dbfc01"
            },
            "execution_count": null,
            "outputs": [
                {
                    "output_type": "display_data",
                    "data": {
                        "text/plain": [
                            "<Figure size 288x288 with 1 Axes>"
                        ],
                        "image/png": "[encoded data removed]"
                    },
                    "metadata": {
                        "needs_background": "light"
                    }
                }
            ]
        },
        {
            "cell_type": "code",
            "source": [
                "print(pd.read_csv(FOUR_SESSIONS_CSV).head())"
            ],
            "metadata": {
                "colab": {
                    "base_uri": "https://localhost:8080/"
                },
                "id": "nUcsAftWhAY6",
                "outputId": "988ece41-4491-4139-dae9-6f3f080c359f"
            },
            "execution_count": null,
            "outputs": [
                {
                    "output_type": "stream",
                    "name": "stdout",
                    "text": [
                        "     Page  Time\n",
                        "0  Page 1   164\n",
                        "1  Page 2   178\n",
                        "2  Page 3   175\n",
                        "3  Page 4   155\n",
                        "4  Page 1   172\n"
                    ]
                }
            ]
        },
        {
            "cell_type": "markdown",
            "source": [
                "- La proc\u00e9dure utilis\u00e9e pour tester cela est ANOVA. La base pour cela peut \u00eatre vue dans ce qui suit proc\u00e9dure de r\u00e9\u00e9chantillonnage (sp\u00e9cifi\u00e9e ici pour le test A/B/C/D de la page Web collant):\n",
                "1. Combinez toutes les donn\u00e9es ensemble dans une seule case.\n",
                "2. M\u00e9langez et tirez quatre r\u00e9\u00e9chantillons de cinq valeurs chacun.\n",
                "3. Enregistrez la moyenne de chacun des quatre groupes.\n",
                "4. Enregistrez la variance entre les moyennes des quatre groupes.\n",
                "5. R\u00e9p\u00e9tez les \u00e9tapes 2 \u00e0 4 plusieurs (disons, 3 000) fois.\n",
                "\n",
                "\n",
                "- la fonction perm_test calcule un test de permutation pour ce cas:\n"
            ],
            "metadata": {
                "id": "xM4NwFzBSMEf"
            }
        },
        {
            "cell_type": "markdown",
            "source": [
                "## FAIRE\n"
            ],
            "metadata": {
                "id": "KeEl6evLkBq2"
            }
        },
        {
            "cell_type": "code",
            "source": [
                "#to_do\n",
                "#calculate the variance of the mean of the four_sessions dataframe grouped by 'Page'\n",
                "observed_variance = #fill_here\n",
                "print('Observed means:', four_sessions.groupby('Page').mean().values.ravel())\n",
                "print('Variance:', observed_variance)\n",
                "# Permutation test example with stickiness\n",
                "def perm_test(df):\n",
                "    df = df.copy()\n",
                "    df['Time'] = np.random.permutation(df['Time'].values)\n",
                "    return df.groupby('Page').mean().var()[0]\n",
                "    \n",
                "print(perm_test(four_sessions))"
            ],
            "metadata": {
                "colab": {
                    "base_uri": "https://localhost:8080/"
                },
                "id": "qoxvwyHBhDVw",
                "outputId": "1c6ec445-a77b-4978-ba63-1955a4eac319"
            },
            "execution_count": null,
            "outputs": [
                {
                    "output_type": "stream",
                    "name": "stdout",
                    "text": [
                        "Observed means: [172.8 182.6 175.6 164.6]\n",
                        "Variance: 55.426666666666655\n",
                        "82.04\n"
                    ]
                }
            ]
        },
        {
            "cell_type": "code",
            "source": [
                "random.seed(1)\n",
                "perm_variance = [perm_test(four_sessions) for _ in range(3000)]\n",
                "print('Pr(Prob)', np.mean([var > observed_variance for var in perm_variance]))\n",
                "fig, ax = plt.subplots(figsize=(5, 5))\n",
                "ax.hist(perm_variance, bins=11, rwidth=0.9)\n",
                "ax.axvline(x = observed_variance, color='black', lw=2)\n",
                "ax.text(60, 200, 'Observed\\nvariance', bbox={'facecolor':'white'})\n",
                "ax.set_xlabel('Variance')\n",
                "ax.set_ylabel('Frequency')\n",
                "\n",
                "plt.tight_layout()\n",
                "plt.show()"
            ],
            "metadata": {
                "colab": {
                    "base_uri": "https://localhost:8080/",
                    "height": 386
                },
                "id": "S219uP9WhFgz",
                "outputId": "e5dd7daa-cfb0-4944-c9d7-1c5e544adf8c"
            },
            "execution_count": null,
            "outputs": [
                {
                    "output_type": "stream",
                    "name": "stdout",
                    "text": [
                        "Pr(Prob) 0.07766666666666666\n"
                    ]
                },
                {
                    "output_type": "display_data",
                    "data": {
                        "text/plain": [
                            "<Figure size 360x360 with 1 Axes>"
                        ],
                        "image/png": "[encoded data removed]"
                    },
                    "metadata": {
                        "needs_background": "light"
                    }
                }
            ]
        },
        {
            "cell_type": "markdown",
            "source": [
                "- La valeur de p, donn\u00e9e par Pr(Prob), est de 0,07766. En d'autres termes, \u00e9tant donn\u00e9 la m\u00eame adh\u00e9rence sous-jacente, 7,8\u00a0% du temps, le taux de r\u00e9ponse sur quatre pages peut diff\u00e9rer selon autant qu'on l'a effectivement observ\u00e9, juste par hasard. Ce degr\u00e9 d'improbabilit\u00e9 tombe en de\u00e7\u00e0 du seuil statistique traditionnel de 5\u00a0%, nous concluons donc que la diff\u00e9rence parmi les quatre pages aurait pu surgir par hasard.\n",
                "- La colonne Iter r\u00e9pertorie le nombre d'it\u00e9rations prises dans le test de permutation.\n",
                "-  les autres colonnes correspondent \u00e0 une table ANOVA traditionnelle et sont d\u00e9crites ci-apr\u00e8s.\n"
            ],
            "metadata": {
                "id": "ENFKTHfDWKTT"
            }
        }
    ]
}