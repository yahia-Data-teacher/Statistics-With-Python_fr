{
    "nbformat": 4,
    "nbformat_minor": 0,
    "metadata": {
        "kernelspec": {
            "name": "python3",
            "display_name": "Python 3"
        },
        "language_info": {
            "name": "python"
        }
    },
    "cells": [
        {
            "cell_type": "markdown",
            "metadata": {
                "id": "view-in-github",
                "colab_type": "text"
            },
            "source": [
                "<a href=\"https://colab.research.google.com/github/yahia-kplr/Statistics-With-Python_fr/blob/main/Exercices/4-Distribution_de_Probabilit%C3%A9s_avec_Python%E2%80%8B.ipynb\" target=\"_blank\"><img src=\"https://colab.research.google.com/assets/colab-badge.svg\" alt=\"Open In Colab\"/></a>"
            ]
        },
        {
            "cell_type": "markdown",
            "source": [
                "# **Importer des biblioth\u00e8ques**\n"
            ],
            "metadata": {
                "id": "GbczWN5KgsoG"
            }
        },
        {
            "cell_type": "code",
            "execution_count": null,
            "metadata": {
                "id": "yDBYINMsetdg"
            },
            "outputs": [],
            "source": [
                "import numpy as np\n",
                "import matplotlib.pyplot as plt\n",
                "import seaborn as sbn"
            ]
        },
        {
            "cell_type": "markdown",
            "source": [
                "# **G\u00e9n\u00e9ration de donn\u00e9es d'\u00e9chantillons al\u00e9atoires sous forme de distribution normale**\n"
            ],
            "metadata": {
                "id": "LNtDhmNXgx0k"
            }
        },
        {
            "cell_type": "markdown",
            "source": [
                "![image.png](https://user-images.githubusercontent.com/123752166/222191747-7a30052a-c40a-4c9f-9d59-8eccce939ca6.png)\n"
            ],
            "metadata": {
                "id": "L47l4bQfSEbN"
            }
        },
        {
            "cell_type": "code",
            "source": [
                "#TO_DO\n",
                "#try to generate a random sample data of 100000 size in normal distribution form with np.random.normal \n",
                "#fill_here\n",
                "plt.hist(sample_data)\n",
                "plt.show()  #to plot histogram without axises\n",
                "sbn.distplot(sample_data)\n",
                "# sbn.distplot(sample_data,kde=False)   #Note:- kde=False for remove Normal Dist line"
            ],
            "metadata": {
                "colab": {
                    "base_uri": "https://localhost:8080/",
                    "height": 585
                },
                "id": "U3iYJ4VEgzZj",
                "outputId": "e31e5cb9-7336-4637-856c-dc642ffa19b2"
            },
            "execution_count": null,
            "outputs": [
                {
                    "output_type": "display_data",
                    "data": {
                        "text/plain": [
                            "<Figure size 432x288 with 1 Axes>"
                        ],
                        "image/png": "https://user-images.githubusercontent.com/123752166/222191747-7a30052a-c40a-4c9f-9d59-8eccce939ca6.png"
                    },
                    "metadata": {
                        "needs_background": "light"
                    }
                },
                {
                    "output_type": "stream",
                    "name": "stderr",
                    "text": [
                        "/usr/local/lib/python3.8/dist-packages/seaborn/distributions.py:2619: FutureWarning: `distplot` is a deprecated function and will be removed in a future version. Please adapt your code to use either `displot` (a figure-level function with similar flexibility) or `histplot` (an axes-level function for histograms).\n",
                        "  warnings.warn(msg, FutureWarning)\n"
                    ]
                },
                {
                    "output_type": "execute_result",
                    "data": {
                        "text/plain": [
                            "<matplotlib.axes._subplots.AxesSubplot at 0x7f2163d9bbe0>"
                        ]
                    },
                    "metadata": {},
                    "execution_count": 2
                },
                {
                    "output_type": "display_data",
                    "data": {
                        "text/plain": [
                            "<Figure size 432x288 with 1 Axes>"
                        ],
                        "image/png": "https://user-images.githubusercontent.com/123752166/222192409-4e73ef3a-caaf-45e6-8d5b-7ff739eb91c4.png"
                    },
                    "metadata": {
                        "needs_background": "light"
                    }
                }
            ]
        },
        {
            "cell_type": "markdown",
            "source": [
                "# **Appliquer le th\u00e9or\u00e8me central limite sur les donn\u00e9es**\n"
            ],
            "metadata": {
                "id": "65XBz5sag4qo"
            }
        },
        {
            "cell_type": "markdown",
            "source": [
                "![image.png](https://user-images.githubusercontent.com/123752166/222192517-3a5d936c-be74-4247-a613-575ebf9fa550.png)\n"
            ],
            "metadata": {
                "id": "bQ9y8UmpSZNJ"
            }
        },
        {
            "cell_type": "markdown",
            "source": [
                "- C'est la distribution d'\u00e9chantillonnage des moyennes d'\u00e9chantillonnage qui se rapproche d'une distribution normale \u00e0 mesure que la taille de l'\u00e9chantillon augmente, quelle que soit la forme de la distribution des donn\u00e9es.\n",
                "- Une composante essentielle du th\u00e9or\u00e8me central limite est que la moyenne des moyennes de l'\u00e9chantillon sera la moyenne de la population.\n",
                "- De m\u00eame, si vous trouvez la moyenne de tous les \u00e9carts-types de votre \u00e9chantillon, vous trouverez l'\u00e9cart-type r\u00e9el pour votre population.\n",
                "\n",
                "\u00b5_\u00e9chantillon = \u00b5 # moyenne\n",
                "\u03c3_sample = \u03c3 / sqrt(n) # \u00e9cart type\n",
                "\u03c3_\u00e9chantillon ^2 = \u03c3^2 / n # variance\n",
                "O\u00f9,\n",
                "- (n>= 30) et\n",
                "- \u03bc = Moyenne de la population,\n",
                "- \u03c3 = \u00e9cart-type de la population,\n",
                "- \u03bc_sample = Moyenne de l'\u00e9chantillon,\n",
                "- \u03c3_sample = \u00e9cart-type de l'\u00e9chantillon,\n",
                "- n = taille de l'\u00e9chantillon\n"
            ],
            "metadata": {
                "id": "7Ps6HRZyg8zv"
            }
        },
        {
            "cell_type": "code",
            "source": [
                "def apply_CLT(sample_data,sample_size,total_samples):\n",
                "  sample_mean = []\n",
                "  for a in range(total_samples):  #iterating for total no of samples for choosing samples and their mean\n",
                "    sample = np.random.choice(sample_data, size = sample_size)    #Note:- replace=False for with-out replacement\n",
                "    #to_do\n",
                "    #Finding mean of random chose samples using numpy\n",
                "    #fill_here \n",
                "    #to_do\n",
                "    #add mean in sample_mean with append()\n",
                "    #fill_here    \n",
                "     \n",
                "  return sample_mean"
            ],
            "metadata": {
                "id": "X7ng56gng0ui"
            },
            "execution_count": null,
            "outputs": []
        },
        {
            "cell_type": "markdown",
            "source": [
                "# **Donn\u00e9es d'\u00e9chantillon de distribution normale**\n"
            ],
            "metadata": {
                "id": "RNvuI5NahMOM"
            }
        },
        {
            "cell_type": "code",
            "source": [
                "#TO_DO\n",
                "#try to generate a random sample data of 100 size in normal distribution form with np.random.normal \n",
                "\n",
                "sample_data = #fill_here\n",
                "sbn.distplot(sample_data)  "
            ],
            "metadata": {
                "colab": {
                    "base_uri": "https://localhost:8080/",
                    "height": 337
                },
                "id": "EyWFCJl2hOcz",
                "outputId": "15f1e8b4-aef9-4556-abeb-aa2a6d40b1da"
            },
            "execution_count": null,
            "outputs": [
                {
                    "output_type": "stream",
                    "name": "stderr",
                    "text": [
                        "/usr/local/lib/python3.8/dist-packages/seaborn/distributions.py:2619: FutureWarning: `distplot` is a deprecated function and will be removed in a future version. Please adapt your code to use either `displot` (a figure-level function with similar flexibility) or `histplot` (an axes-level function for histograms).\n",
                        "  warnings.warn(msg, FutureWarning)\n"
                    ]
                },
                {
                    "output_type": "execute_result",
                    "data": {
                        "text/plain": [
                            "<matplotlib.axes._subplots.AxesSubplot at 0x7f215ef87130>"
                        ]
                    },
                    "metadata": {},
                    "execution_count": 4
                },
                {
                    "output_type": "display_data",
                    "data": {
                        "text/plain": [
                            "<Figure size 432x288 with 1 Axes>"
                        ],
                        "image/png": "https://user-images.githubusercontent.com/123752166/222193007-4d2c1e44-5275-43c6-93d8-42afd219fa3f.png"
                    },
                    "metadata": {
                        "needs_background": "light"
                    }
                }
            ]
        },
        {
            "cell_type": "code",
            "source": [
                "#Appling CLT on sample data. Funtion = apply_CLT(sample_data,sample_size,total_samples)\n",
                "sbn.distplot( apply_CLT(sample_data,30,1000) )\n",
                "     "
            ],
            "metadata": {
                "colab": {
                    "base_uri": "https://localhost:8080/",
                    "height": 337
                },
                "id": "DwcpYxNmhTYq",
                "outputId": "24d9dca3-ad2a-41d4-8117-2fe1ce442d57"
            },
            "execution_count": null,
            "outputs": [
                {
                    "output_type": "stream",
                    "name": "stderr",
                    "text": [
                        "/usr/local/lib/python3.8/dist-packages/seaborn/distributions.py:2619: FutureWarning: `distplot` is a deprecated function and will be removed in a future version. Please adapt your code to use either `displot` (a figure-level function with similar flexibility) or `histplot` (an axes-level function for histograms).\n",
                        "  warnings.warn(msg, FutureWarning)\n"
                    ]
                },
                {
                    "output_type": "execute_result",
                    "data": {
                        "text/plain": [
                            "<matplotlib.axes._subplots.AxesSubplot at 0x7f215ef003d0>"
                        ]
                    },
                    "metadata": {},
                    "execution_count": 5
                },
                {
                    "output_type": "display_data",
                    "data": {
                        "text/plain": [
                            "<Figure size 432x288 with 1 Axes>"
                        ],
                        "image/png": "https://user-images.githubusercontent.com/123752166/222193132-c50fbbf9-0578-4af7-9978-ac65d4988e02.png"
                    },
                    "metadata": {
                        "needs_background": "light"
                    }
                }
            ]
        },
        {
            "cell_type": "markdown",
            "source": [
                "# **Donn\u00e9es d'\u00e9chantillon de distribution uniforme**\n"
            ],
            "metadata": {
                "id": "oPcEunbAhXii"
            }
        },
        {
            "cell_type": "markdown",
            "source": [
                "![image.png](https://user-images.githubusercontent.com/123752166/222193243-8e6c387a-1c02-4ffc-9999-46a25ba35eb8.png)\n"
            ],
            "metadata": {
                "id": "yLjOXdnfTJHW"
            }
        },
        {
            "cell_type": "code",
            "source": [
                "#TO_DO\n",
                "#try to generate a random sample data of 10000 size in normal distribution form with np.random.normal \n",
                "sample_data=#fill_here\n",
                "sbn.distplot(sample_data)"
            ],
            "metadata": {
                "colab": {
                    "base_uri": "https://localhost:8080/",
                    "height": 337
                },
                "id": "ccTdEy0mhZki",
                "outputId": "b0e82e44-a0e7-4417-cf92-6e62be2311fc"
            },
            "execution_count": null,
            "outputs": [
                {
                    "output_type": "stream",
                    "name": "stderr",
                    "text": [
                        "/usr/local/lib/python3.8/dist-packages/seaborn/distributions.py:2619: FutureWarning: `distplot` is a deprecated function and will be removed in a future version. Please adapt your code to use either `displot` (a figure-level function with similar flexibility) or `histplot` (an axes-level function for histograms).\n",
                        "  warnings.warn(msg, FutureWarning)\n"
                    ]
                },
                {
                    "output_type": "execute_result",
                    "data": {
                        "text/plain": [
                            "<matplotlib.axes._subplots.AxesSubplot at 0x7f2163dd1be0>"
                        ]
                    },
                    "metadata": {},
                    "execution_count": 6
                },
                {
                    "output_type": "display_data",
                    "data": {
                        "text/plain": [
                            "<Figure size 432x288 with 1 Axes>"
                        ],
                        "image/png": "https://user-images.githubusercontent.com/123752166/222193361-829c43cb-22b0-4624-adc7-1cd9c9cbb4ad.png"
                    },
                    "metadata": {
                        "needs_background": "light"
                    }
                }
            ]
        },
        {
            "cell_type": "code",
            "source": [
                "#Appling CLT on sample data. Funtion = apply_CLT(sample_data,sample_size,total_samples)\n",
                "sbn.distplot( apply_CLT(sample_data,30,100) )  #(30 0 and 100 0 0 0)"
            ],
            "metadata": {
                "colab": {
                    "base_uri": "https://localhost:8080/",
                    "height": 337
                },
                "id": "dbbeMDejheIt",
                "outputId": "2637b30a-cc4f-47e1-d9f7-0c8c6d28410a"
            },
            "execution_count": null,
            "outputs": [
                {
                    "output_type": "stream",
                    "name": "stderr",
                    "text": [
                        "/usr/local/lib/python3.8/dist-packages/seaborn/distributions.py:2619: FutureWarning: `distplot` is a deprecated function and will be removed in a future version. Please adapt your code to use either `displot` (a figure-level function with similar flexibility) or `histplot` (an axes-level function for histograms).\n",
                        "  warnings.warn(msg, FutureWarning)\n"
                    ]
                },
                {
                    "output_type": "execute_result",
                    "data": {
                        "text/plain": [
                            "<matplotlib.axes._subplots.AxesSubplot at 0x7f215eea7fa0>"
                        ]
                    },
                    "metadata": {},
                    "execution_count": 7
                },
                {
                    "output_type": "display_data",
                    "data": {
                        "text/plain": [
                            "<Figure size 432x288 with 1 Axes>"
                        ],
                        "image/png": "https://user-images.githubusercontent.com/123752166/222193519-2775e611-ddc9-4d9a-8244-b0710dc18beb.png"
                    },
                    "metadata": {
                        "needs_background": "light"
                    }
                }
            ]
        }
    ]
}